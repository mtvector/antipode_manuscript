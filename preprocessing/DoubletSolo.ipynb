{
 "cells": [
  {
   "cell_type": "code",
   "execution_count": 1,
   "id": "96d2f393-ca45-4d33-96b1-17c801e07f0e",
   "metadata": {},
   "outputs": [
    {
     "name": "stderr",
     "output_type": "stream",
     "text": [
      "/home/matthew.schmitz/Matthew/utils/miniforge3/envs/solo/lib/python3.12/site-packages/tqdm/auto.py:21: TqdmWarning: IProgress not found. Please update jupyter and ipywidgets. See https://ipywidgets.readthedocs.io/en/stable/user_install.html\n",
      "  from .autonotebook import tqdm as notebook_tqdm\n"
     ]
    },
    {
     "name": "stdout",
     "output_type": "stream",
     "text": [
      "GPU is available\n",
      "Number of GPUs: 1\n",
      "GPU Name: NVIDIA A100-PCIE-40GB\n",
      "not all packages available\n",
      "GSEApy not found. Can't get module enrichments\n"
     ]
    },
    {
     "ename": "ModuleNotFoundError",
     "evalue": "No module named 'ete3'",
     "output_type": "error",
     "traceback": [
      "\u001b[0;31m---------------------------------------------------------------------------\u001b[0m",
      "\u001b[0;31mModuleNotFoundError\u001b[0m                       Traceback (most recent call last)",
      "Cell \u001b[0;32mIn[1], line 24\u001b[0m\n\u001b[1;32m     22\u001b[0m \u001b[38;5;28;01mfrom\u001b[39;00m \u001b[38;5;21;01mgenomics\u001b[39;00m \u001b[38;5;28;01mimport\u001b[39;00m sc_analysis\n\u001b[1;32m     23\u001b[0m sys\u001b[38;5;241m.\u001b[39mpath\u001b[38;5;241m.\u001b[39mappend(\u001b[38;5;124m'\u001b[39m\u001b[38;5;124m/home/matthew.schmitz/Matthew/code/scANTIPODE/\u001b[39m\u001b[38;5;124m'\u001b[39m)\n\u001b[0;32m---> 24\u001b[0m \u001b[38;5;28;01mimport\u001b[39;00m \u001b[38;5;21;01mantipode\u001b[39;00m\n",
      "File \u001b[0;32m~/Matthew/code/scANTIPODE/antipode/__init__.py:11\u001b[0m\n\u001b[1;32m      9\u001b[0m \u001b[38;5;28;01mfrom\u001b[39;00m \u001b[38;5;21;01mantipode\u001b[39;00m \u001b[38;5;28;01mimport\u001b[39;00m train_utils\n\u001b[1;32m     10\u001b[0m \u001b[38;5;28;01mfrom\u001b[39;00m \u001b[38;5;21;01mantipode\u001b[39;00m \u001b[38;5;28;01mimport\u001b[39;00m post\n\u001b[0;32m---> 11\u001b[0m \u001b[38;5;28;01mfrom\u001b[39;00m \u001b[38;5;21;01mantipode\u001b[39;00m \u001b[38;5;28;01mimport\u001b[39;00m anndata_utils\n\u001b[1;32m     12\u001b[0m \u001b[38;5;28;01mfrom\u001b[39;00m \u001b[38;5;21;01mantipode\u001b[39;00m \u001b[38;5;28;01mimport\u001b[39;00m antipode_model\n\u001b[1;32m     14\u001b[0m \u001b[38;5;66;03m# You might also define some basic information or helper functions here\u001b[39;00m\n",
      "File \u001b[0;32m~/Matthew/code/scANTIPODE/antipode/anndata_utils.py:7\u001b[0m\n\u001b[1;32m      5\u001b[0m \u001b[38;5;28;01mfrom\u001b[39;00m \u001b[38;5;21;01mpathlib\u001b[39;00m \u001b[38;5;28;01mimport\u001b[39;00m Path\n\u001b[1;32m      6\u001b[0m \u001b[38;5;28;01mfrom\u001b[39;00m \u001b[38;5;21;01mtyping\u001b[39;00m \u001b[38;5;28;01mimport\u001b[39;00m Union, Literal, List, Dict\n\u001b[0;32m----> 7\u001b[0m \u001b[38;5;28;01mfrom\u001b[39;00m \u001b[38;5;21;01mete3\u001b[39;00m \u001b[38;5;28;01mimport\u001b[39;00m Tree\n\u001b[1;32m      8\u001b[0m \u001b[38;5;28;01mfrom\u001b[39;00m \u001b[38;5;21;01mscipy\u001b[39;00m\u001b[38;5;21;01m.\u001b[39;00m\u001b[38;5;21;01msparse\u001b[39;00m \u001b[38;5;28;01mimport\u001b[39;00m csr_matrix\n\u001b[1;32m      9\u001b[0m \u001b[38;5;28;01mimport\u001b[39;00m \u001b[38;5;21;01mpandas\u001b[39;00m \u001b[38;5;28;01mas\u001b[39;00m \u001b[38;5;21;01mpd\u001b[39;00m\n",
      "\u001b[0;31mModuleNotFoundError\u001b[0m: No module named 'ete3'"
     ]
    }
   ],
   "source": [
    "import scanpy as sc\n",
    "import os\n",
    "import numpy as np\n",
    "import seaborn\n",
    "import matplotlib\n",
    "import pandas as pd\n",
    "import sys\n",
    "import scvi\n",
    "import torch\n",
    "import scipy \n",
    "import tqdm\n",
    "\n",
    "if torch.cuda.is_available():\n",
    "    print(\"GPU is available\")\n",
    "    print(\"Number of GPUs:\", torch.cuda.device_count())\n",
    "    print(\"GPU Name:\", torch.cuda.get_device_name(0))\n",
    "else:\n",
    "    print(\"GPU is not available\")\n",
    "\n",
    "\n",
    "sys.path.append('/home/matthew.schmitz/utils/mts-utils/')\n",
    "from genomics import sc_analysis\n",
    "sys.path.append('/home/matthew.schmitz/Matthew/code/scANTIPODE/')\n",
    "import antipode\n"
   ]
  },
  {
   "cell_type": "code",
   "execution_count": 2,
   "id": "aca41ca4-4c2a-4ae6-8ce8-5d58b14e07f5",
   "metadata": {},
   "outputs": [],
   "source": [
    "adata=sc.read_h5ad('/allen/programs/celltypes/workgroups/rnaseqanalysis/EvoGen/Team/Matthew/data/taxtest/HvQvM/HvQvMall_cere_clean.h5ad',backed='r')"
   ]
  },
  {
   "cell_type": "code",
   "execution_count": 3,
   "id": "ecdf53a8-1e62-445a-8520-566086aa34a8",
   "metadata": {},
   "outputs": [],
   "source": [
    "#Doesn't work because doesn't support categorical covs\n",
    "#vae=scvi.model.SCVI.load('/allen/programs/celltypes/workgroups/rnaseqanalysis/EvoGen/Team/Matthew/models/SCVI_Dev.scvi',adata=adata)"
   ]
  },
  {
   "cell_type": "code",
   "execution_count": 4,
   "id": "339cf990-90b9-4f14-a878-f6dddfb18d92",
   "metadata": {},
   "outputs": [],
   "source": [
    "pred_list={}"
   ]
  },
  {
   "cell_type": "code",
   "execution_count": null,
   "id": "3ae5b335-014e-48ac-8d3b-3a3eaabdab21",
   "metadata": {},
   "outputs": [
    {
     "name": "stderr",
     "output_type": "stream",
     "text": [
      "An NVIDIA GPU may be present on this machine, but a CUDA-enabled jaxlib is not installed. Falling back to cpu.\n",
      "/home/matthew.schmitz/Matthew/utils/miniforge3/envs/solo/lib/python3.12/site-packages/lightning/fabric/plugins/environments/slurm.py:191: The `srun` command is available on your system but is not used. HINT: If your intention is to run Lightning on SLURM, prepend your python command with `srun` like so: srun python3.12 /home/matthew.schmitz/Matthew/utils/miniforge3/e ...\n",
      "GPU available: True (cuda), used: True\n",
      "TPU available: False, using: 0 TPU cores\n",
      "IPU available: False, using: 0 IPUs\n",
      "HPU available: False, using: 0 HPUs\n",
      "/home/matthew.schmitz/Matthew/utils/miniforge3/envs/solo/lib/python3.12/site-packages/lightning/fabric/plugins/environments/slurm.py:191: The `srun` command is available on your system but is not used. HINT: If your intention is to run Lightning on SLURM, prepend your python command with `srun` like so: srun python3.12 /home/matthew.schmitz/Matthew/utils/miniforge3/e ...\n",
      "LOCAL_RANK: 0 - CUDA_VISIBLE_DEVICES: [0]\n"
     ]
    },
    {
     "name": "stdout",
     "output_type": "stream",
     "text": [
      "Epoch 1/100:   0%|          | 0/100 [00:00<?, ?it/s]"
     ]
    },
    {
     "name": "stderr",
     "output_type": "stream",
     "text": [
      "/home/matthew.schmitz/Matthew/utils/miniforge3/envs/solo/lib/python3.12/site-packages/scvi/module/_vae.py:458: UserWarning: The value argument must be within the support of the distribution\n",
      "  reconst_loss = -generative_outputs[\"px\"].log_prob(x).sum(-1)\n",
      "/home/matthew.schmitz/Matthew/utils/miniforge3/envs/solo/lib/python3.12/site-packages/scvi/module/_vae.py:458: UserWarning: The value argument must be within the support of the distribution\n",
      "  reconst_loss = -generative_outputs[\"px\"].log_prob(x).sum(-1)\n"
     ]
    },
    {
     "name": "stdout",
     "output_type": "stream",
     "text": [
      "Epoch 2/100:   1%|          | 1/100 [05:48<9:35:05, 348.54s/it, v_num=1, train_loss_step=4.56e+3, train_loss_epoch=4.44e+3]"
     ]
    },
    {
     "name": "stderr",
     "output_type": "stream",
     "text": [
      "/home/matthew.schmitz/Matthew/utils/miniforge3/envs/solo/lib/python3.12/site-packages/scvi/module/_vae.py:458: UserWarning: The value argument must be within the support of the distribution\n",
      "  reconst_loss = -generative_outputs[\"px\"].log_prob(x).sum(-1)\n",
      "/home/matthew.schmitz/Matthew/utils/miniforge3/envs/solo/lib/python3.12/site-packages/scvi/module/_vae.py:458: UserWarning: The value argument must be within the support of the distribution\n",
      "  reconst_loss = -generative_outputs[\"px\"].log_prob(x).sum(-1)\n"
     ]
    },
    {
     "name": "stdout",
     "output_type": "stream",
     "text": [
      "Epoch 3/100:   2%|▏         | 2/100 [11:33<9:25:54, 346.47s/it, v_num=1, train_loss_step=4.34e+3, train_loss_epoch=4.37e+3]"
     ]
    },
    {
     "name": "stderr",
     "output_type": "stream",
     "text": [
      "/home/matthew.schmitz/Matthew/utils/miniforge3/envs/solo/lib/python3.12/site-packages/scvi/module/_vae.py:458: UserWarning: The value argument must be within the support of the distribution\n",
      "  reconst_loss = -generative_outputs[\"px\"].log_prob(x).sum(-1)\n",
      "/home/matthew.schmitz/Matthew/utils/miniforge3/envs/solo/lib/python3.12/site-packages/scvi/module/_vae.py:458: UserWarning: The value argument must be within the support of the distribution\n",
      "  reconst_loss = -generative_outputs[\"px\"].log_prob(x).sum(-1)\n"
     ]
    },
    {
     "name": "stdout",
     "output_type": "stream",
     "text": [
      "Epoch 4/100:   3%|▎         | 3/100 [17:14<9:16:12, 344.05s/it, v_num=1, train_loss_step=4.2e+3, train_loss_epoch=4.35e+3] "
     ]
    },
    {
     "name": "stderr",
     "output_type": "stream",
     "text": [
      "/home/matthew.schmitz/Matthew/utils/miniforge3/envs/solo/lib/python3.12/site-packages/scvi/module/_vae.py:458: UserWarning: The value argument must be within the support of the distribution\n",
      "  reconst_loss = -generative_outputs[\"px\"].log_prob(x).sum(-1)\n",
      "/home/matthew.schmitz/Matthew/utils/miniforge3/envs/solo/lib/python3.12/site-packages/scvi/module/_vae.py:458: UserWarning: The value argument must be within the support of the distribution\n",
      "  reconst_loss = -generative_outputs[\"px\"].log_prob(x).sum(-1)\n"
     ]
    },
    {
     "name": "stdout",
     "output_type": "stream",
     "text": [
      "Epoch 5/100:   4%|▍         | 4/100 [22:58<9:10:25, 344.02s/it, v_num=1, train_loss_step=4.08e+3, train_loss_epoch=4.35e+3]"
     ]
    },
    {
     "name": "stderr",
     "output_type": "stream",
     "text": [
      "/home/matthew.schmitz/Matthew/utils/miniforge3/envs/solo/lib/python3.12/site-packages/scvi/module/_vae.py:458: UserWarning: The value argument must be within the support of the distribution\n",
      "  reconst_loss = -generative_outputs[\"px\"].log_prob(x).sum(-1)\n",
      "/home/matthew.schmitz/Matthew/utils/miniforge3/envs/solo/lib/python3.12/site-packages/scvi/module/_vae.py:458: UserWarning: The value argument must be within the support of the distribution\n",
      "  reconst_loss = -generative_outputs[\"px\"].log_prob(x).sum(-1)\n"
     ]
    },
    {
     "name": "stdout",
     "output_type": "stream",
     "text": [
      "Epoch 6/100:   5%|▌         | 5/100 [28:45<9:06:04, 344.89s/it, v_num=1, train_loss_step=4.21e+3, train_loss_epoch=4.34e+3]"
     ]
    },
    {
     "name": "stderr",
     "output_type": "stream",
     "text": [
      "/home/matthew.schmitz/Matthew/utils/miniforge3/envs/solo/lib/python3.12/site-packages/scvi/module/_vae.py:458: UserWarning: The value argument must be within the support of the distribution\n",
      "  reconst_loss = -generative_outputs[\"px\"].log_prob(x).sum(-1)\n",
      "/home/matthew.schmitz/Matthew/utils/miniforge3/envs/solo/lib/python3.12/site-packages/scvi/module/_vae.py:458: UserWarning: The value argument must be within the support of the distribution\n",
      "  reconst_loss = -generative_outputs[\"px\"].log_prob(x).sum(-1)\n"
     ]
    },
    {
     "name": "stdout",
     "output_type": "stream",
     "text": [
      "Epoch 7/100:   6%|▌         | 6/100 [34:23<8:56:50, 342.66s/it, v_num=1, train_loss_step=4.66e+3, train_loss_epoch=4.34e+3]"
     ]
    },
    {
     "name": "stderr",
     "output_type": "stream",
     "text": [
      "/home/matthew.schmitz/Matthew/utils/miniforge3/envs/solo/lib/python3.12/site-packages/scvi/module/_vae.py:458: UserWarning: The value argument must be within the support of the distribution\n",
      "  reconst_loss = -generative_outputs[\"px\"].log_prob(x).sum(-1)\n",
      "/home/matthew.schmitz/Matthew/utils/miniforge3/envs/solo/lib/python3.12/site-packages/scvi/module/_vae.py:458: UserWarning: The value argument must be within the support of the distribution\n",
      "  reconst_loss = -generative_outputs[\"px\"].log_prob(x).sum(-1)\n"
     ]
    },
    {
     "name": "stdout",
     "output_type": "stream",
     "text": [
      "Epoch 8/100:   7%|▋         | 7/100 [40:03<8:49:49, 341.82s/it, v_num=1, train_loss_step=4.39e+3, train_loss_epoch=4.34e+3]"
     ]
    },
    {
     "name": "stderr",
     "output_type": "stream",
     "text": [
      "/home/matthew.schmitz/Matthew/utils/miniforge3/envs/solo/lib/python3.12/site-packages/scvi/module/_vae.py:458: UserWarning: The value argument must be within the support of the distribution\n",
      "  reconst_loss = -generative_outputs[\"px\"].log_prob(x).sum(-1)\n",
      "/home/matthew.schmitz/Matthew/utils/miniforge3/envs/solo/lib/python3.12/site-packages/scvi/module/_vae.py:458: UserWarning: The value argument must be within the support of the distribution\n",
      "  reconst_loss = -generative_outputs[\"px\"].log_prob(x).sum(-1)\n"
     ]
    }
   ],
   "source": [
    "scvi.model.SCVI.setup_anndata(adata,batch_key=\"batch_name\",layer='spliced')\n",
    "vae = scvi.model.SCVI(adata,n_hidden=1028,n_layers=3,n_latent=100)\n",
    "vae.train(max_epochs=100)"
   ]
  },
  {
   "cell_type": "code",
   "execution_count": null,
   "id": "987d28ec-ee2c-4617-b56d-fb581e5f627d",
   "metadata": {},
   "outputs": [],
   "source": [
    "vae.save('/allen/programs/celltypes/workgroups/rnaseqanalysis/EvoGen/Team/Matthew/data/taxtest/extra/solo_outs/scvi_vae', overwrite=True) "
   ]
  },
  {
   "cell_type": "code",
   "execution_count": null,
   "id": "357fd38d-54d9-4591-84e8-54302a081747",
   "metadata": {},
   "outputs": [],
   "source": [
    "vae=scvi.model.SCVI.load('/allen/programs/celltypes/workgroups/rnaseqanalysis/EvoGen/Team/Matthew/data/taxtest/extra/solo_outs/scvi_vae',adata=adata)"
   ]
  },
  {
   "cell_type": "code",
   "execution_count": null,
   "id": "4c9627f3-9842-4129-9bca-b48d4bdf34a7",
   "metadata": {},
   "outputs": [],
   "source": [
    "for b in adata.obs['batch_name'].unique():\n",
    "    if (adata.obs['batch_name']==b).sum()>1000:\n",
    "        if not b in pred_list.keys():\n",
    "            try:\n",
    "                try:\n",
    "                    print(b)\n",
    "                    solo_batch_1 = scvi.external.SOLO.from_scvi_model(vae, restrict_to_batch=b)\n",
    "                    solo_batch_1.train(train_size=0.9,early_stopping=False)\n",
    "                    predictions=solo_batch_1.predict()\n",
    "                    pred_list[b]=pd.DataFrame(scipy.special.softmax(predictions.to_numpy(),axis=-1),columns=predictions.columns,index=predictions.index)\n",
    "                except:\n",
    "                    solo_batch_1 = scvi.external.SOLO.from_scvi_model(vae, restrict_to_batch=b,)\n",
    "                    solo_batch_1.train(train_size=0.8,early_stopping=False)\n",
    "                    predictions=solo_batch_1.predict()\n",
    "                    pred_list[b]=pd.DataFrame(scipy.special.softmax(predictions.to_numpy(),axis=-1),columns=predictions.columns,index=predictions.index)\n",
    "            except:\n",
    "                print('FAILFAILFAILFAILFAIL')"
   ]
  },
  {
   "cell_type": "code",
   "execution_count": null,
   "id": "e9729463-ff79-419a-ae37-b6dd2f309070",
   "metadata": {},
   "outputs": [],
   "source": [
    "pred_list"
   ]
  },
  {
   "cell_type": "code",
   "execution_count": null,
   "id": "6992931d-0bb2-4e9a-aee0-4342e3461c7d",
   "metadata": {},
   "outputs": [],
   "source": [
    "for k in pred_list.keys():\n",
    "    print(k)\n",
    "    pred_list[k].to_csv(os.path.join('/allen/programs/celltypes/workgroups/rnaseqanalysis/EvoGen/Team/Matthew/data/taxtest/extra/solo_outs',k+'.csv'))"
   ]
  },
  {
   "cell_type": "code",
   "execution_count": null,
   "id": "f3456d1b-bbe6-4367-a8c3-bdb9df2b67c0",
   "metadata": {},
   "outputs": [],
   "source": []
  },
  {
   "cell_type": "code",
   "execution_count": 28,
   "id": "048a223f-e633-482f-b61e-455dde6b37ab",
   "metadata": {},
   "outputs": [
    {
     "name": "stdout",
     "output_type": "stream",
     "text": [
      "GPU is available\n",
      "Number of GPUs: 1\n",
      "GPU Name: NVIDIA A100-PCIE-40GB\n"
     ]
    },
    {
     "name": "stderr",
     "output_type": "stream",
     "text": [
      "/home/matthew.schmitz/Matthew/utils/miniforge3/envs/solo/lib/python3.12/site-packages/lightning/fabric/plugins/environments/slurm.py:191: The `srun` command is available on your system but is not used. HINT: If your intention is to run Lightning on SLURM, prepend your python command with `srun` like so: srun python3.12 /home/matthew.schmitz/Matthew/utils/miniforge3/e ...\n",
      "GPU available: True (cuda), used: True\n",
      "TPU available: False, using: 0 TPU cores\n",
      "IPU available: False, using: 0 IPUs\n",
      "HPU available: False, using: 0 HPUs\n",
      "/home/matthew.schmitz/Matthew/utils/miniforge3/envs/solo/lib/python3.12/site-packages/lightning/fabric/plugins/environments/slurm.py:191: The `srun` command is available on your system but is not used. HINT: If your intention is to run Lightning on SLURM, prepend your python command with `srun` like so: srun python3.12 /home/matthew.schmitz/Matthew/utils/miniforge3/e ...\n",
      "LOCAL_RANK: 0 - CUDA_VISIBLE_DEVICES: [0]\n"
     ]
    },
    {
     "name": "stdout",
     "output_type": "stream",
     "text": [
      "Epoch 200/200: 100%|██████████| 200/200 [48:27<00:00, 14.56s/it, v_num=1, train_loss_step=5.44e+3, train_loss_epoch=5.76e+3]"
     ]
    },
    {
     "name": "stderr",
     "output_type": "stream",
     "text": [
      "`Trainer.fit` stopped: `max_epochs=200` reached.\n"
     ]
    },
    {
     "name": "stdout",
     "output_type": "stream",
     "text": [
      "Epoch 200/200: 100%|██████████| 200/200 [48:27<00:00, 14.54s/it, v_num=1, train_loss_step=5.44e+3, train_loss_epoch=5.76e+3]\n"
     ]
    }
   ],
   "source": [
    "import scanpy as sc\n",
    "import os\n",
    "import numpy as np\n",
    "import seaborn\n",
    "import matplotlib\n",
    "import pandas as pd\n",
    "import sys\n",
    "import scvi\n",
    "import torch\n",
    "import scipy \n",
    "import tqdm\n",
    "\n",
    "if torch.cuda.is_available():\n",
    "    print(\"GPU is available\")\n",
    "    print(\"Number of GPUs:\", torch.cuda.device_count())\n",
    "    print(\"GPU Name:\", torch.cuda.get_device_name(0))\n",
    "else:\n",
    "    print(\"GPU is not available\")\n",
    "\n",
    "\n",
    "sys.path.append('/home/matthew.schmitz/utils/mts-utils/')\n",
    "from genomics import sc_analysis\n",
    "\n",
    "\n",
    "adata=sc.read_h5ad('/allen/programs/celltypes/workgroups/rnaseqanalysis/EvoGen/Team/Matthew/data/taxtest/HvQvM/extra_mouse_ctx/mouse_ctx_fillin.h5ad')\n",
    "\n",
    "scvi.model.SCVI.setup_anndata(adata,batch_key=\"batch_name\",layer='spliced')\n",
    "vae = scvi.model.SCVI(adata,n_hidden=512,n_layers=2,n_latent=50)\n",
    "vae.train(max_epochs=200)"
   ]
  },
  {
   "cell_type": "code",
   "execution_count": 9,
   "id": "a578be21-2a26-4abd-81f7-6c3f2270714b",
   "metadata": {},
   "outputs": [],
   "source": []
  },
  {
   "cell_type": "code",
   "execution_count": 29,
   "id": "ba115b8f-7103-416b-8d9c-cb51bbc05144",
   "metadata": {},
   "outputs": [
    {
     "name": "stdout",
     "output_type": "stream",
     "text": [
      "SRR12082764_GSM4635081_RNA-Seq_P1_rep2_Mus_musculus_RNA-Seq_kOut\n",
      "\u001b[34mINFO    \u001b[0m Creating doublets, preparing SOLO model.                                                                  \n"
     ]
    },
    {
     "name": "stderr",
     "output_type": "stream",
     "text": [
      "/home/matthew.schmitz/Matthew/utils/miniforge3/envs/solo/lib/python3.12/site-packages/lightning/fabric/plugins/environments/slurm.py:191: The `srun` command is available on your system but is not used. HINT: If your intention is to run Lightning on SLURM, prepend your python command with `srun` like so: srun python3.12 /home/matthew.schmitz/Matthew/utils/miniforge3/e ...\n",
      "GPU available: True (cuda), used: True\n",
      "TPU available: False, using: 0 TPU cores\n",
      "IPU available: False, using: 0 IPUs\n",
      "HPU available: False, using: 0 HPUs\n",
      "/home/matthew.schmitz/Matthew/utils/miniforge3/envs/solo/lib/python3.12/site-packages/lightning/fabric/plugins/environments/slurm.py:191: The `srun` command is available on your system but is not used. HINT: If your intention is to run Lightning on SLURM, prepend your python command with `srun` like so: srun python3.12 /home/matthew.schmitz/Matthew/utils/miniforge3/e ...\n",
      "LOCAL_RANK: 0 - CUDA_VISIBLE_DEVICES: [0]\n"
     ]
    },
    {
     "name": "stdout",
     "output_type": "stream",
     "text": [
      "Epoch 400/400: 100%|██████████| 400/400 [01:22<00:00,  4.86it/s, v_num=1, train_loss_step=0.0345, train_loss_epoch=0.0315] "
     ]
    },
    {
     "name": "stderr",
     "output_type": "stream",
     "text": [
      "`Trainer.fit` stopped: `max_epochs=400` reached.\n"
     ]
    },
    {
     "name": "stdout",
     "output_type": "stream",
     "text": [
      "Epoch 400/400: 100%|██████████| 400/400 [01:22<00:00,  4.86it/s, v_num=1, train_loss_step=0.0345, train_loss_epoch=0.0315]\n",
      "SRR14407607_GSM5277845_P4_Mus_musculus_RNA-Seq_kOut\n",
      "\u001b[34mINFO    \u001b[0m Creating doublets, preparing SOLO model.                                                                  \n"
     ]
    },
    {
     "name": "stderr",
     "output_type": "stream",
     "text": [
      "/home/matthew.schmitz/Matthew/utils/miniforge3/envs/solo/lib/python3.12/site-packages/lightning/fabric/plugins/environments/slurm.py:191: The `srun` command is available on your system but is not used. HINT: If your intention is to run Lightning on SLURM, prepend your python command with `srun` like so: srun python3.12 /home/matthew.schmitz/Matthew/utils/miniforge3/e ...\n",
      "GPU available: True (cuda), used: True\n",
      "TPU available: False, using: 0 TPU cores\n",
      "IPU available: False, using: 0 IPUs\n",
      "HPU available: False, using: 0 HPUs\n",
      "/home/matthew.schmitz/Matthew/utils/miniforge3/envs/solo/lib/python3.12/site-packages/lightning/fabric/plugins/environments/slurm.py:191: The `srun` command is available on your system but is not used. HINT: If your intention is to run Lightning on SLURM, prepend your python command with `srun` like so: srun python3.12 /home/matthew.schmitz/Matthew/utils/miniforge3/e ...\n",
      "LOCAL_RANK: 0 - CUDA_VISIBLE_DEVICES: [0]\n"
     ]
    },
    {
     "name": "stdout",
     "output_type": "stream",
     "text": [
      "Epoch 400/400: 100%|██████████| 400/400 [01:39<00:00,  4.02it/s, v_num=1, train_loss_step=0.0384, train_loss_epoch=0.0257] "
     ]
    },
    {
     "name": "stderr",
     "output_type": "stream",
     "text": [
      "`Trainer.fit` stopped: `max_epochs=400` reached.\n"
     ]
    },
    {
     "name": "stdout",
     "output_type": "stream",
     "text": [
      "Epoch 400/400: 100%|██████████| 400/400 [01:39<00:00,  4.02it/s, v_num=1, train_loss_step=0.0384, train_loss_epoch=0.0257]\n",
      "SRR12082757_GSM4635074_RNA-Seq_E13_5_Mus_musculus_RNA-Seq_kOut\n",
      "\u001b[34mINFO    \u001b[0m Creating doublets, preparing SOLO model.                                                                  \n"
     ]
    },
    {
     "name": "stderr",
     "output_type": "stream",
     "text": [
      "/home/matthew.schmitz/Matthew/utils/miniforge3/envs/solo/lib/python3.12/site-packages/lightning/fabric/plugins/environments/slurm.py:191: The `srun` command is available on your system but is not used. HINT: If your intention is to run Lightning on SLURM, prepend your python command with `srun` like so: srun python3.12 /home/matthew.schmitz/Matthew/utils/miniforge3/e ...\n",
      "GPU available: True (cuda), used: True\n",
      "TPU available: False, using: 0 TPU cores\n",
      "IPU available: False, using: 0 IPUs\n",
      "HPU available: False, using: 0 HPUs\n",
      "/home/matthew.schmitz/Matthew/utils/miniforge3/envs/solo/lib/python3.12/site-packages/lightning/fabric/plugins/environments/slurm.py:191: The `srun` command is available on your system but is not used. HINT: If your intention is to run Lightning on SLURM, prepend your python command with `srun` like so: srun python3.12 /home/matthew.schmitz/Matthew/utils/miniforge3/e ...\n",
      "LOCAL_RANK: 0 - CUDA_VISIBLE_DEVICES: [0]\n"
     ]
    },
    {
     "name": "stdout",
     "output_type": "stream",
     "text": [
      "Epoch 400/400: 100%|██████████| 400/400 [02:12<00:00,  3.01it/s, v_num=1, train_loss_step=0.14, train_loss_epoch=0.0593]  "
     ]
    },
    {
     "name": "stderr",
     "output_type": "stream",
     "text": [
      "`Trainer.fit` stopped: `max_epochs=400` reached.\n"
     ]
    },
    {
     "name": "stdout",
     "output_type": "stream",
     "text": [
      "Epoch 400/400: 100%|██████████| 400/400 [02:12<00:00,  3.01it/s, v_num=1, train_loss_step=0.14, train_loss_epoch=0.0593]\n",
      "SRR12082763_GSM4635080_RNA-Seq_P1_rep1_Mus_musculus_RNA-Seq_kOut\n",
      "\u001b[34mINFO    \u001b[0m Creating doublets, preparing SOLO model.                                                                  \n"
     ]
    },
    {
     "name": "stderr",
     "output_type": "stream",
     "text": [
      "/home/matthew.schmitz/Matthew/utils/miniforge3/envs/solo/lib/python3.12/site-packages/lightning/fabric/plugins/environments/slurm.py:191: The `srun` command is available on your system but is not used. HINT: If your intention is to run Lightning on SLURM, prepend your python command with `srun` like so: srun python3.12 /home/matthew.schmitz/Matthew/utils/miniforge3/e ...\n",
      "GPU available: True (cuda), used: True\n",
      "TPU available: False, using: 0 TPU cores\n",
      "IPU available: False, using: 0 IPUs\n",
      "HPU available: False, using: 0 HPUs\n",
      "/home/matthew.schmitz/Matthew/utils/miniforge3/envs/solo/lib/python3.12/site-packages/lightning/fabric/plugins/environments/slurm.py:191: The `srun` command is available on your system but is not used. HINT: If your intention is to run Lightning on SLURM, prepend your python command with `srun` like so: srun python3.12 /home/matthew.schmitz/Matthew/utils/miniforge3/e ...\n",
      "LOCAL_RANK: 0 - CUDA_VISIBLE_DEVICES: [0]\n"
     ]
    },
    {
     "name": "stdout",
     "output_type": "stream",
     "text": [
      "Epoch 400/400: 100%|██████████| 400/400 [01:56<00:00,  3.44it/s, v_num=1, train_loss_step=0.0261, train_loss_epoch=0.0677] "
     ]
    },
    {
     "name": "stderr",
     "output_type": "stream",
     "text": [
      "`Trainer.fit` stopped: `max_epochs=400` reached.\n"
     ]
    },
    {
     "name": "stdout",
     "output_type": "stream",
     "text": [
      "Epoch 400/400: 100%|██████████| 400/400 [01:56<00:00,  3.43it/s, v_num=1, train_loss_step=0.0261, train_loss_epoch=0.0677]\n",
      "SRR12082758_GSM4635075_RNA-Seq_E14_5_Mus_musculus_RNA-Seq_kOut\n",
      "\u001b[34mINFO    \u001b[0m Creating doublets, preparing SOLO model.                                                                  \n"
     ]
    },
    {
     "name": "stderr",
     "output_type": "stream",
     "text": [
      "/home/matthew.schmitz/Matthew/utils/miniforge3/envs/solo/lib/python3.12/site-packages/lightning/fabric/plugins/environments/slurm.py:191: The `srun` command is available on your system but is not used. HINT: If your intention is to run Lightning on SLURM, prepend your python command with `srun` like so: srun python3.12 /home/matthew.schmitz/Matthew/utils/miniforge3/e ...\n",
      "GPU available: True (cuda), used: True\n",
      "TPU available: False, using: 0 TPU cores\n",
      "IPU available: False, using: 0 IPUs\n",
      "HPU available: False, using: 0 HPUs\n",
      "/home/matthew.schmitz/Matthew/utils/miniforge3/envs/solo/lib/python3.12/site-packages/lightning/fabric/plugins/environments/slurm.py:191: The `srun` command is available on your system but is not used. HINT: If your intention is to run Lightning on SLURM, prepend your python command with `srun` like so: srun python3.12 /home/matthew.schmitz/Matthew/utils/miniforge3/e ...\n",
      "LOCAL_RANK: 0 - CUDA_VISIBLE_DEVICES: [0]\n"
     ]
    },
    {
     "name": "stdout",
     "output_type": "stream",
     "text": [
      "Epoch 400/400: 100%|██████████| 400/400 [01:15<00:00,  5.32it/s, v_num=1, train_loss_step=0.0682, train_loss_epoch=0.0813]"
     ]
    },
    {
     "name": "stderr",
     "output_type": "stream",
     "text": [
      "`Trainer.fit` stopped: `max_epochs=400` reached.\n"
     ]
    },
    {
     "name": "stdout",
     "output_type": "stream",
     "text": [
      "Epoch 400/400: 100%|██████████| 400/400 [01:15<00:00,  5.31it/s, v_num=1, train_loss_step=0.0682, train_loss_epoch=0.0813]\n",
      "SRR12082762_GSM4635079_RNA-Seq_E18_5_rep2_Mus_musculus_RNA-Seq_kOut\n",
      "\u001b[34mINFO    \u001b[0m Creating doublets, preparing SOLO model.                                                                  \n"
     ]
    },
    {
     "name": "stderr",
     "output_type": "stream",
     "text": [
      "/home/matthew.schmitz/Matthew/utils/miniforge3/envs/solo/lib/python3.12/site-packages/lightning/fabric/plugins/environments/slurm.py:191: The `srun` command is available on your system but is not used. HINT: If your intention is to run Lightning on SLURM, prepend your python command with `srun` like so: srun python3.12 /home/matthew.schmitz/Matthew/utils/miniforge3/e ...\n",
      "GPU available: True (cuda), used: True\n",
      "TPU available: False, using: 0 TPU cores\n",
      "IPU available: False, using: 0 IPUs\n",
      "HPU available: False, using: 0 HPUs\n",
      "/home/matthew.schmitz/Matthew/utils/miniforge3/envs/solo/lib/python3.12/site-packages/lightning/fabric/plugins/environments/slurm.py:191: The `srun` command is available on your system but is not used. HINT: If your intention is to run Lightning on SLURM, prepend your python command with `srun` like so: srun python3.12 /home/matthew.schmitz/Matthew/utils/miniforge3/e ...\n",
      "LOCAL_RANK: 0 - CUDA_VISIBLE_DEVICES: [0]\n"
     ]
    },
    {
     "name": "stdout",
     "output_type": "stream",
     "text": [
      "Epoch 400/400: 100%|██████████| 400/400 [03:09<00:00,  2.11it/s, v_num=1, train_loss_step=0.0893, train_loss_epoch=0.0898]"
     ]
    },
    {
     "name": "stderr",
     "output_type": "stream",
     "text": [
      "`Trainer.fit` stopped: `max_epochs=400` reached.\n"
     ]
    },
    {
     "name": "stdout",
     "output_type": "stream",
     "text": [
      "Epoch 400/400: 100%|██████████| 400/400 [03:09<00:00,  2.11it/s, v_num=1, train_loss_step=0.0893, train_loss_epoch=0.0898]\n",
      "SRR12082760_GSM4635077_RNA-Seq_E16_5_Mus_musculus_RNA-Seq_kOut\n",
      "\u001b[34mINFO    \u001b[0m Creating doublets, preparing SOLO model.                                                                  \n"
     ]
    },
    {
     "name": "stderr",
     "output_type": "stream",
     "text": [
      "/home/matthew.schmitz/Matthew/utils/miniforge3/envs/solo/lib/python3.12/site-packages/lightning/fabric/plugins/environments/slurm.py:191: The `srun` command is available on your system but is not used. HINT: If your intention is to run Lightning on SLURM, prepend your python command with `srun` like so: srun python3.12 /home/matthew.schmitz/Matthew/utils/miniforge3/e ...\n",
      "GPU available: True (cuda), used: True\n",
      "TPU available: False, using: 0 TPU cores\n",
      "IPU available: False, using: 0 IPUs\n",
      "HPU available: False, using: 0 HPUs\n",
      "/home/matthew.schmitz/Matthew/utils/miniforge3/envs/solo/lib/python3.12/site-packages/lightning/fabric/plugins/environments/slurm.py:191: The `srun` command is available on your system but is not used. HINT: If your intention is to run Lightning on SLURM, prepend your python command with `srun` like so: srun python3.12 /home/matthew.schmitz/Matthew/utils/miniforge3/e ...\n",
      "LOCAL_RANK: 0 - CUDA_VISIBLE_DEVICES: [0]\n"
     ]
    },
    {
     "name": "stdout",
     "output_type": "stream",
     "text": [
      "Epoch 400/400: 100%|██████████| 400/400 [01:22<00:00,  4.86it/s, v_num=1, train_loss_step=0.054, train_loss_epoch=0.0438] "
     ]
    },
    {
     "name": "stderr",
     "output_type": "stream",
     "text": [
      "`Trainer.fit` stopped: `max_epochs=400` reached.\n"
     ]
    },
    {
     "name": "stdout",
     "output_type": "stream",
     "text": [
      "Epoch 400/400: 100%|██████████| 400/400 [01:22<00:00,  4.86it/s, v_num=1, train_loss_step=0.054, train_loss_epoch=0.0438]\n",
      "SRR12082756_GSM4635073_RNA-Seq_E12_5_Mus_musculus_RNA-Seq_kOut\n",
      "\u001b[34mINFO    \u001b[0m Creating doublets, preparing SOLO model.                                                                  \n"
     ]
    },
    {
     "name": "stderr",
     "output_type": "stream",
     "text": [
      "/home/matthew.schmitz/Matthew/utils/miniforge3/envs/solo/lib/python3.12/site-packages/lightning/fabric/plugins/environments/slurm.py:191: The `srun` command is available on your system but is not used. HINT: If your intention is to run Lightning on SLURM, prepend your python command with `srun` like so: srun python3.12 /home/matthew.schmitz/Matthew/utils/miniforge3/e ...\n",
      "GPU available: True (cuda), used: True\n",
      "TPU available: False, using: 0 TPU cores\n",
      "IPU available: False, using: 0 IPUs\n",
      "HPU available: False, using: 0 HPUs\n",
      "/home/matthew.schmitz/Matthew/utils/miniforge3/envs/solo/lib/python3.12/site-packages/lightning/fabric/plugins/environments/slurm.py:191: The `srun` command is available on your system but is not used. HINT: If your intention is to run Lightning on SLURM, prepend your python command with `srun` like so: srun python3.12 /home/matthew.schmitz/Matthew/utils/miniforge3/e ...\n",
      "LOCAL_RANK: 0 - CUDA_VISIBLE_DEVICES: [0]\n"
     ]
    },
    {
     "name": "stdout",
     "output_type": "stream",
     "text": [
      "Epoch 400/400: 100%|██████████| 400/400 [04:15<00:00,  1.56it/s, v_num=1, train_loss_step=0.1, train_loss_epoch=0.0946]   "
     ]
    },
    {
     "name": "stderr",
     "output_type": "stream",
     "text": [
      "`Trainer.fit` stopped: `max_epochs=400` reached.\n"
     ]
    },
    {
     "name": "stdout",
     "output_type": "stream",
     "text": [
      "Epoch 400/400: 100%|██████████| 400/400 [04:15<00:00,  1.56it/s, v_num=1, train_loss_step=0.1, train_loss_epoch=0.0946]\n",
      "SRR12082755_GSM4635072_RNA-Seq_E11_5_Mus_musculus_RNA-Seq_kOut\n",
      "\u001b[34mINFO    \u001b[0m Creating doublets, preparing SOLO model.                                                                  \n"
     ]
    },
    {
     "name": "stderr",
     "output_type": "stream",
     "text": [
      "/home/matthew.schmitz/Matthew/utils/miniforge3/envs/solo/lib/python3.12/site-packages/lightning/fabric/plugins/environments/slurm.py:191: The `srun` command is available on your system but is not used. HINT: If your intention is to run Lightning on SLURM, prepend your python command with `srun` like so: srun python3.12 /home/matthew.schmitz/Matthew/utils/miniforge3/e ...\n",
      "GPU available: True (cuda), used: True\n",
      "TPU available: False, using: 0 TPU cores\n",
      "IPU available: False, using: 0 IPUs\n",
      "HPU available: False, using: 0 HPUs\n",
      "/home/matthew.schmitz/Matthew/utils/miniforge3/envs/solo/lib/python3.12/site-packages/lightning/fabric/plugins/environments/slurm.py:191: The `srun` command is available on your system but is not used. HINT: If your intention is to run Lightning on SLURM, prepend your python command with `srun` like so: srun python3.12 /home/matthew.schmitz/Matthew/utils/miniforge3/e ...\n",
      "LOCAL_RANK: 0 - CUDA_VISIBLE_DEVICES: [0]\n"
     ]
    },
    {
     "name": "stdout",
     "output_type": "stream",
     "text": [
      "Epoch 400/400: 100%|██████████| 400/400 [00:58<00:00,  6.85it/s, v_num=1, train_loss_step=0.0565, train_loss_epoch=0.0623]"
     ]
    },
    {
     "name": "stderr",
     "output_type": "stream",
     "text": [
      "`Trainer.fit` stopped: `max_epochs=400` reached.\n"
     ]
    },
    {
     "name": "stdout",
     "output_type": "stream",
     "text": [
      "Epoch 400/400: 100%|██████████| 400/400 [00:58<00:00,  6.84it/s, v_num=1, train_loss_step=0.0565, train_loss_epoch=0.0623]\n",
      "SRR14407605_GSM5277843_E10.5_Mus_musculus_RNA-Seq_kOut\n",
      "\u001b[34mINFO    \u001b[0m Creating doublets, preparing SOLO model.                                                                  \n"
     ]
    },
    {
     "name": "stderr",
     "output_type": "stream",
     "text": [
      "/home/matthew.schmitz/Matthew/utils/miniforge3/envs/solo/lib/python3.12/site-packages/lightning/fabric/plugins/environments/slurm.py:191: The `srun` command is available on your system but is not used. HINT: If your intention is to run Lightning on SLURM, prepend your python command with `srun` like so: srun python3.12 /home/matthew.schmitz/Matthew/utils/miniforge3/e ...\n",
      "GPU available: True (cuda), used: True\n",
      "TPU available: False, using: 0 TPU cores\n",
      "IPU available: False, using: 0 IPUs\n",
      "HPU available: False, using: 0 HPUs\n",
      "/home/matthew.schmitz/Matthew/utils/miniforge3/envs/solo/lib/python3.12/site-packages/lightning/fabric/plugins/environments/slurm.py:191: The `srun` command is available on your system but is not used. HINT: If your intention is to run Lightning on SLURM, prepend your python command with `srun` like so: srun python3.12 /home/matthew.schmitz/Matthew/utils/miniforge3/e ...\n",
      "LOCAL_RANK: 0 - CUDA_VISIBLE_DEVICES: [0]\n"
     ]
    },
    {
     "name": "stdout",
     "output_type": "stream",
     "text": [
      "Epoch 400/400: 100%|██████████| 400/400 [00:19<00:00, 20.52it/s, v_num=1, train_loss_step=0.0329, train_loss_epoch=0.025]  "
     ]
    },
    {
     "name": "stderr",
     "output_type": "stream",
     "text": [
      "`Trainer.fit` stopped: `max_epochs=400` reached.\n"
     ]
    },
    {
     "name": "stdout",
     "output_type": "stream",
     "text": [
      "Epoch 400/400: 100%|██████████| 400/400 [00:19<00:00, 20.50it/s, v_num=1, train_loss_step=0.0329, train_loss_epoch=0.025]\n",
      "SRR14407606_GSM5277844_E17.5_Mus_musculus_RNA-Seq_kOut\n",
      "\u001b[34mINFO    \u001b[0m Creating doublets, preparing SOLO model.                                                                  \n"
     ]
    },
    {
     "name": "stderr",
     "output_type": "stream",
     "text": [
      "/home/matthew.schmitz/Matthew/utils/miniforge3/envs/solo/lib/python3.12/site-packages/lightning/fabric/plugins/environments/slurm.py:191: The `srun` command is available on your system but is not used. HINT: If your intention is to run Lightning on SLURM, prepend your python command with `srun` like so: srun python3.12 /home/matthew.schmitz/Matthew/utils/miniforge3/e ...\n",
      "GPU available: True (cuda), used: True\n",
      "TPU available: False, using: 0 TPU cores\n",
      "IPU available: False, using: 0 IPUs\n",
      "HPU available: False, using: 0 HPUs\n",
      "/home/matthew.schmitz/Matthew/utils/miniforge3/envs/solo/lib/python3.12/site-packages/lightning/fabric/plugins/environments/slurm.py:191: The `srun` command is available on your system but is not used. HINT: If your intention is to run Lightning on SLURM, prepend your python command with `srun` like so: srun python3.12 /home/matthew.schmitz/Matthew/utils/miniforge3/e ...\n",
      "LOCAL_RANK: 0 - CUDA_VISIBLE_DEVICES: [0]\n"
     ]
    },
    {
     "name": "stdout",
     "output_type": "stream",
     "text": [
      "Epoch 400/400: 100%|██████████| 400/400 [02:18<00:00,  2.90it/s, v_num=1, train_loss_step=0.063, train_loss_epoch=0.0287]  "
     ]
    },
    {
     "name": "stderr",
     "output_type": "stream",
     "text": [
      "`Trainer.fit` stopped: `max_epochs=400` reached.\n"
     ]
    },
    {
     "name": "stdout",
     "output_type": "stream",
     "text": [
      "Epoch 400/400: 100%|██████████| 400/400 [02:18<00:00,  2.90it/s, v_num=1, train_loss_step=0.063, train_loss_epoch=0.0287]\n",
      "SRR12082759_GSM4635076_RNA-Seq_E15_5_Mus_musculus_RNA-Seq_kOut\n",
      "\u001b[34mINFO    \u001b[0m Creating doublets, preparing SOLO model.                                                                  \n"
     ]
    },
    {
     "name": "stderr",
     "output_type": "stream",
     "text": [
      "/home/matthew.schmitz/Matthew/utils/miniforge3/envs/solo/lib/python3.12/site-packages/lightning/fabric/plugins/environments/slurm.py:191: The `srun` command is available on your system but is not used. HINT: If your intention is to run Lightning on SLURM, prepend your python command with `srun` like so: srun python3.12 /home/matthew.schmitz/Matthew/utils/miniforge3/e ...\n",
      "GPU available: True (cuda), used: True\n",
      "TPU available: False, using: 0 TPU cores\n",
      "IPU available: False, using: 0 IPUs\n",
      "HPU available: False, using: 0 HPUs\n",
      "/home/matthew.schmitz/Matthew/utils/miniforge3/envs/solo/lib/python3.12/site-packages/lightning/fabric/plugins/environments/slurm.py:191: The `srun` command is available on your system but is not used. HINT: If your intention is to run Lightning on SLURM, prepend your python command with `srun` like so: srun python3.12 /home/matthew.schmitz/Matthew/utils/miniforge3/e ...\n",
      "LOCAL_RANK: 0 - CUDA_VISIBLE_DEVICES: [0]\n"
     ]
    },
    {
     "name": "stdout",
     "output_type": "stream",
     "text": [
      "Epoch 400/400: 100%|██████████| 400/400 [02:46<00:00,  2.40it/s, v_num=1, train_loss_step=0.12, train_loss_epoch=0.064]   "
     ]
    },
    {
     "name": "stderr",
     "output_type": "stream",
     "text": [
      "`Trainer.fit` stopped: `max_epochs=400` reached.\n"
     ]
    },
    {
     "name": "stdout",
     "output_type": "stream",
     "text": [
      "Epoch 400/400: 100%|██████████| 400/400 [02:46<00:00,  2.40it/s, v_num=1, train_loss_step=0.12, train_loss_epoch=0.064]\n",
      "SRR12082761_GSM4635078_RNA-Seq_E18_5_rep1_Mus_musculus_RNA-Seq_kOut\n",
      "\u001b[34mINFO    \u001b[0m Creating doublets, preparing SOLO model.                                                                  \n"
     ]
    },
    {
     "name": "stderr",
     "output_type": "stream",
     "text": [
      "/home/matthew.schmitz/Matthew/utils/miniforge3/envs/solo/lib/python3.12/site-packages/lightning/fabric/plugins/environments/slurm.py:191: The `srun` command is available on your system but is not used. HINT: If your intention is to run Lightning on SLURM, prepend your python command with `srun` like so: srun python3.12 /home/matthew.schmitz/Matthew/utils/miniforge3/e ...\n",
      "GPU available: True (cuda), used: True\n",
      "TPU available: False, using: 0 TPU cores\n",
      "IPU available: False, using: 0 IPUs\n",
      "HPU available: False, using: 0 HPUs\n",
      "/home/matthew.schmitz/Matthew/utils/miniforge3/envs/solo/lib/python3.12/site-packages/lightning/fabric/plugins/environments/slurm.py:191: The `srun` command is available on your system but is not used. HINT: If your intention is to run Lightning on SLURM, prepend your python command with `srun` like so: srun python3.12 /home/matthew.schmitz/Matthew/utils/miniforge3/e ...\n",
      "LOCAL_RANK: 0 - CUDA_VISIBLE_DEVICES: [0]\n"
     ]
    },
    {
     "name": "stdout",
     "output_type": "stream",
     "text": [
      "Epoch 400/400: 100%|██████████| 400/400 [01:43<00:00,  3.87it/s, v_num=1, train_loss_step=0.0199, train_loss_epoch=0.0462] "
     ]
    },
    {
     "name": "stderr",
     "output_type": "stream",
     "text": [
      "`Trainer.fit` stopped: `max_epochs=400` reached.\n"
     ]
    },
    {
     "name": "stdout",
     "output_type": "stream",
     "text": [
      "Epoch 400/400: 100%|██████████| 400/400 [01:43<00:00,  3.86it/s, v_num=1, train_loss_step=0.0199, train_loss_epoch=0.0462]\n"
     ]
    }
   ],
   "source": [
    "# vae.save('/allen/programs/celltypes/workgroups/rnaseqanalysis/EvoGen/Team/Matthew/data/taxtest/extra/solo_outs/scvi_vae', overwrite=True) \n",
    "\n",
    "# vae=scvi.model.SCVI.load('/allen/programs/celltypes/workgroups/rnaseqanalysis/EvoGen/Team/Matthew/data/taxtest/extra/solo_outs/scvi_vae',adata=adata)\n",
    "\n",
    "done_list=[]\n",
    "for b in reversed(adata.obs['batch_name'].unique()):\n",
    "    if (adata.obs['batch_name']==b).sum()>1000:\n",
    "        if not b in done_list:\n",
    "            try:\n",
    "                try:\n",
    "                    print(b)\n",
    "                    solo_batch_1 = scvi.external.SOLO.from_scvi_model(vae, restrict_to_batch=b)\n",
    "                    solo_batch_1.train(train_size=0.9,early_stopping=False)\n",
    "                    predictions=solo_batch_1.predict()\n",
    "                    pred_list=pd.DataFrame(scipy.special.softmax(predictions.to_numpy(),axis=-1),columns=predictions.columns,index=predictions.index)\n",
    "                except:\n",
    "                    solo_batch_1 = scvi.external.SOLO.from_scvi_model(vae, restrict_to_batch=b,)\n",
    "                    solo_batch_1.train(train_size=0.8,early_stopping=False)\n",
    "                    predictions=solo_batch_1.predict()\n",
    "                    pred_list=pd.DataFrame(scipy.special.softmax(predictions.to_numpy(),axis=-1),columns=predictions.columns,index=predictions.index)\n",
    "                pred_list.to_csv(os.path.join('/allen/programs/celltypes/workgroups/rnaseqanalysis/EvoGen/Team/Matthew/data/taxtest/extra/solo_outs',b+'.csv'))\n",
    "            except:\n",
    "                print('FAILFAILFAILFAILFAIL')\n",
    "\n",
    "\n",
    "top_path='/allen/programs/celltypes/workgroups/rnaseqanalysis/EvoGen/Team/Matthew/data/taxtest/extra/solo_outs'\n",
    "l=[]\n",
    "for x in os.listdir(top_path):\n",
    "    if '.csv' in x:\n",
    "        l.append(pd.read_csv(os.path.join(top_path,x)))\n",
    "\n",
    "\n",
    "ddf=pd.concat(l,axis=0)\n",
    "ddf.index=ddf['Unnamed: 0']\n",
    "ddf = ddf.loc[ddf.index.isin(adata.obs.index),:]\n",
    "ddf.drop('Unnamed: 0',axis=1,inplace=True)\n",
    "adata.obs['singlet']=1.\n",
    "adata.obs['doublet']=0.\n",
    "adata.obs.loc[:,['singlet','doublet']]=ddf\n",
    "adata.obs['n_counts'] = adata.layers['spliced'].sum(1)\n",
    "adata.obs['n_genes'] = (adata.layers['spliced']>0).sum(1)\n",
    "adata[(adata.obs['n_genes']>800)&(adata.obs['singlet']>0.9),:]\n",
    "adata[(adata.obs['n_genes']>800)&(adata.obs['singlet']>0.9),:].write('/allen/programs/celltypes/workgroups/rnaseqanalysis/EvoGen/Team/Matthew/data/taxtest/HvQvM/extra_mouse_ctx/mouse_ctx_fillin.h5ad')"
   ]
  },
  {
   "cell_type": "code",
   "execution_count": 38,
   "id": "138db3a7-ad13-4e61-a85d-d8ffc9e94679",
   "metadata": {},
   "outputs": [
    {
     "data": {
      "text/plain": [
       "AnnData object with n_obs × n_vars = 101028 × 55402\n",
       "    obs: 'latent_cell_probability', 'latent_RT_efficiency', 'n_genes', 'batch_name', 'timepoint', 'dataset_name', 'clean_cellname', 'general_region', 'region', 'female', 'log10_n_genes', 'log10_n_counts', 'S_score', 'G2M_score', 'phase', '_scvi_batch', '_scvi_labels', 'singlet', 'doublet', 'n_counts'\n",
       "    var: 'mgi_symbol'\n",
       "    uns: 'log1p', '_scvi_uuid', '_scvi_manager_uuid'\n",
       "    obsm: 'phase_sex'\n",
       "    layers: 'unspliced', 'spliced', 'ambiguous'"
      ]
     },
     "execution_count": 38,
     "metadata": {},
     "output_type": "execute_result"
    }
   ],
   "source": [
    "adata"
   ]
  },
  {
   "cell_type": "code",
   "execution_count": 18,
   "id": "9a06af39-3021-4040-95cd-139597225bf6",
   "metadata": {},
   "outputs": [
    {
     "name": "stdout",
     "output_type": "stream",
     "text": [
      "fastq\n",
      "/allen/programs/celltypes/workgroups/rnaseqanalysis/EvoGen/Team/Matthew/data/taxtest/HvQvM/extra_mouse_ctx/fastq/SRR12082761_GSM4635078_RNA-Seq_E18_5_rep1_Mus_musculus_RNA-Seq_kOut/aem_cellbended_150_750_200e_V0.2/aem_cellbended_filtered.h5\n"
     ]
    },
    {
     "name": "stderr",
     "output_type": "stream",
     "text": [
      "/home/matthew.schmitz/Matthew/utils/miniforge3/envs/solo/lib/python3.12/site-packages/anndata/_core/aligned_df.py:67: ImplicitModificationWarning: Transforming to str index.\n",
      "  warnings.warn(\"Transforming to str index.\", ImplicitModificationWarning)\n",
      "/home/matthew.schmitz/Matthew/utils/miniforge3/envs/solo/lib/python3.12/site-packages/anndata/_core/anndata.py:1820: UserWarning: Variable names are not unique. To make them unique, call `.var_names_make_unique`.\n",
      "  utils.warn_names_duplicates(\"var\")\n",
      "/home/matthew.schmitz/Matthew/code/triple-dev-wb/mdb/utils/ScanpyUtilsMT.py:121: FutureWarning: DataFrame.groupby with axis=1 is deprecated. Do `frame.T.groupby(...)` without axis instead.\n",
      "  adata_df = adata_df.groupby(by=adata_df.columns, axis=1).sum()\n",
      "/home/matthew.schmitz/Matthew/code/triple-dev-wb/mdb/utils/ScanpyUtilsMT.py:121: FutureWarning: DataFrame.groupby with axis=1 is deprecated. Do `frame.T.groupby(...)` without axis instead.\n",
      "  adata_df = adata_df.groupby(by=adata_df.columns, axis=1).sum()\n",
      "/home/matthew.schmitz/Matthew/utils/miniforge3/envs/solo/lib/python3.12/site-packages/anndata/_core/anndata.py:1818: UserWarning: Observation names are not unique. To make them unique, call `.obs_names_make_unique`.\n",
      "  utils.warn_names_duplicates(\"obs\")\n",
      "/home/matthew.schmitz/Matthew/utils/miniforge3/envs/solo/lib/python3.12/site-packages/scanpy/preprocessing/_simple.py:139: ImplicitModificationWarning: Trying to modify attribute `.obs` of view, initializing view as actual.\n",
      "  adata.obs['n_genes'] = number\n"
     ]
    },
    {
     "name": "stdout",
     "output_type": "stream",
     "text": [
      "1 AnnData object with n_obs × n_vars = 6852 × 55402\n",
      "    obs: 'latent_cell_probability', 'latent_RT_efficiency', 'n_genes'\n",
      "    layers: 'unspliced', 'spliced', 'ambiguous'\n",
      "2\n",
      "2.01\n",
      "5\n",
      "/allen/programs/celltypes/workgroups/rnaseqanalysis/EvoGen/Team/Matthew/data/taxtest/HvQvM/extra_mouse_ctx/fastq/SRR12082759_GSM4635076_RNA-Seq_E15_5_Mus_musculus_RNA-Seq_kOut/aem_cellbended_150_750_200e_V0.2/aem_cellbended_filtered.h5\n"
     ]
    },
    {
     "name": "stderr",
     "output_type": "stream",
     "text": [
      "/home/matthew.schmitz/Matthew/utils/miniforge3/envs/solo/lib/python3.12/site-packages/anndata/_core/aligned_df.py:67: ImplicitModificationWarning: Transforming to str index.\n",
      "  warnings.warn(\"Transforming to str index.\", ImplicitModificationWarning)\n",
      "/home/matthew.schmitz/Matthew/utils/miniforge3/envs/solo/lib/python3.12/site-packages/anndata/_core/anndata.py:1820: UserWarning: Variable names are not unique. To make them unique, call `.var_names_make_unique`.\n",
      "  utils.warn_names_duplicates(\"var\")\n",
      "/home/matthew.schmitz/Matthew/code/triple-dev-wb/mdb/utils/ScanpyUtilsMT.py:121: FutureWarning: DataFrame.groupby with axis=1 is deprecated. Do `frame.T.groupby(...)` without axis instead.\n",
      "  adata_df = adata_df.groupby(by=adata_df.columns, axis=1).sum()\n",
      "/home/matthew.schmitz/Matthew/code/triple-dev-wb/mdb/utils/ScanpyUtilsMT.py:121: FutureWarning: DataFrame.groupby with axis=1 is deprecated. Do `frame.T.groupby(...)` without axis instead.\n",
      "  adata_df = adata_df.groupby(by=adata_df.columns, axis=1).sum()\n",
      "/home/matthew.schmitz/Matthew/utils/miniforge3/envs/solo/lib/python3.12/site-packages/anndata/_core/anndata.py:1818: UserWarning: Observation names are not unique. To make them unique, call `.obs_names_make_unique`.\n",
      "  utils.warn_names_duplicates(\"obs\")\n",
      "/home/matthew.schmitz/Matthew/utils/miniforge3/envs/solo/lib/python3.12/site-packages/scanpy/preprocessing/_simple.py:139: ImplicitModificationWarning: Trying to modify attribute `.obs` of view, initializing view as actual.\n",
      "  adata.obs['n_genes'] = number\n"
     ]
    },
    {
     "name": "stdout",
     "output_type": "stream",
     "text": [
      "1 AnnData object with n_obs × n_vars = 11135 × 55402\n",
      "    obs: 'latent_cell_probability', 'latent_RT_efficiency', 'n_genes'\n",
      "    layers: 'unspliced', 'spliced', 'ambiguous'\n",
      "2\n",
      "2.01\n",
      "5\n",
      "/allen/programs/celltypes/workgroups/rnaseqanalysis/EvoGen/Team/Matthew/data/taxtest/HvQvM/extra_mouse_ctx/fastq/SRR14407606_GSM5277844_E17.5_Mus_musculus_RNA-Seq_kOut/aem_cellbended_150_750_200e_V0.2/aem_cellbended_filtered.h5\n"
     ]
    },
    {
     "name": "stderr",
     "output_type": "stream",
     "text": [
      "/home/matthew.schmitz/Matthew/utils/miniforge3/envs/solo/lib/python3.12/site-packages/anndata/_core/aligned_df.py:67: ImplicitModificationWarning: Transforming to str index.\n",
      "  warnings.warn(\"Transforming to str index.\", ImplicitModificationWarning)\n",
      "/home/matthew.schmitz/Matthew/utils/miniforge3/envs/solo/lib/python3.12/site-packages/anndata/_core/anndata.py:1820: UserWarning: Variable names are not unique. To make them unique, call `.var_names_make_unique`.\n",
      "  utils.warn_names_duplicates(\"var\")\n",
      "/home/matthew.schmitz/Matthew/code/triple-dev-wb/mdb/utils/ScanpyUtilsMT.py:121: FutureWarning: DataFrame.groupby with axis=1 is deprecated. Do `frame.T.groupby(...)` without axis instead.\n",
      "  adata_df = adata_df.groupby(by=adata_df.columns, axis=1).sum()\n",
      "/home/matthew.schmitz/Matthew/code/triple-dev-wb/mdb/utils/ScanpyUtilsMT.py:121: FutureWarning: DataFrame.groupby with axis=1 is deprecated. Do `frame.T.groupby(...)` without axis instead.\n",
      "  adata_df = adata_df.groupby(by=adata_df.columns, axis=1).sum()\n",
      "/home/matthew.schmitz/Matthew/utils/miniforge3/envs/solo/lib/python3.12/site-packages/anndata/_core/anndata.py:1818: UserWarning: Observation names are not unique. To make them unique, call `.obs_names_make_unique`.\n",
      "  utils.warn_names_duplicates(\"obs\")\n",
      "/home/matthew.schmitz/Matthew/utils/miniforge3/envs/solo/lib/python3.12/site-packages/scanpy/preprocessing/_simple.py:139: ImplicitModificationWarning: Trying to modify attribute `.obs` of view, initializing view as actual.\n",
      "  adata.obs['n_genes'] = number\n"
     ]
    },
    {
     "name": "stdout",
     "output_type": "stream",
     "text": [
      "1 AnnData object with n_obs × n_vars = 9234 × 55402\n",
      "    obs: 'latent_cell_probability', 'latent_RT_efficiency', 'n_genes'\n",
      "    layers: 'unspliced', 'spliced', 'ambiguous'\n",
      "2\n",
      "2.01\n",
      "5\n",
      "/allen/programs/celltypes/workgroups/rnaseqanalysis/EvoGen/Team/Matthew/data/taxtest/HvQvM/extra_mouse_ctx/fastq/SRR14407605_GSM5277843_E10.5_Mus_musculus_RNA-Seq_kOut/aem_cellbended_150_750_200e_V0.2/aem_cellbended_filtered.h5\n"
     ]
    },
    {
     "name": "stderr",
     "output_type": "stream",
     "text": [
      "/home/matthew.schmitz/Matthew/utils/miniforge3/envs/solo/lib/python3.12/site-packages/anndata/_core/aligned_df.py:67: ImplicitModificationWarning: Transforming to str index.\n",
      "  warnings.warn(\"Transforming to str index.\", ImplicitModificationWarning)\n",
      "/home/matthew.schmitz/Matthew/utils/miniforge3/envs/solo/lib/python3.12/site-packages/anndata/_core/anndata.py:1820: UserWarning: Variable names are not unique. To make them unique, call `.var_names_make_unique`.\n",
      "  utils.warn_names_duplicates(\"var\")\n",
      "/home/matthew.schmitz/Matthew/code/triple-dev-wb/mdb/utils/ScanpyUtilsMT.py:121: FutureWarning: DataFrame.groupby with axis=1 is deprecated. Do `frame.T.groupby(...)` without axis instead.\n",
      "  adata_df = adata_df.groupby(by=adata_df.columns, axis=1).sum()\n",
      "/home/matthew.schmitz/Matthew/code/triple-dev-wb/mdb/utils/ScanpyUtilsMT.py:121: FutureWarning: DataFrame.groupby with axis=1 is deprecated. Do `frame.T.groupby(...)` without axis instead.\n",
      "  adata_df = adata_df.groupby(by=adata_df.columns, axis=1).sum()\n",
      "/home/matthew.schmitz/Matthew/utils/miniforge3/envs/solo/lib/python3.12/site-packages/anndata/_core/anndata.py:1818: UserWarning: Observation names are not unique. To make them unique, call `.obs_names_make_unique`.\n",
      "  utils.warn_names_duplicates(\"obs\")\n"
     ]
    },
    {
     "name": "stdout",
     "output_type": "stream",
     "text": [
      "1 AnnData object with n_obs × n_vars = 1204 × 55402\n",
      "    obs: 'latent_cell_probability', 'latent_RT_efficiency', 'n_genes'\n",
      "    layers: 'unspliced', 'spliced', 'ambiguous'\n",
      "2\n",
      "2.01\n",
      "5\n",
      "/allen/programs/celltypes/workgroups/rnaseqanalysis/EvoGen/Team/Matthew/data/taxtest/HvQvM/extra_mouse_ctx/fastq/SRR12082755_GSM4635072_RNA-Seq_E11_5_Mus_musculus_RNA-Seq_kOut/aem_cellbended_150_750_200e_V0.2/aem_cellbended_filtered.h5\n"
     ]
    },
    {
     "name": "stderr",
     "output_type": "stream",
     "text": [
      "/home/matthew.schmitz/Matthew/utils/miniforge3/envs/solo/lib/python3.12/site-packages/scanpy/preprocessing/_simple.py:139: ImplicitModificationWarning: Trying to modify attribute `.obs` of view, initializing view as actual.\n",
      "  adata.obs['n_genes'] = number\n",
      "/home/matthew.schmitz/Matthew/utils/miniforge3/envs/solo/lib/python3.12/site-packages/anndata/_core/aligned_df.py:67: ImplicitModificationWarning: Transforming to str index.\n",
      "  warnings.warn(\"Transforming to str index.\", ImplicitModificationWarning)\n",
      "/home/matthew.schmitz/Matthew/utils/miniforge3/envs/solo/lib/python3.12/site-packages/anndata/_core/anndata.py:1820: UserWarning: Variable names are not unique. To make them unique, call `.var_names_make_unique`.\n",
      "  utils.warn_names_duplicates(\"var\")\n",
      "/home/matthew.schmitz/Matthew/code/triple-dev-wb/mdb/utils/ScanpyUtilsMT.py:121: FutureWarning: DataFrame.groupby with axis=1 is deprecated. Do `frame.T.groupby(...)` without axis instead.\n",
      "  adata_df = adata_df.groupby(by=adata_df.columns, axis=1).sum()\n",
      "/home/matthew.schmitz/Matthew/code/triple-dev-wb/mdb/utils/ScanpyUtilsMT.py:121: FutureWarning: DataFrame.groupby with axis=1 is deprecated. Do `frame.T.groupby(...)` without axis instead.\n",
      "  adata_df = adata_df.groupby(by=adata_df.columns, axis=1).sum()\n",
      "/home/matthew.schmitz/Matthew/utils/miniforge3/envs/solo/lib/python3.12/site-packages/anndata/_core/anndata.py:1818: UserWarning: Observation names are not unique. To make them unique, call `.obs_names_make_unique`.\n",
      "  utils.warn_names_duplicates(\"obs\")\n"
     ]
    },
    {
     "name": "stdout",
     "output_type": "stream",
     "text": [
      "1 AnnData object with n_obs × n_vars = 3814 × 55402\n",
      "    obs: 'latent_cell_probability', 'latent_RT_efficiency', 'n_genes'\n",
      "    layers: 'unspliced', 'spliced', 'ambiguous'\n",
      "2\n",
      "2.01\n",
      "5\n",
      "/allen/programs/celltypes/workgroups/rnaseqanalysis/EvoGen/Team/Matthew/data/taxtest/HvQvM/extra_mouse_ctx/fastq/SRR12082756_GSM4635073_RNA-Seq_E12_5_Mus_musculus_RNA-Seq_kOut/aem_cellbended_150_750_200e_V0.2/aem_cellbended_filtered.h5\n"
     ]
    },
    {
     "name": "stderr",
     "output_type": "stream",
     "text": [
      "/home/matthew.schmitz/Matthew/utils/miniforge3/envs/solo/lib/python3.12/site-packages/scanpy/preprocessing/_simple.py:139: ImplicitModificationWarning: Trying to modify attribute `.obs` of view, initializing view as actual.\n",
      "  adata.obs['n_genes'] = number\n",
      "/home/matthew.schmitz/Matthew/utils/miniforge3/envs/solo/lib/python3.12/site-packages/anndata/_core/aligned_df.py:67: ImplicitModificationWarning: Transforming to str index.\n",
      "  warnings.warn(\"Transforming to str index.\", ImplicitModificationWarning)\n",
      "/home/matthew.schmitz/Matthew/utils/miniforge3/envs/solo/lib/python3.12/site-packages/anndata/_core/anndata.py:1820: UserWarning: Variable names are not unique. To make them unique, call `.var_names_make_unique`.\n",
      "  utils.warn_names_duplicates(\"var\")\n",
      "/home/matthew.schmitz/Matthew/code/triple-dev-wb/mdb/utils/ScanpyUtilsMT.py:121: FutureWarning: DataFrame.groupby with axis=1 is deprecated. Do `frame.T.groupby(...)` without axis instead.\n",
      "  adata_df = adata_df.groupby(by=adata_df.columns, axis=1).sum()\n",
      "/home/matthew.schmitz/Matthew/code/triple-dev-wb/mdb/utils/ScanpyUtilsMT.py:121: FutureWarning: DataFrame.groupby with axis=1 is deprecated. Do `frame.T.groupby(...)` without axis instead.\n",
      "  adata_df = adata_df.groupby(by=adata_df.columns, axis=1).sum()\n",
      "/home/matthew.schmitz/Matthew/utils/miniforge3/envs/solo/lib/python3.12/site-packages/anndata/_core/anndata.py:1818: UserWarning: Observation names are not unique. To make them unique, call `.obs_names_make_unique`.\n",
      "  utils.warn_names_duplicates(\"obs\")\n",
      "/home/matthew.schmitz/Matthew/utils/miniforge3/envs/solo/lib/python3.12/site-packages/scanpy/preprocessing/_simple.py:139: ImplicitModificationWarning: Trying to modify attribute `.obs` of view, initializing view as actual.\n",
      "  adata.obs['n_genes'] = number\n"
     ]
    },
    {
     "name": "stdout",
     "output_type": "stream",
     "text": [
      "1 AnnData object with n_obs × n_vars = 17084 × 55402\n",
      "    obs: 'latent_cell_probability', 'latent_RT_efficiency', 'n_genes'\n",
      "    layers: 'unspliced', 'spliced', 'ambiguous'\n",
      "2\n",
      "2.01\n",
      "5\n",
      "/allen/programs/celltypes/workgroups/rnaseqanalysis/EvoGen/Team/Matthew/data/taxtest/HvQvM/extra_mouse_ctx/fastq/SRR12082760_GSM4635077_RNA-Seq_E16_5_Mus_musculus_RNA-Seq_kOut/aem_cellbended_150_750_200e_V0.2/aem_cellbended_filtered.h5\n"
     ]
    },
    {
     "name": "stderr",
     "output_type": "stream",
     "text": [
      "/home/matthew.schmitz/Matthew/utils/miniforge3/envs/solo/lib/python3.12/site-packages/anndata/_core/aligned_df.py:67: ImplicitModificationWarning: Transforming to str index.\n",
      "  warnings.warn(\"Transforming to str index.\", ImplicitModificationWarning)\n",
      "/home/matthew.schmitz/Matthew/utils/miniforge3/envs/solo/lib/python3.12/site-packages/anndata/_core/anndata.py:1820: UserWarning: Variable names are not unique. To make them unique, call `.var_names_make_unique`.\n",
      "  utils.warn_names_duplicates(\"var\")\n",
      "/home/matthew.schmitz/Matthew/code/triple-dev-wb/mdb/utils/ScanpyUtilsMT.py:121: FutureWarning: DataFrame.groupby with axis=1 is deprecated. Do `frame.T.groupby(...)` without axis instead.\n",
      "  adata_df = adata_df.groupby(by=adata_df.columns, axis=1).sum()\n",
      "/home/matthew.schmitz/Matthew/code/triple-dev-wb/mdb/utils/ScanpyUtilsMT.py:121: FutureWarning: DataFrame.groupby with axis=1 is deprecated. Do `frame.T.groupby(...)` without axis instead.\n",
      "  adata_df = adata_df.groupby(by=adata_df.columns, axis=1).sum()\n",
      "/home/matthew.schmitz/Matthew/utils/miniforge3/envs/solo/lib/python3.12/site-packages/anndata/_core/anndata.py:1818: UserWarning: Observation names are not unique. To make them unique, call `.obs_names_make_unique`.\n",
      "  utils.warn_names_duplicates(\"obs\")\n",
      "/home/matthew.schmitz/Matthew/utils/miniforge3/envs/solo/lib/python3.12/site-packages/scanpy/preprocessing/_simple.py:139: ImplicitModificationWarning: Trying to modify attribute `.obs` of view, initializing view as actual.\n",
      "  adata.obs['n_genes'] = number\n"
     ]
    },
    {
     "name": "stdout",
     "output_type": "stream",
     "text": [
      "1 AnnData object with n_obs × n_vars = 5448 × 55402\n",
      "    obs: 'latent_cell_probability', 'latent_RT_efficiency', 'n_genes'\n",
      "    layers: 'unspliced', 'spliced', 'ambiguous'\n",
      "2\n",
      "2.01\n",
      "5\n",
      "/allen/programs/celltypes/workgroups/rnaseqanalysis/EvoGen/Team/Matthew/data/taxtest/HvQvM/extra_mouse_ctx/fastq/SRR12082762_GSM4635079_RNA-Seq_E18_5_rep2_Mus_musculus_RNA-Seq_kOut/aem_cellbended_150_750_200e_V0.2/aem_cellbended_filtered.h5\n"
     ]
    },
    {
     "name": "stderr",
     "output_type": "stream",
     "text": [
      "/home/matthew.schmitz/Matthew/utils/miniforge3/envs/solo/lib/python3.12/site-packages/anndata/_core/aligned_df.py:67: ImplicitModificationWarning: Transforming to str index.\n",
      "  warnings.warn(\"Transforming to str index.\", ImplicitModificationWarning)\n",
      "/home/matthew.schmitz/Matthew/utils/miniforge3/envs/solo/lib/python3.12/site-packages/anndata/_core/anndata.py:1820: UserWarning: Variable names are not unique. To make them unique, call `.var_names_make_unique`.\n",
      "  utils.warn_names_duplicates(\"var\")\n",
      "/home/matthew.schmitz/Matthew/code/triple-dev-wb/mdb/utils/ScanpyUtilsMT.py:121: FutureWarning: DataFrame.groupby with axis=1 is deprecated. Do `frame.T.groupby(...)` without axis instead.\n",
      "  adata_df = adata_df.groupby(by=adata_df.columns, axis=1).sum()\n",
      "/home/matthew.schmitz/Matthew/code/triple-dev-wb/mdb/utils/ScanpyUtilsMT.py:121: FutureWarning: DataFrame.groupby with axis=1 is deprecated. Do `frame.T.groupby(...)` without axis instead.\n",
      "  adata_df = adata_df.groupby(by=adata_df.columns, axis=1).sum()\n",
      "/home/matthew.schmitz/Matthew/utils/miniforge3/envs/solo/lib/python3.12/site-packages/anndata/_core/anndata.py:1818: UserWarning: Observation names are not unique. To make them unique, call `.obs_names_make_unique`.\n",
      "  utils.warn_names_duplicates(\"obs\")\n",
      "/home/matthew.schmitz/Matthew/utils/miniforge3/envs/solo/lib/python3.12/site-packages/scanpy/preprocessing/_simple.py:139: ImplicitModificationWarning: Trying to modify attribute `.obs` of view, initializing view as actual.\n",
      "  adata.obs['n_genes'] = number\n"
     ]
    },
    {
     "name": "stdout",
     "output_type": "stream",
     "text": [
      "1 AnnData object with n_obs × n_vars = 12606 × 55402\n",
      "    obs: 'latent_cell_probability', 'latent_RT_efficiency', 'n_genes'\n",
      "    layers: 'unspliced', 'spliced', 'ambiguous'\n",
      "2\n",
      "2.01\n",
      "5\n",
      "/allen/programs/celltypes/workgroups/rnaseqanalysis/EvoGen/Team/Matthew/data/taxtest/HvQvM/extra_mouse_ctx/fastq/SRR12082758_GSM4635075_RNA-Seq_E14_5_Mus_musculus_RNA-Seq_kOut/aem_cellbended_150_750_200e_V0.2/aem_cellbended_filtered.h5\n"
     ]
    },
    {
     "name": "stderr",
     "output_type": "stream",
     "text": [
      "/home/matthew.schmitz/Matthew/utils/miniforge3/envs/solo/lib/python3.12/site-packages/anndata/_core/aligned_df.py:67: ImplicitModificationWarning: Transforming to str index.\n",
      "  warnings.warn(\"Transforming to str index.\", ImplicitModificationWarning)\n",
      "/home/matthew.schmitz/Matthew/utils/miniforge3/envs/solo/lib/python3.12/site-packages/anndata/_core/anndata.py:1820: UserWarning: Variable names are not unique. To make them unique, call `.var_names_make_unique`.\n",
      "  utils.warn_names_duplicates(\"var\")\n",
      "/home/matthew.schmitz/Matthew/code/triple-dev-wb/mdb/utils/ScanpyUtilsMT.py:121: FutureWarning: DataFrame.groupby with axis=1 is deprecated. Do `frame.T.groupby(...)` without axis instead.\n",
      "  adata_df = adata_df.groupby(by=adata_df.columns, axis=1).sum()\n",
      "/home/matthew.schmitz/Matthew/code/triple-dev-wb/mdb/utils/ScanpyUtilsMT.py:121: FutureWarning: DataFrame.groupby with axis=1 is deprecated. Do `frame.T.groupby(...)` without axis instead.\n",
      "  adata_df = adata_df.groupby(by=adata_df.columns, axis=1).sum()\n",
      "/home/matthew.schmitz/Matthew/utils/miniforge3/envs/solo/lib/python3.12/site-packages/anndata/_core/anndata.py:1818: UserWarning: Observation names are not unique. To make them unique, call `.obs_names_make_unique`.\n",
      "  utils.warn_names_duplicates(\"obs\")\n",
      "/home/matthew.schmitz/Matthew/utils/miniforge3/envs/solo/lib/python3.12/site-packages/scanpy/preprocessing/_simple.py:139: ImplicitModificationWarning: Trying to modify attribute `.obs` of view, initializing view as actual.\n",
      "  adata.obs['n_genes'] = number\n"
     ]
    },
    {
     "name": "stdout",
     "output_type": "stream",
     "text": [
      "1 AnnData object with n_obs × n_vars = 4963 × 55402\n",
      "    obs: 'latent_cell_probability', 'latent_RT_efficiency', 'n_genes'\n",
      "    layers: 'unspliced', 'spliced', 'ambiguous'\n",
      "2\n",
      "2.01\n",
      "5\n",
      "/allen/programs/celltypes/workgroups/rnaseqanalysis/EvoGen/Team/Matthew/data/taxtest/HvQvM/extra_mouse_ctx/fastq/SRR12082763_GSM4635080_RNA-Seq_P1_rep1_Mus_musculus_RNA-Seq_kOut/aem_cellbended_150_750_200e_V0.2/aem_cellbended_filtered.h5\n"
     ]
    },
    {
     "name": "stderr",
     "output_type": "stream",
     "text": [
      "/home/matthew.schmitz/Matthew/utils/miniforge3/envs/solo/lib/python3.12/site-packages/anndata/_core/aligned_df.py:67: ImplicitModificationWarning: Transforming to str index.\n",
      "  warnings.warn(\"Transforming to str index.\", ImplicitModificationWarning)\n",
      "/home/matthew.schmitz/Matthew/utils/miniforge3/envs/solo/lib/python3.12/site-packages/anndata/_core/anndata.py:1820: UserWarning: Variable names are not unique. To make them unique, call `.var_names_make_unique`.\n",
      "  utils.warn_names_duplicates(\"var\")\n",
      "/home/matthew.schmitz/Matthew/code/triple-dev-wb/mdb/utils/ScanpyUtilsMT.py:121: FutureWarning: DataFrame.groupby with axis=1 is deprecated. Do `frame.T.groupby(...)` without axis instead.\n",
      "  adata_df = adata_df.groupby(by=adata_df.columns, axis=1).sum()\n",
      "/home/matthew.schmitz/Matthew/code/triple-dev-wb/mdb/utils/ScanpyUtilsMT.py:121: FutureWarning: DataFrame.groupby with axis=1 is deprecated. Do `frame.T.groupby(...)` without axis instead.\n",
      "  adata_df = adata_df.groupby(by=adata_df.columns, axis=1).sum()\n",
      "/home/matthew.schmitz/Matthew/utils/miniforge3/envs/solo/lib/python3.12/site-packages/anndata/_core/anndata.py:1818: UserWarning: Observation names are not unique. To make them unique, call `.obs_names_make_unique`.\n",
      "  utils.warn_names_duplicates(\"obs\")\n",
      "/home/matthew.schmitz/Matthew/utils/miniforge3/envs/solo/lib/python3.12/site-packages/scanpy/preprocessing/_simple.py:139: ImplicitModificationWarning: Trying to modify attribute `.obs` of view, initializing view as actual.\n",
      "  adata.obs['n_genes'] = number\n"
     ]
    },
    {
     "name": "stdout",
     "output_type": "stream",
     "text": [
      "1 AnnData object with n_obs × n_vars = 7740 × 55402\n",
      "    obs: 'latent_cell_probability', 'latent_RT_efficiency', 'n_genes'\n",
      "    layers: 'unspliced', 'spliced', 'ambiguous'\n",
      "2\n",
      "2.01\n",
      "5\n",
      "/allen/programs/celltypes/workgroups/rnaseqanalysis/EvoGen/Team/Matthew/data/taxtest/HvQvM/extra_mouse_ctx/fastq/SRR12082757_GSM4635074_RNA-Seq_E13_5_Mus_musculus_RNA-Seq_kOut/aem_cellbended_150_750_200e_V0.2/aem_cellbended_filtered.h5\n"
     ]
    },
    {
     "name": "stderr",
     "output_type": "stream",
     "text": [
      "/home/matthew.schmitz/Matthew/utils/miniforge3/envs/solo/lib/python3.12/site-packages/anndata/_core/aligned_df.py:67: ImplicitModificationWarning: Transforming to str index.\n",
      "  warnings.warn(\"Transforming to str index.\", ImplicitModificationWarning)\n",
      "/home/matthew.schmitz/Matthew/utils/miniforge3/envs/solo/lib/python3.12/site-packages/anndata/_core/anndata.py:1820: UserWarning: Variable names are not unique. To make them unique, call `.var_names_make_unique`.\n",
      "  utils.warn_names_duplicates(\"var\")\n",
      "/home/matthew.schmitz/Matthew/code/triple-dev-wb/mdb/utils/ScanpyUtilsMT.py:121: FutureWarning: DataFrame.groupby with axis=1 is deprecated. Do `frame.T.groupby(...)` without axis instead.\n",
      "  adata_df = adata_df.groupby(by=adata_df.columns, axis=1).sum()\n",
      "/home/matthew.schmitz/Matthew/code/triple-dev-wb/mdb/utils/ScanpyUtilsMT.py:121: FutureWarning: DataFrame.groupby with axis=1 is deprecated. Do `frame.T.groupby(...)` without axis instead.\n",
      "  adata_df = adata_df.groupby(by=adata_df.columns, axis=1).sum()\n",
      "/home/matthew.schmitz/Matthew/utils/miniforge3/envs/solo/lib/python3.12/site-packages/anndata/_core/anndata.py:1818: UserWarning: Observation names are not unique. To make them unique, call `.obs_names_make_unique`.\n",
      "  utils.warn_names_duplicates(\"obs\")\n",
      "/home/matthew.schmitz/Matthew/utils/miniforge3/envs/solo/lib/python3.12/site-packages/scanpy/preprocessing/_simple.py:139: ImplicitModificationWarning: Trying to modify attribute `.obs` of view, initializing view as actual.\n",
      "  adata.obs['n_genes'] = number\n"
     ]
    },
    {
     "name": "stdout",
     "output_type": "stream",
     "text": [
      "1 AnnData object with n_obs × n_vars = 8897 × 55402\n",
      "    obs: 'latent_cell_probability', 'latent_RT_efficiency', 'n_genes'\n",
      "    layers: 'unspliced', 'spliced', 'ambiguous'\n",
      "2\n",
      "2.01\n",
      "5\n",
      "/allen/programs/celltypes/workgroups/rnaseqanalysis/EvoGen/Team/Matthew/data/taxtest/HvQvM/extra_mouse_ctx/fastq/SRR14407607_GSM5277845_P4_Mus_musculus_RNA-Seq_kOut/aem_cellbended_150_750_200e_V0.2/aem_cellbended_filtered.h5\n"
     ]
    },
    {
     "name": "stderr",
     "output_type": "stream",
     "text": [
      "/home/matthew.schmitz/Matthew/utils/miniforge3/envs/solo/lib/python3.12/site-packages/anndata/_core/aligned_df.py:67: ImplicitModificationWarning: Transforming to str index.\n",
      "  warnings.warn(\"Transforming to str index.\", ImplicitModificationWarning)\n",
      "/home/matthew.schmitz/Matthew/utils/miniforge3/envs/solo/lib/python3.12/site-packages/anndata/_core/anndata.py:1820: UserWarning: Variable names are not unique. To make them unique, call `.var_names_make_unique`.\n",
      "  utils.warn_names_duplicates(\"var\")\n",
      "/home/matthew.schmitz/Matthew/code/triple-dev-wb/mdb/utils/ScanpyUtilsMT.py:121: FutureWarning: DataFrame.groupby with axis=1 is deprecated. Do `frame.T.groupby(...)` without axis instead.\n",
      "  adata_df = adata_df.groupby(by=adata_df.columns, axis=1).sum()\n",
      "/home/matthew.schmitz/Matthew/code/triple-dev-wb/mdb/utils/ScanpyUtilsMT.py:121: FutureWarning: DataFrame.groupby with axis=1 is deprecated. Do `frame.T.groupby(...)` without axis instead.\n",
      "  adata_df = adata_df.groupby(by=adata_df.columns, axis=1).sum()\n",
      "/home/matthew.schmitz/Matthew/utils/miniforge3/envs/solo/lib/python3.12/site-packages/anndata/_core/anndata.py:1818: UserWarning: Observation names are not unique. To make them unique, call `.obs_names_make_unique`.\n",
      "  utils.warn_names_duplicates(\"obs\")\n",
      "/home/matthew.schmitz/Matthew/utils/miniforge3/envs/solo/lib/python3.12/site-packages/scanpy/preprocessing/_simple.py:139: ImplicitModificationWarning: Trying to modify attribute `.obs` of view, initializing view as actual.\n",
      "  adata.obs['n_genes'] = number\n"
     ]
    },
    {
     "name": "stdout",
     "output_type": "stream",
     "text": [
      "1 AnnData object with n_obs × n_vars = 6632 × 55402\n",
      "    obs: 'latent_cell_probability', 'latent_RT_efficiency', 'n_genes'\n",
      "    layers: 'unspliced', 'spliced', 'ambiguous'\n",
      "2\n",
      "2.01\n",
      "5\n",
      "/allen/programs/celltypes/workgroups/rnaseqanalysis/EvoGen/Team/Matthew/data/taxtest/HvQvM/extra_mouse_ctx/fastq/SRR12082764_GSM4635081_RNA-Seq_P1_rep2_Mus_musculus_RNA-Seq_kOut/aem_cellbended_150_750_200e_V0.2/aem_cellbended_filtered.h5\n"
     ]
    },
    {
     "name": "stderr",
     "output_type": "stream",
     "text": [
      "/home/matthew.schmitz/Matthew/utils/miniforge3/envs/solo/lib/python3.12/site-packages/anndata/_core/aligned_df.py:67: ImplicitModificationWarning: Transforming to str index.\n",
      "  warnings.warn(\"Transforming to str index.\", ImplicitModificationWarning)\n",
      "/home/matthew.schmitz/Matthew/utils/miniforge3/envs/solo/lib/python3.12/site-packages/anndata/_core/anndata.py:1820: UserWarning: Variable names are not unique. To make them unique, call `.var_names_make_unique`.\n",
      "  utils.warn_names_duplicates(\"var\")\n",
      "/home/matthew.schmitz/Matthew/code/triple-dev-wb/mdb/utils/ScanpyUtilsMT.py:121: FutureWarning: DataFrame.groupby with axis=1 is deprecated. Do `frame.T.groupby(...)` without axis instead.\n",
      "  adata_df = adata_df.groupby(by=adata_df.columns, axis=1).sum()\n",
      "/home/matthew.schmitz/Matthew/code/triple-dev-wb/mdb/utils/ScanpyUtilsMT.py:121: FutureWarning: DataFrame.groupby with axis=1 is deprecated. Do `frame.T.groupby(...)` without axis instead.\n",
      "  adata_df = adata_df.groupby(by=adata_df.columns, axis=1).sum()\n",
      "/home/matthew.schmitz/Matthew/utils/miniforge3/envs/solo/lib/python3.12/site-packages/anndata/_core/anndata.py:1818: UserWarning: Observation names are not unique. To make them unique, call `.obs_names_make_unique`.\n",
      "  utils.warn_names_duplicates(\"obs\")\n",
      "/home/matthew.schmitz/Matthew/utils/miniforge3/envs/solo/lib/python3.12/site-packages/scanpy/preprocessing/_simple.py:139: ImplicitModificationWarning: Trying to modify attribute `.obs` of view, initializing view as actual.\n",
      "  adata.obs['n_genes'] = number\n"
     ]
    },
    {
     "name": "stdout",
     "output_type": "stream",
     "text": [
      "1 AnnData object with n_obs × n_vars = 5419 × 55402\n",
      "    obs: 'latent_cell_probability', 'latent_RT_efficiency', 'n_genes'\n",
      "    layers: 'unspliced', 'spliced', 'ambiguous'\n",
      "2\n",
      "2.01\n",
      "5\n"
     ]
    },
    {
     "name": "stderr",
     "output_type": "stream",
     "text": [
      "/home/matthew.schmitz/Matthew/utils/miniforge3/envs/solo/lib/python3.12/site-packages/anndata/_core/anndata.py:1818: UserWarning: Observation names are not unique. To make them unique, call `.obs_names_make_unique`.\n",
      "  utils.warn_names_duplicates(\"obs\")\n",
      "/home/matthew.schmitz/Matthew/utils/miniforge3/envs/solo/lib/python3.12/site-packages/anndata/utils.py:260: UserWarning: Suffix used (-[0-9]+) to deduplicate index values may make index values difficult to interpret. There values with a similar suffixes in the index. Consider using a different delimiter by passing `join={delimiter}`Example key collisions generated by the make_index_unique algorithm: ['TRAV5-2']\n",
      "  warnings.warn(\n"
     ]
    },
    {
     "name": "stdout",
     "output_type": "stream",
     "text": [
      "WARNING: genes are not in var_names and ignored: ['MLF1IP', 'H4C3', 'HIST1H1A', 'HIST1H1B', 'HIST1H1C', 'HIST1H1D', 'HIST1H1E']\n",
      "WARNING: genes are not in var_names and ignored: ['FAM64A', 'HN1']\n"
     ]
    },
    {
     "ename": "TypeError",
     "evalue": "Cannot interpret '2' as a data type",
     "output_type": "error",
     "traceback": [
      "\u001b[0;31m---------------------------------------------------------------------------\u001b[0m",
      "\u001b[0;31mTypeError\u001b[0m                                 Traceback (most recent call last)",
      "Cell \u001b[0;32mIn[18], line 110\u001b[0m\n\u001b[1;32m    107\u001b[0m adata\u001b[38;5;241m.\u001b[39mobs[\u001b[38;5;124m'\u001b[39m\u001b[38;5;124mlog10_n_counts\u001b[39m\u001b[38;5;124m'\u001b[39m] \u001b[38;5;241m=\u001b[39m np\u001b[38;5;241m.\u001b[39mlog10((adata\u001b[38;5;241m.\u001b[39mlayers[\u001b[38;5;124m'\u001b[39m\u001b[38;5;124mspliced\u001b[39m\u001b[38;5;124m'\u001b[39m]\u001b[38;5;241m>\u001b[39m\u001b[38;5;241m0\u001b[39m)\u001b[38;5;241m.\u001b[39msum(\u001b[38;5;241m1\u001b[39m))\n\u001b[1;32m    109\u001b[0m sc\u001b[38;5;241m.\u001b[39mtl\u001b[38;5;241m.\u001b[39mscore_genes_cell_cycle(adata, s_genes\u001b[38;5;241m=\u001b[39mdiv_markers[\u001b[38;5;124m'\u001b[39m\u001b[38;5;124mG1S\u001b[39m\u001b[38;5;124m'\u001b[39m], g2m_genes\u001b[38;5;241m=\u001b[39mdiv_markers[\u001b[38;5;124m'\u001b[39m\u001b[38;5;124mG2M\u001b[39m\u001b[38;5;124m'\u001b[39m])\n\u001b[0;32m--> 110\u001b[0m adata\u001b[38;5;241m.\u001b[39mobsm[\u001b[38;5;124m'\u001b[39m\u001b[38;5;124mphase_sex\u001b[39m\u001b[38;5;124m'\u001b[39m]\u001b[38;5;241m=\u001b[39mnp\u001b[38;5;241m.\u001b[39mconcatenate([adata\u001b[38;5;241m.\u001b[39mobs[\u001b[38;5;124m'\u001b[39m\u001b[38;5;124mS_score\u001b[39m\u001b[38;5;124m'\u001b[39m]\u001b[38;5;241m.\u001b[39mto_numpy()\u001b[38;5;241m.\u001b[39mreshape(\u001b[38;5;241m-\u001b[39m\u001b[38;5;241m1\u001b[39m,\u001b[38;5;241m1\u001b[39m),adata\u001b[38;5;241m.\u001b[39mobs[\u001b[38;5;124m'\u001b[39m\u001b[38;5;124mG2M_score\u001b[39m\u001b[38;5;124m'\u001b[39m]\u001b[38;5;241m.\u001b[39mto_numpy()\u001b[38;5;241m.\u001b[39mreshape(\u001b[38;5;241m-\u001b[39m\u001b[38;5;241m1\u001b[39m,\u001b[38;5;241m1\u001b[39m),adata\u001b[38;5;241m.\u001b[39mobs[\u001b[38;5;124m'\u001b[39m\u001b[38;5;124mlog10_n_counts\u001b[39m\u001b[38;5;124m'\u001b[39m]\u001b[38;5;241m.\u001b[39mto_numpy()\u001b[38;5;241m.\u001b[39mreshape(\u001b[38;5;241m-\u001b[39m\u001b[38;5;241m1\u001b[39m,\u001b[38;5;241m1\u001b[39m),\u001b[43mnp\u001b[49m\u001b[38;5;241;43m.\u001b[39;49m\u001b[43mzeros\u001b[49m\u001b[43m(\u001b[49m\u001b[43madata\u001b[49m\u001b[38;5;241;43m.\u001b[39;49m\u001b[43mshape\u001b[49m\u001b[43m[\u001b[49m\u001b[38;5;241;43m0\u001b[39;49m\u001b[43m]\u001b[49m\u001b[43m,\u001b[49m\u001b[38;5;241;43m2\u001b[39;49m\u001b[43m)\u001b[49m],axis\u001b[38;5;241m=\u001b[39m\u001b[38;5;241m1\u001b[39m)\n\u001b[1;32m    111\u001b[0m adata\u001b[38;5;241m.\u001b[39mobsm[\u001b[38;5;124m'\u001b[39m\u001b[38;5;124mphase_sex\u001b[39m\u001b[38;5;124m'\u001b[39m]\u001b[38;5;241m=\u001b[39madata\u001b[38;5;241m.\u001b[39mobsm[\u001b[38;5;124m'\u001b[39m\u001b[38;5;124mphase_sex\u001b[39m\u001b[38;5;124m'\u001b[39m]\u001b[38;5;241m/\u001b[39mnp\u001b[38;5;241m.\u001b[39mabs(adata\u001b[38;5;241m.\u001b[39mobsm[\u001b[38;5;124m'\u001b[39m\u001b[38;5;124mphase_sex\u001b[39m\u001b[38;5;124m'\u001b[39m])\u001b[38;5;241m.\u001b[39mmax(\u001b[38;5;241m0\u001b[39m)\u001b[38;5;66;03m#Scale so max value is magnitude 1\u001b[39;00m\n",
      "\u001b[0;31mTypeError\u001b[0m: Cannot interpret '2' as a data type"
     ]
    }
   ],
   "source": [
    "import os\n",
    "import scanpy\n",
    "import anndata\n",
    "import scanpy as sc\n",
    "import pandas as pd\n",
    "import numpy as np\n",
    "import scipy\n",
    "from scipy import stats\n",
    "import re\n",
    "import sklearn\n",
    "import matplotlib\n",
    "import matplotlib.pyplot as plt\n",
    "matplotlib.use('Agg')\n",
    "from collections import Counter\n",
    "import random\n",
    "import seaborn\n",
    "import sys\n",
    "import shutil\n",
    "#Load my pipeline functions\n",
    "import importlib\n",
    "import importlib.util\n",
    "spec = importlib.util.spec_from_file_location(\"ScanpyUtilsMT\",\"/home/matthew.schmitz/Matthew/code/triple-dev-wb/mdb/utils/ScanpyUtilsMT.py\")\n",
    "sc_utils = importlib.util.module_from_spec(spec)\n",
    "spec.loader.exec_module(sc_utils)\n",
    "sc.settings.file_format_figs='pdf'\n",
    "sc.settings.autosave=True\n",
    "sc.settings.autoshow=False\n",
    "\n",
    "\n",
    "pth='/allen/programs/celltypes/workgroups/rnaseqanalysis/EvoGen/Team/Matthew/data/taxtest/HvQvM/extra_mouse_ctx'\n",
    "dirs=['fastq']\n",
    "\n",
    "newfile='/allen/programs/celltypes/workgroups/rnaseqanalysis/EvoGen/Team/Matthew/data/taxtest/HvQvM/extra_mouse_ctx/mouse_ctx_fillin.h5ad'\n",
    "min_genes=800\n",
    "adatas=[]\n",
    "filename='aem_cellbended_150_750_200e_V0.2'\n",
    "for d in dirs:\n",
    "    print(d,flush=True)\n",
    "    filepath=os.path.join(pth,d)\n",
    "    files=os.listdir(filepath)\n",
    "    files=[f for f in files if 'kOut' in f]\n",
    "    for f in files:\n",
    "        print(os.path.join(filepath,f,filename,'aem_cellbended_filtered.h5'),flush=True)\n",
    "        if os.path.exists(os.path.join(filepath,f,filename,'aem_cellbended_filtered.h5')):\n",
    "            sadata = sc_utils.readCellbenderH5(os.path.join(filepath,f,filename,'aem_cellbended_filtered.h5'))\n",
    "            sadata =sadata[sadata.obs['latent_cell_probability']>.99,:]\n",
    "            sc.pp.filter_cells(sadata,min_genes=min_genes)\n",
    "        else:\n",
    "            # sadata=sc_utils.loadPlainKallisto(os.path.join(filepath,f,'all_em'),min_genes=min_genes)\n",
    "            print('FAIL',flush=True)\n",
    "            continue\n",
    "        print(1,sadata,flush=True)\n",
    "        sadata.obs.index=[re.sub(\"-1\",\"\",x) for x in sadata.obs.index]\n",
    "        sadata.uns['name']=f\n",
    "        sadata.obs['batch_name']=str(sadata.uns['name'])\n",
    "        print(2,flush=True)\n",
    "        print(2.01,flush=True)\n",
    "        sadata.obs['timepoint']=sc_utils.tp_format_mouse(sadata.uns['name'])\n",
    "        sadata.obs['dataset_name']='10.1038/s41586-021-03670-5'\n",
    "        print(5,flush=True)\n",
    "        pd.DataFrame(sadata.obs.index).to_csv(os.path.join(filepath,f,'cellbendedcells.txt'),index=False, header=False)\n",
    "        if sadata.shape[0]>10:\n",
    "            adatas.append(sadata)\n",
    "        #except Exception as e:\n",
    "        #    print(e)\n",
    "        #    print('fail')\n",
    "adata=sc.concat(adatas)\n",
    "adata.var.columns = adata.var.columns.astype(str)\n",
    "adata.obs.columns = adata.obs.columns.astype(str)\n",
    "adata.obs['clean_cellname']=[re.sub('-[0-9]+','',x) for x in  adata.obs.index]\n",
    "adata.obs['general_region'] = 'ctx'\n",
    "adata.obs['region'] = 'Ctx'\n",
    "adata.obs['female'] = 'mixed'\n",
    "\n",
    "adata.var['mgi_symbol'] = list(adata.var.index)\n",
    "mgi_tab = pd.read_csv('/home/matthew.schmitz/utils/HOM_AllOrganism.rpt',sep='\\t')\n",
    "mgi_tab.index = mgi_tab['DB Class Key']\n",
    "join_tab = mgi_tab.loc[mgi_tab['Common Organism Name']=='mouse, laboratory',:].join(mgi_tab.loc[mgi_tab['Common Organism Name']=='human',:],rsuffix='_Human')\n",
    "m2h = dict(zip(join_tab['Symbol'].str.upper(),join_tab['Symbol_Human'].str.upper()))\n",
    "adata.var.index = list(adata.var['mgi_symbol'].str.upper().replace(m2h))\n",
    "adata.obs.index = [str(x) for x in adata.obs.index]\n",
    "adata.var.index = [str(x) for x in adata.var.index]\n",
    "adata.obs_names_make_unique()\n",
    "adata.var_names_make_unique()\n",
    "\n",
    "sc.pp.normalize_total(adata)\n",
    "sc.pp.log1p(adata)\n",
    "\n",
    "div_markers={'G0':[],#'YWHAG','NNAT'\n",
    "             'G1':['CCND1','CCND2','CCND3','CCNE1','CCNE2','MKI67','PCNA'],\n",
    "'G1S':['MCM5', 'PCNA', 'TYMS', 'FEN1', 'MCM2', 'MCM4', 'RRM1', 'UNG', 'GINS2', 'MCM6', 'CDCA7',\n",
    "      'DTL', 'PRIM1', 'UHRF1', 'MLF1IP', 'HELLS', 'RFC2', 'RPA2', 'RAD51AP1', 'GMNN', \n",
    "      'WDR76', 'SLBP', 'UBR7', 'POLD3', 'MSH2', 'ATAD2', 'RAD51', 'RRM2', 'CDC45', \n",
    "      'CDC6', 'EXO1', 'TIPIN', 'DSCC1', 'BLM', 'CASP8AP2', 'USP1', 'CLSPN', 'POLA1', 'CHAF1B', \n",
    "      'E2F8','H4C3','H1-3','H1-5','H2AC12','H2AC20','H1-2','H1-4','H1-1','FBXO5',\n",
    "      'SPC25','FAM83D','HIST1H1A','HIST1H1B','HIST1H1C','HIST1H1D','HIST1H1E','CCND1','CCND2','CCND3'],#,'CCNE1', 'CCNE2'\n",
    "'G2M':['HMGB2', 'CDK1', 'NUSAP1', 'UBE2C', 'BIRC5', 'TPX2', 'TOP2A', 'NDC80', 'CKS2', 'NUF2', \n",
    "       'CKS1B', 'MKI67', 'TMPO', 'CENPF', 'TACC3', 'FAM64A', 'SMC4', 'CCNB2', 'CKAP2L', 'CKAP2', \n",
    "       'AURKB', 'BUB1', 'KIF11', 'ANP32E', 'TUBB4B', 'GTSE1', 'KIF20B', 'HJURP', 'CDCA3', 'HN1', \n",
    "       'CDC20', 'TTK', 'CDC25C', 'KIF2C', 'RANGAP1', 'NCAPD2', 'DLGAP5', 'CDCA2', 'CDCA8', 'ECT2', \n",
    "       'KIF23', 'HMMR', 'AURKA', 'PSRC1', 'ANLN', 'LBR', 'CKAP5', 'CENPE', 'CTCF', 'NEK2', 'G2E3', \n",
    "       'GAS2L3', 'CBX5','ASPM','CENPA','CCND1','CCND2','CCND3']\n",
    "        }\n",
    "\n",
    "adata.obs['n_genes'] = (adata.layers['spliced']>0).sum(1)\n",
    "adata.obs['log10_n_genes'] = np.log10((adata.layers['spliced']).sum(1))\n",
    "adata.obs['log10_n_counts'] = np.log10((adata.layers['spliced']>0).sum(1))\n",
    "\n",
    "sc.tl.score_genes_cell_cycle(adata, s_genes=div_markers['G1S'], g2m_genes=div_markers['G2M'])\n",
    "adata.obsm['phase_sex']=np.concatenate([adata.obs['S_score'].to_numpy().reshape(-1,1),adata.obs['G2M_score'].to_numpy().reshape(-1,1),adata.obs['log10_n_counts'].to_numpy().reshape(-1,1),np.zeros([adata.shape[0],2])],axis=1)\n",
    "adata.obsm['phase_sex']=adata.obsm['phase_sex']/np.abs(adata.obsm['phase_sex']).max(0)#Scale so max value is magnitude 1\n",
    "adata.obs.index = adata.obs['batch_name'] + '_' + adata.obs.index.to_series()"
   ]
  },
  {
   "cell_type": "code",
   "execution_count": 20,
   "id": "d79ec9ca-09ed-4145-bd44-b22e581a3d11",
   "metadata": {},
   "outputs": [
    {
     "data": {
      "text/plain": [
       "AnnData object with n_obs × n_vars = 101028 × 55402\n",
       "    obs: 'latent_cell_probability', 'latent_RT_efficiency', 'n_genes', 'batch_name', 'timepoint', 'dataset_name', 'clean_cellname', 'general_region', 'region', 'female', 'log10_n_genes', 'log10_n_counts', 'S_score', 'G2M_score', 'phase'\n",
       "    var: 'mgi_symbol'\n",
       "    uns: 'log1p'\n",
       "    obsm: 'phase_sex'\n",
       "    layers: 'unspliced', 'spliced', 'ambiguous'"
      ]
     },
     "execution_count": 20,
     "metadata": {},
     "output_type": "execute_result"
    }
   ],
   "source": [
    "adata"
   ]
  },
  {
   "cell_type": "code",
   "execution_count": 27,
   "id": "02375dcf-f70d-413a-b85c-718f3cbcaf0b",
   "metadata": {},
   "outputs": [],
   "source": [
    "adata.write('/allen/programs/celltypes/workgroups/rnaseqanalysis/EvoGen/Team/Matthew/data/taxtest/HvQvM/extra_mouse_ctx/mouse_ctx_fillin.h5ad')"
   ]
  },
  {
   "cell_type": "code",
   "execution_count": null,
   "id": "46b5c3d1-2a91-4725-bada-4c23b45ef6e2",
   "metadata": {},
   "outputs": [],
   "source": []
  }
 ],
 "metadata": {
  "kernelspec": {
   "display_name": "solo",
   "language": "python",
   "name": "solo"
  },
  "language_info": {
   "codemirror_mode": {
    "name": "ipython",
    "version": 3
   },
   "file_extension": ".py",
   "mimetype": "text/x-python",
   "name": "python",
   "nbconvert_exporter": "python",
   "pygments_lexer": "ipython3",
   "version": "3.12.2"
  }
 },
 "nbformat": 4,
 "nbformat_minor": 5
}
