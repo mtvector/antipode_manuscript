{
 "cells": [
  {
   "cell_type": "code",
   "execution_count": null,
   "id": "edb50bd7-0a0d-4464-b495-cfd722ef8b6f",
   "metadata": {},
   "outputs": [],
   "source": [
    "import os\n",
    "import inspect\n",
    "import seaborn\n",
    "import matplotlib\n",
    "import matplotlib.pyplot as plt\n",
    "import scanpy as sc\n",
    "import tqdm\n",
    "import sys\n",
    "import numpy as np\n",
    "import warnings\n",
    "import scvi\n",
    "warnings.filterwarnings(action='once')\n",
    "\n",
    "sc.settings.figdir=os.path.expanduser('~/WbFigures/DevIntegrations')\n",
    "sc._settings.settings._vector_friendly=True\n",
    "\n",
    "import antipode\n",
    "sys.path.append('/home/matthew.schmitz/utils/mts-utils/')\n",
    "from genomics import sc_analysis"
   ]
  },
  {
   "cell_type": "code",
   "execution_count": null,
   "id": "d91e1556-fea9-49f9-a0d2-623d08400d29",
   "metadata": {},
   "outputs": [],
   "source": [
    "adata=sc.read_h5ad('/allen/programs/celltypes/workgroups/rnaseqanalysis/EvoGen/Team/Matthew/models/1.9.1.8.1_PsiNormal-Smallerencoder-Tighter-final/p4_adata.h5ad',backed='r')"
   ]
  },
  {
   "cell_type": "code",
   "execution_count": null,
   "id": "0da3669d-7db0-4423-8b2e-f8872cbb8a4c",
   "metadata": {},
   "outputs": [],
   "source": [
    "out_reductions='/allen/programs/celltypes/workgroups/rnaseqanalysis/EvoGen/Team/Matthew/models/DevIntegrations'"
   ]
  },
  {
   "cell_type": "code",
   "execution_count": null,
   "id": "e5105e18-ebfd-415d-9f0b-bebd4c60b999",
   "metadata": {},
   "outputs": [],
   "source": [
    "batch_key='batch_name'\n",
    "discov_key='species'\n",
    "layer_key='spliced'\n",
    "MDE_KEY = \"X_antipode_MDE\""
   ]
  },
  {
   "cell_type": "code",
   "execution_count": null,
   "id": "8826b499-c0cd-49d8-abf0-a47bc35ceed1",
   "metadata": {},
   "outputs": [],
   "source": [
    "obsm_keys=[\"X_pca\", \"X_Scanorama\", \"X_liger\", \"X_harmony\", \"X_SCVI\", \"X_antipode\"]"
   ]
  },
  {
   "cell_type": "code",
   "execution_count": null,
   "id": "2068aa41-a3a5-4965-875e-4e7f8ab832bf",
   "metadata": {},
   "outputs": [],
   "source": [
    "for x in obsm_keys:\n",
    "    print(x)\n",
    "    try:\n",
    "        adata.obsm[x]=np.loadtxt(os.path.join(out_reductions,x+\".csv\"), delimiter=\",\")\n",
    "        adata.obsm[x+\"_UMAP\"]=np.loadtxt(os.path.join(out_reductions,x+\"_MDE\"+\".csv\"), delimiter=\",\")\n",
    "    except:\n",
    "        print(x,'FAILED')"
   ]
  },
  {
   "cell_type": "code",
   "execution_count": null,
   "id": "d2bd660c-17f3-4907-8dbd-8358430f600f",
   "metadata": {},
   "outputs": [],
   "source": [
    "for x in obsm_keys:\n",
    "    print(x)\n",
    "    try:\n",
    "        if not x in adata.obsm.keys():\n",
    "            MDE_KEY = x+\"_UMAP\"\n",
    "            adata.obsm[MDE_KEY] = antipode.plotting.clip_latent_dimensions(scvi.model.utils.mde(adata.obsm[x],init='random'),0.1)\n",
    "            torch.cuda.empty_cache()\n",
    "            np.savetxt(os.path.join(out_reductions,MDE_KEY+\".csv\"), adata.obsm[MDE_KEY], delimiter=\",\")\n",
    "    except:\n",
    "        print(x,'FAILED')"
   ]
  },
  {
   "cell_type": "code",
   "execution_count": null,
   "id": "bf3294df-e9b4-453a-8da1-59d4071115de",
   "metadata": {},
   "outputs": [],
   "source": [
    "for x in obsm_keys:\n",
    "    try:\n",
    "        MDE_KEY = x+\"_UMAP\"\n",
    "        sc.pl.embedding(\n",
    "            adata,\n",
    "            basis=MDE_KEY,\n",
    "            color=[\"antipode_cluster\"],legend_fontsize=6,legend_fontweight='normal',\n",
    "            legend_loc='on data',palette=sc.pl.palettes.godsnot_102,save=\"_antipode_cluster.svg\"\n",
    "            )    \n",
    "        sc.pl.embedding(\n",
    "            adata,\n",
    "            basis=MDE_KEY,\n",
    "            color=[discov_key],legend_fontsize=6,legend_fontweight='normal',\n",
    "            palette=sc.pl.palettes.godsnot_102,save=discov_key+\".svg\"\n",
    "            )    \n",
    "        \n",
    "    except:\n",
    "        print(x,'FAILED')"
   ]
  },
  {
   "cell_type": "markdown",
   "id": "efc43db4-2cf3-4a61-a481-6620d141927a",
   "metadata": {},
   "source": [
    "# Retina"
   ]
  },
  {
   "cell_type": "code",
   "execution_count": null,
   "id": "8dd29bfc-7a76-40f8-b3d3-3727a6643d08",
   "metadata": {},
   "outputs": [],
   "source": [
    "sc.settings.figdir=os.path.expanduser('~/WbFigures/RetinaIntegrations')"
   ]
  },
  {
   "cell_type": "code",
   "execution_count": null,
   "id": "2f12c08c-1a07-4ecd-8b5d-c7dce34cfd74",
   "metadata": {},
   "outputs": [],
   "source": [
    "adata=sc.read_h5ad('/home/matthew.schmitz/Matthew/models/1.9.1.8.1_RunRetinaAllNoPsi/p4_adata.h5ad',backed='r')"
   ]
  },
  {
   "cell_type": "code",
   "execution_count": null,
   "id": "95138328-8ff8-46bd-aa6f-387b9112cfbd",
   "metadata": {},
   "outputs": [],
   "source": [
    "out_reductions='/allen/programs/celltypes/workgroups/rnaseqanalysis/EvoGen/Team/Matthew/models/RetinaAllIntegrations'"
   ]
  },
  {
   "cell_type": "code",
   "execution_count": null,
   "id": "993ac204-1295-4739-b7c3-a3ea2e79365d",
   "metadata": {},
   "outputs": [],
   "source": [
    "batch_key='batch'\n",
    "discov_key='species'\n",
    "layer_key='UMIs'\n",
    "MDE_KEY = \"X_antipode_MDE\""
   ]
  },
  {
   "cell_type": "code",
   "execution_count": null,
   "id": "47e01a4b-ac4d-400b-a9ab-c6ade2a9a96f",
   "metadata": {},
   "outputs": [],
   "source": [
    "obsm_keys=[\"X_pca\", \"X_Scanorama\", \"X_liger\", \"X_harmony\", \"X_SCVI\", \"X_antipode\"]"
   ]
  },
  {
   "cell_type": "code",
   "execution_count": null,
   "id": "3e2499d7-1a84-4cf2-ac34-d395831a15cc",
   "metadata": {},
   "outputs": [],
   "source": [
    "for x in obsm_keys:\n",
    "    print(x)\n",
    "    try:\n",
    "        adata.obsm[x]=np.loadtxt(os.path.join(out_reductions,x+\".csv\"), delimiter=\",\")\n",
    "        adata.obsm[x+\"_MDE\"]=np.loadtxt(os.path.join(out_reductions,x+\"_MDE\"+\".csv\"), delimiter=\",\")\n",
    "    except:\n",
    "        print(x,'FAILED')"
   ]
  },
  {
   "cell_type": "code",
   "execution_count": null,
   "id": "39817e94-52c4-42e9-b703-8156ff3c5330",
   "metadata": {},
   "outputs": [],
   "source": [
    "!nvidia-smi"
   ]
  },
  {
   "cell_type": "code",
   "execution_count": null,
   "id": "c3e22e8a-90c8-46ff-8226-60b48e3248fe",
   "metadata": {},
   "outputs": [],
   "source": [
    "for x in obsm_keys:\n",
    "    print(x)\n",
    "    MDE_KEY = x+\"_MDE\"\n",
    "    try:\n",
    "        if not MDE_KEY in adata.obsm.keys():\n",
    "            adata.obsm[MDE_KEY] = antipode.plotting.clip_latent_dimensions(scvi.model.utils.mde(adata.obsm[x],init='random'),0.1)\n",
    "            torch.cuda.empty_cache()\n",
    "            np.savetxt(os.path.join(out_reductions,MDE_KEY+\".csv\"), adata.obsm[MDE_KEY], delimiter=\",\")\n",
    "    except:\n",
    "        print(x,'FAILED')"
   ]
  },
  {
   "cell_type": "code",
   "execution_count": null,
   "id": "3a831f10-1d90-4e45-8ed5-cad69faf5ca1",
   "metadata": {},
   "outputs": [],
   "source": [
    "for x in obsm_keys:\n",
    "    try:\n",
    "        MDE_KEY = x+\"_MDE\"\n",
    "        sc.pl.embedding(\n",
    "            adata,\n",
    "            basis=MDE_KEY,\n",
    "            color=[\"antipode_cluster\"],legend_fontsize=6,legend_fontweight='normal',\n",
    "            legend_loc='on data',palette=sc.pl.palettes.godsnot_102,save=\"_antipode_cluster.svg\"\n",
    "            )    \n",
    "        sc.pl.embedding(\n",
    "            adata,\n",
    "            basis=MDE_KEY,\n",
    "            color=[discov_key],legend_fontsize=6,legend_fontweight='normal',\n",
    "            palette=sc.pl.palettes.godsnot_102,save=discov_key+\".svg\"\n",
    "            )    \n",
    "        \n",
    "    except:\n",
    "        print(x,'FAILED')"
   ]
  }
 ],
 "metadata": {
  "kernelspec": {
   "display_name": "antipode",
   "language": "python",
   "name": "antipode"
  },
  "language_info": {
   "codemirror_mode": {
    "name": "ipython",
    "version": 3
   },
   "file_extension": ".py",
   "mimetype": "text/x-python",
   "name": "python",
   "nbconvert_exporter": "python",
   "pygments_lexer": "ipython3",
   "version": "3.12.8"
  }
 },
 "nbformat": 4,
 "nbformat_minor": 5
}
