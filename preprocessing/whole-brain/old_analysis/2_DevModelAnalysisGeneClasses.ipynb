{
 "cells": [
  {
   "cell_type": "code",
   "execution_count": 1,
   "id": "edb50bd7-0a0d-4464-b495-cfd722ef8b6f",
   "metadata": {},
   "outputs": [
    {
     "name": "stdout",
     "output_type": "stream",
     "text": [
      "GPU is not available\n"
     ]
    },
    {
     "name": "stderr",
     "output_type": "stream",
     "text": [
      "/home/matthew.schmitz/Matthew/utils/miniforge3/envs/antipode/lib/python3.12/site-packages/tqdm/auto.py:21: TqdmWarning: IProgress not found. Please update jupyter and ipywidgets. See https://ipywidgets.readthedocs.io/en/stable/user_install.html\n",
      "  from .autonotebook import tqdm as notebook_tqdm\n"
     ]
    }
   ],
   "source": [
    "# various import statements\n",
    "import os\n",
    "import inspect\n",
    "import seaborn\n",
    "import matplotlib\n",
    "import matplotlib.pyplot as plt\n",
    "import torch\n",
    "import scanpy as sc\n",
    "import tqdm\n",
    "import sys\n",
    "import PyComplexHeatmap as pch\n",
    "import numpy as np\n",
    "import scipy\n",
    "import pandas as pd\n",
    "import anndata\n",
    "\n",
    "sc.settings.figdir=os.path.expanduser('~/WbFigures/DevAnalysis')\n",
    "\n",
    "device = torch.device(\"cuda:0\" if torch.cuda.is_available() else \"cpu\")\n",
    "\n",
    "if torch.cuda.is_available():\n",
    "    print(\"GPU is available\")\n",
    "    print(\"Number of GPUs:\", torch.cuda.device_count())\n",
    "    print(\"GPU Name:\", torch.cuda.get_device_name(0))\n",
    "else:\n",
    "    print(\"GPU is not available\")\n",
    "\n",
    "sys.path.append('/home/matthew.schmitz/utils/mts-utils/')\n",
    "from genomics import sc_analysis\n",
    "\n",
    "import antipode\n",
    "import antipode.antipode_model\n",
    "import antipode.model_functions\n",
    "import antipode.plotting\n",
    "import antipode.post\n",
    "\n",
    "from genomics.sc_analysis import corr2_coeff\n",
    "from os.path import join as pjoin"
   ]
  },
  {
   "cell_type": "code",
   "execution_count": 2,
   "id": "e408965f-7af5-4416-bbf5-370466bd2f6f",
   "metadata": {},
   "outputs": [],
   "source": [
    "orthos=pd.read_csv('/home/matthew.schmitz/Matthew/genome/archaic/mm10/HOM_AllOrganism.rpt',sep='\\t') #MGI ortholog table for mouse\n",
    "orthos=orthos.loc[orthos['NCBI Taxon ID'].isin([10090,9606]),:]\n",
    "classcounts=orthos['DB Class Key'].value_counts()\n",
    "one2one=classcounts.index[list(classcounts==2)]\n",
    "orthos=orthos.loc[orthos['DB Class Key'].isin(one2one),:]\n",
    "\n",
    "htab=orthos.loc[orthos['NCBI Taxon ID']==9606,:]\n",
    "mtab=orthos.loc[orthos['NCBI Taxon ID']==10090,:]\n",
    "mdict=dict(zip(mtab['Symbol'],htab['Symbol']))"
   ]
  },
  {
   "cell_type": "code",
   "execution_count": 3,
   "id": "c1cc1275-02c9-4968-abbd-e73ee7079a87",
   "metadata": {},
   "outputs": [],
   "source": [
    "gl_path='/allen/programs/celltypes/workgroups/rnaseqanalysis/EvoGen/Team/Matthew/data/taxtest/gene_lists'\n",
    "hLen=pd.read_csv(pjoin(gl_path,'human_lengths_synteny.txt'),sep='\\t',index_col=0)\n",
    "qLen=pd.read_csv(pjoin(gl_path,'macaque_lengths_synteny.txt'),sep='\\t',index_col=0)\n",
    "mLen=pd.read_csv(pjoin(gl_path,'mouse_lengths_synteny.txt'),sep='\\t',index_col=0)\n"
   ]
  },
  {
   "cell_type": "code",
   "execution_count": 4,
   "id": "93b82676-1200-41c7-b9d6-77bedb50c7ea",
   "metadata": {},
   "outputs": [],
   "source": [
    "mLen.index=list(mLen['gene'].map(lambda x: mdict.get(x,x)))\n",
    "qLen.index=list(qLen['gene'])\n",
    "hLen.index=list(hLen['gene'])\n",
    "mLen.columns=['m_'+x for x in mLen.columns]\n",
    "qLen.columns=['q_'+x for x in qLen.columns]\n",
    "hLen.columns=['h_'+x for x in hLen.columns]\n"
   ]
  },
  {
   "cell_type": "code",
   "execution_count": 5,
   "id": "9335071f-c1af-4e0e-9125-0904c7d22a8d",
   "metadata": {},
   "outputs": [],
   "source": [
    "qLen.index=anndata.utils.make_index_unique(qLen.index)\n",
    "hLen.index=anndata.utils.make_index_unique(hLen.index)\n",
    "mLen.index=anndata.utils.make_index_unique(mLen.index)"
   ]
  },
  {
   "cell_type": "code",
   "execution_count": 6,
   "id": "ff3aa249-f4cf-42aa-96fa-d36b8d9df79b",
   "metadata": {},
   "outputs": [
    {
     "name": "stdout",
     "output_type": "stream",
     "text": [
      "       m_gene  m_gene_size  m_left_flank  m_right_flank  m_syntenic\n",
      "ATP6     ATP6        680.0           0.0            0.0       False\n",
      "ATP8     ATP8        203.0           2.0            0.0       False\n",
      "COX1     COX1       1544.0           2.0            0.0       False\n",
      "COX2     COX2        683.0           2.0            4.0       False\n",
      "COX3     COX3        783.0           0.0            1.0       False\n",
      "...       ...          ...           ...            ...         ...\n",
      "TrnV     TrnV         68.0           1.0            1.0       False\n",
      "TrnW     TrnW         66.0           0.0            2.0       False\n",
      "TrnY     TrnY         66.0           3.0            2.0       False\n",
      "RNR1-1   RNR1        954.0           2.0            1.0       False\n",
      "RNR2-1   RNR2       1581.0           1.0            1.0       False\n",
      "\n",
      "[55523 rows x 5 columns]\n",
      "                q_gene  q_gene_size  q_left_flank  q_right_flank  q_syntenic\n",
      "PGBD2            PGBD2       6138.0        7416.0          713.0        True\n",
      "RNU6-1205P  RNU6-1205P        102.0         713.0        50900.0        True\n",
      "AL672291.1  AL672291.1       6240.0       50900.0            0.0        True\n",
      "ZNF692          ZNF692       9440.0           0.0          449.0        True\n",
      "ZNF672          ZNF672      10464.0         449.0        10412.0        True\n",
      "...                ...          ...           ...            ...         ...\n",
      "ND3                ND3        345.0          69.0           66.0       False\n",
      "ND4                ND4       1377.0           0.0          200.0       False\n",
      "ND4L              ND4L        296.0          66.0            0.0       False\n",
      "ND5                ND5       1811.0         200.0            1.0       False\n",
      "ND6                ND6        527.0           1.0           74.0       False\n",
      "\n",
      "[66392 rows x 5 columns]\n",
      "                h_gene  h_gene_size  h_left_flank  h_right_flank  h_syntenic\n",
      "TSPAN6          TSPAN6      12883.0       27223.0         4204.0        True\n",
      "TNMD              TNMD      14949.0      174663.0        27223.0        True\n",
      "DPM1              DPM1      23688.0           0.0          263.0        True\n",
      "SCYL3            SCYL3      44636.0           0.0            0.0        True\n",
      "C1orf112      C1orf112     192073.0       31814.0            0.0        True\n",
      "...                ...          ...           ...            ...         ...\n",
      "Z97205.3      Z97205.3       4153.0           0.0       114879.0        True\n",
      "AC010184.1  AC010184.1       6689.0           0.0        14200.0        True\n",
      "AL357874.3  AL357874.3       1702.0       10486.0          123.0        True\n",
      "AL645933.5  AL645933.5      63003.0           0.0            0.0       False\n",
      "AC116317.2  AC116317.2      16076.0        5626.0         8210.0        True\n",
      "\n",
      "[60661 rows x 5 columns]\n"
     ]
    }
   ],
   "source": [
    "print(mLen)\n",
    "print(qLen)\n",
    "print(hLen)"
   ]
  },
  {
   "cell_type": "code",
   "execution_count": 7,
   "id": "f16e32a7-e5e5-4ebd-9e00-b52e55bed1e0",
   "metadata": {},
   "outputs": [
    {
     "name": "stdout",
     "output_type": "stream",
     "text": [
      "\u001b[34mINFO    \u001b[0m Generating sequential column names                                                                        \n"
     ]
    },
    {
     "name": "stderr",
     "output_type": "stream",
     "text": [
      "/home/matthew.schmitz/Matthew/utils/miniforge3/envs/antipode/lib/python3.12/site-packages/pyro/params/param_store.py:334: FutureWarning: You are using `torch.load` with `weights_only=False` (the current default value), which uses the default pickle module implicitly. It is possible to construct malicious pickle data which will execute arbitrary code during unpickling (See https://github.com/pytorch/pytorch/blob/main/SECURITY.md#untrusted-models for more details). In a future release, the default value for `weights_only` will be flipped to `True`. This limits the functions that could be executed during unpickling. Arbitrary objects will no longer be allowed to be loaded via this mode unless they are explicitly allowlisted by the user via `torch.serialization.add_safe_globals`. We recommend you start setting `weights_only=True` for any use case where you don't have full control of the loaded file. Please open an issue on GitHub for any issues related to this experimental feature.\n",
      "  state = torch.load(input_file, map_location)\n"
     ]
    }
   ],
   "source": [
    "model_tag = '1.9.1.8.5_Dev_final_noQ_INP_moredim_regionsample'\n",
    "model_path='/home/matthew.schmitz/Matthew/models/'+model_tag\n",
    "adata=sc.read_h5ad(os.path.join(model_path,'analysis_inprogress.h5ad'))\n",
    "antipode_model=antipode.antipode_model.ANTIPODE.load(model_path,prefix='p4_',device=device,adata=adata)\n",
    "adata=antipode_model.adata_manager.adata"
   ]
  },
  {
   "cell_type": "code",
   "execution_count": 8,
   "id": "388b9966-2915-4c97-9d8b-304ae8097deb",
   "metadata": {},
   "outputs": [
    {
     "data": {
      "text/plain": [
       "AnnData object with n_obs × n_vars = 1913938 × 16738\n",
       "    obs: 'G2M_score', 'S_score', 'batch_name', 'general_region', 'log10_n_counts', 'phase', 'region', 'species', 'female', 'general_region_species', '_scvi_discov_ind', '_scvi_batch_ind', 'psi_0', 'psi_1', 'psi_2', 'q_score', 'level_0', 'level_1', 'level_2', 'antipode_cluster', 'kmeans', 'anno_level_2', 'neighborhood', 'curated_class_label', 'doublet', 'individual', 'n_genes', 'percent_ribo', 'msregion', 'dataset_name', 'singlet', 'n_counts', 'timepoint', 'log_abs_sum_dynam', 'clipped_psi_2', 'initial_class', 'ic_extended', 'abc_subclass_markercor', 'juv_subclass_markercor', 'linnarson_extended', 'lamanno_class', 'lamanno_subclass', 'lamanno_cluster', 'new_ccl', 'new_neighborhood', 'ccl_extended', 'new_neighborhood_extended', 'log_n_genes'\n",
       "    var: 'highly_variable', 'highly_variable_intersection', 'highly_variable_nbatches', 'highly_variable_rank', 'mean', 'means', 'n_cells', 'std', 'variances', 'variances_norm'\n",
       "    uns: '_scvi_manager_uuid', '_scvi_uuid', 'dendrogram_level_2', 'general_region_color_dict', 'general_region_colors', 'leiden', 'level_1_color_dict', 'level_1_colors', 'level_2_color_dict', 'level_2_colors', 'neighborhood_color_dict', 'neighborhood_colors', 'new_ccl_colors', 'param_store', 'pca', 'phase_color_dict', 'phase_colors', 'region_cats', 'region_color_dict', 'region_colors', 'region_colors_dict', 'species_color_dict', 'species_colors', 'umap'\n",
       "    obsm: 'X_antipode', 'X_antipode_UMAP', 'X_umap', 'discov_onehot', 'kmeans_onehot', 'phase_sex', 'taxon_probs'\n",
       "    layers: 'spliced'"
      ]
     },
     "execution_count": 8,
     "metadata": {},
     "output_type": "execute_result"
    }
   ],
   "source": [
    "adata"
   ]
  },
  {
   "cell_type": "code",
   "execution_count": 9,
   "id": "139d7c3f-daa6-46d6-a277-8400e1078649",
   "metadata": {},
   "outputs": [],
   "source": [
    "neighborhood_jaccards=pd.read_csv('/allen/programs/celltypes/workgroups/rnaseqanalysis/EvoGen/Team/Matthew/data/taxtest/gene_lists/gene_order_jaccards.csv',index_col=0)\n",
    "neighborhood_jaccards.columns=['neighborhood_jaccard_'+x for x in neighborhood_jaccards.columns]"
   ]
  },
  {
   "cell_type": "code",
   "execution_count": 10,
   "id": "f94a8234-adb7-4155-a359-98afbf5b2518",
   "metadata": {},
   "outputs": [],
   "source": [
    "batch_key='batch_name'\n",
    "discov_key='species'\n",
    "layer_key='spliced'\n",
    "MDE_KEY = \"X_antipode_UMAP\"\n",
    "num_iterations=5000\n",
    "#gene_lengths\n",
    "#synteny\n",
    "#synteny50k"
   ]
  },
  {
   "cell_type": "code",
   "execution_count": 11,
   "id": "f2f27916-638f-4d9f-bd47-a001617f7d31",
   "metadata": {},
   "outputs": [],
   "source": [
    "adata.var.loc[qLen.index[qLen.index.isin(adata.var.index)],qLen.columns]=qLen\n",
    "adata.var.loc[mLen.index[mLen.index.isin(adata.var.index)],mLen.columns]=mLen\n",
    "adata.var.loc[hLen.index[hLen.index.isin(adata.var.index)],hLen.columns]=hLen\n",
    "adata.var.loc[neighborhood_jaccards.index[neighborhood_jaccards.index.isin(adata.var.index)],neighborhood_jaccards.columns]=neighborhood_jaccards"
   ]
  },
  {
   "cell_type": "code",
   "execution_count": 12,
   "id": "5af753df-1365-425a-bd3f-b91a49e14ab2",
   "metadata": {},
   "outputs": [
    {
     "name": "stderr",
     "output_type": "stream",
     "text": [
      "/scratch/fast/44751/ipykernel_2373380/3123349924.py:1: FutureWarning: Downcasting object dtype arrays on .fillna, .ffill, .bfill is deprecated and will change in a future version. Call result.infer_objects(copy=False) instead. To opt-in to the future behavior, set `pd.set_option('future.no_silent_downcasting', True)`\n",
      "  adata.var['m_syntenic']=adata.var['m_syntenic'].fillna(False)\n",
      "/scratch/fast/44751/ipykernel_2373380/3123349924.py:2: FutureWarning: Downcasting object dtype arrays on .fillna, .ffill, .bfill is deprecated and will change in a future version. Call result.infer_objects(copy=False) instead. To opt-in to the future behavior, set `pd.set_option('future.no_silent_downcasting', True)`\n",
      "  adata.var['q_syntenic']=adata.var['q_syntenic'].fillna(False)\n",
      "/scratch/fast/44751/ipykernel_2373380/3123349924.py:3: FutureWarning: Downcasting object dtype arrays on .fillna, .ffill, .bfill is deprecated and will change in a future version. Call result.infer_objects(copy=False) instead. To opt-in to the future behavior, set `pd.set_option('future.no_silent_downcasting', True)`\n",
      "  adata.var['h_syntenic']=adata.var['h_syntenic'].fillna(False)\n"
     ]
    }
   ],
   "source": [
    "adata.var['m_syntenic']=adata.var['m_syntenic'].fillna(False)\n",
    "adata.var['q_syntenic']=adata.var['q_syntenic'].fillna(False)\n",
    "adata.var['h_syntenic']=adata.var['h_syntenic'].fillna(False)"
   ]
  },
  {
   "cell_type": "code",
   "execution_count": 13,
   "id": "ed7fe3b6-71a1-4cc7-9b56-7e1a7529859e",
   "metadata": {},
   "outputs": [],
   "source": [
    "#Log10 1p of continuous var covariates\n",
    "covariates = ['q_gene_size', 'q_left_flank', 'q_right_flank', 'm_gene_size', 'm_left_flank', 'm_right_flank','h_gene_size', 'h_left_flank', 'h_right_flank']\n",
    "adata.var.loc[:,covariates]=np.log10(1+adata.var.loc[:,covariates])"
   ]
  },
  {
   "cell_type": "code",
   "execution_count": 14,
   "id": "13deceeb-d02c-4b2d-8b5e-2296979b174b",
   "metadata": {},
   "outputs": [
    {
     "data": {
      "text/plain": [
       "<Axes: xlabel='h_gene_size', ylabel='Count'>"
      ]
     },
     "execution_count": 14,
     "metadata": {},
     "output_type": "execute_result"
    },
    {
     "data": {
      "image/png": "[encoded data removed]",
      "text/plain": [
       "<Figure size 640x480 with 1 Axes>"
      ]
     },
     "metadata": {},
     "output_type": "display_data"
    }
   ],
   "source": [
    "seaborn.histplot(adata.var['h_gene_size'])\n",
    "seaborn.histplot(adata.var['q_gene_size'])\n",
    "seaborn.histplot(adata.var['m_gene_size'])"
   ]
  },
  {
   "cell_type": "code",
   "execution_count": 15,
   "id": "9252778a-fa8f-4f50-ad47-22f541b65a2d",
   "metadata": {},
   "outputs": [],
   "source": [
    "adata.var.to_csv(os.path.join(model_path,'var.csv'))"
   ]
  },
  {
   "cell_type": "code",
   "execution_count": 16,
   "id": "9b7f6af3-0995-4270-b864-3682c7d4dfa9",
   "metadata": {},
   "outputs": [],
   "source": [
    "anndata.settings.allow_write_nullable_strings = True\n",
    "adata.write_h5ad(os.path.join(model_path,'analysis_inprogress.h5ad'))"
   ]
  },
  {
   "cell_type": "code",
   "execution_count": 17,
   "id": "26c53853-c9db-4743-ac25-1c6334556be4",
   "metadata": {},
   "outputs": [
    {
     "data": {
      "text/plain": [
       "AnnData object with n_obs × n_vars = 1913938 × 16738\n",
       "    obs: 'G2M_score', 'S_score', 'batch_name', 'general_region', 'log10_n_counts', 'phase', 'region', 'species', 'female', 'general_region_species', '_scvi_discov_ind', '_scvi_batch_ind', 'psi_0', 'psi_1', 'psi_2', 'q_score', 'level_0', 'level_1', 'level_2', 'antipode_cluster', 'kmeans', 'anno_level_2', 'neighborhood', 'curated_class_label', 'doublet', 'individual', 'n_genes', 'percent_ribo', 'msregion', 'dataset_name', 'singlet', 'n_counts', 'timepoint', 'log_abs_sum_dynam', 'clipped_psi_2', 'initial_class', 'ic_extended', 'abc_subclass_markercor', 'juv_subclass_markercor', 'linnarson_extended', 'lamanno_class', 'lamanno_subclass', 'lamanno_cluster', 'new_ccl', 'new_neighborhood', 'ccl_extended', 'new_neighborhood_extended', 'log_n_genes'\n",
       "    var: 'highly_variable', 'highly_variable_intersection', 'highly_variable_nbatches', 'highly_variable_rank', 'mean', 'means', 'n_cells', 'std', 'variances', 'variances_norm', 'q_gene', 'q_gene_size', 'q_left_flank', 'q_right_flank', 'q_syntenic', 'm_gene', 'm_gene_size', 'm_left_flank', 'm_right_flank', 'm_syntenic', 'h_gene', 'h_gene_size', 'h_left_flank', 'h_right_flank', 'h_syntenic', 'neighborhood_jaccard_human_macaque', 'neighborhood_jaccard_macaque_mouse', 'neighborhood_jaccard_mouse_human'\n",
       "    uns: '_scvi_manager_uuid', '_scvi_uuid', 'dendrogram_level_2', 'general_region_color_dict', 'general_region_colors', 'leiden', 'level_1_color_dict', 'level_1_colors', 'level_2_color_dict', 'level_2_colors', 'neighborhood_color_dict', 'neighborhood_colors', 'new_ccl_colors', 'param_store', 'pca', 'phase_color_dict', 'phase_colors', 'region_cats', 'region_color_dict', 'region_colors', 'region_colors_dict', 'species_color_dict', 'species_colors', 'umap'\n",
       "    obsm: 'X_antipode', 'X_antipode_UMAP', 'X_umap', 'discov_onehot', 'kmeans_onehot', 'phase_sex', 'taxon_probs'\n",
       "    layers: 'spliced'"
      ]
     },
     "execution_count": 17,
     "metadata": {},
     "output_type": "execute_result"
    }
   ],
   "source": [
    "adata"
   ]
  },
  {
   "cell_type": "code",
   "execution_count": 18,
   "id": "4112b775-0db2-494d-aa09-9b6dbfc47fec",
   "metadata": {},
   "outputs": [
    {
     "ename": "NameError",
     "evalue": "name 'adsfadf' is not defined",
     "output_type": "error",
     "traceback": [
      "\u001b[0;31m---------------------------------------------------------------------------\u001b[0m",
      "\u001b[0;31mNameError\u001b[0m                                 Traceback (most recent call last)",
      "Cell \u001b[0;32mIn[18], line 1\u001b[0m\n\u001b[0;32m----> 1\u001b[0m \u001b[43madsfadf\u001b[49m\n",
      "\u001b[0;31mNameError\u001b[0m: name 'adsfadf' is not defined"
     ]
    }
   ],
   "source": [
    "adsfadf"
   ]
  },
  {
   "cell_type": "code",
   "execution_count": null,
   "id": "c10831a0-82e6-4838-a6e8-d7cb7eb6c42f",
   "metadata": {},
   "outputs": [],
   "source": [
    "species_contrasts=dict(zip(['H/Q','H/M','Q/M'],[[0,1],[0,2],[1,2]]))\n",
    "\n",
    "q_length_intergenic=pd.read_csv('/mnt/sda/toga_annotations/GeneSizeAndIntergenic_Q.tsv',sep='\\t')\n",
    "h_length_intergenic=pd.read_csv('/mnt/sda/toga_annotations/GeneSizeAndIntergenic_H.tsv',sep='\\t')\n",
    "m_length_intergenic=pd.read_csv('/mnt/sda/toga_annotations/GeneSizeAndIntergenic_M.tsv',sep='\\t')\n",
    "\n",
    "#Intergenic Distance\n",
    "intergenic_dfs=dict(zip(['human','macaque','mouse'],[h_length_intergenic,q_length_intergenic,m_length_intergenic]))\n",
    "species_dict=dict(zip(adata.obs.species.cat.categories,list(range(pstore['discov_di'].shape[0]))))\n",
    "params_dict=dict(zip(['DM','DC','DI','estimated GE'],[dm_diffs,dc_diffs,de_diffs,estimated_ge]))#,'real GE',real_ge\n",
    "\n",
    "for contrast in species_contrasts.keys():\n",
    "    fig, ax = plt.subplots(nrows=len(species_dict), ncols=len(params_dict),figsize=(30,30))\n",
    "    for i,species in enumerate(species_dict.keys()):\n",
    "        species_ind=species_dict[species]\n",
    "        for j,paramname in enumerate(params_dict.keys()):\n",
    "            if species not in intergenic_dfs.keys():\n",
    "                continue\n",
    "            params=params_dict[paramname]\n",
    "            idf=intergenic_dfs[species]\n",
    "            idf=idf.loc[(idf.loc[:,'left_flank']+idf.loc[:,'right_flank'])>0,:]\n",
    "            param_contrast=params[species_contrasts[contrast][0]]-params[species_contrasts[contrast][1]]\n",
    "            adata_genes=adata.var.index.isin(idf['gene'])\n",
    "            genes=adata.var.index[adata_genes]\n",
    "            idf.index=idf['gene']\n",
    "            idf=idf.loc[genes,:]\n",
    "            x=np.log10(idf.loc[:,'left_flank']+idf.loc[:,'right_flank']+1)\n",
    "            #x=np.log10(idf.loc[:,['left_flank','right_flank']].min(1)+1)\n",
    "            y=param_contrast[:,adata_genes].var(0)\n",
    "            pval=resampling_slope_p_value(x.to_numpy(),y, num_iterations=num_iterations)\n",
    "\n",
    "            #y=np.abs(param_contrast[:,adata_genes]).max(0)[0]\n",
    "            seaborn.scatterplot(x,y,color='black',ax=ax[i][j],alpha=0.1,legend=None)        \n",
    "            a, b = np.polyfit(x, y, 1)\n",
    "            model=np.poly1d([a,b])\n",
    "            ax[i][j].plot(x, a*x+b)\n",
    "            ax[i][j].set_xlim((0,x.max()))\n",
    "            ax[i][j].set_ylim((0,y.max()))\n",
    "            r2=sklearn.metrics.r2_score(y,model(x))\n",
    "            #seaborn.regplot((idf.loc[:,'left_flank']+idf.loc[:,'right_flank']+1),param_contrast[:,adata_genes].var(0).flatten(),color='black',ax=ax[i][j])        \n",
    "            ax[i][j].set_title(paramname+\" Distances in \"+species+'\\n'+\n",
    "                               'm='+'%.2E'%Decimal(a)+', b='+'%.2E'%Decimal(b)+', r^2='+'%.2E'%Decimal(r2)+'\\n'+\n",
    "                                'resampled pval='+'%.2E'%Decimal(str(pval)),\n",
    "                               y=1\n",
    "                              )\n",
    "            #ax[i][j].set_title('in median ='+str(np.median(comparison[:,gidx]))+'\\nout median ='+str(np.median(comparison[:,ngidx])),y=0.8, fontsize=10)\n",
    "    fig.suptitle('Log10 Intergenic Distance (x) vs '+contrast+' Var Parameter (y)',y=0.93,fontsize=18)\n",
    "    plt.show(fig)"
   ]
  },
  {
   "cell_type": "code",
   "execution_count": null,
   "id": "de569a23-ddd4-4591-b9cf-06699c4aa47d",
   "metadata": {},
   "outputs": [],
   "source": []
  },
  {
   "cell_type": "code",
   "execution_count": null,
   "id": "90e7bc51-357e-49e5-83d8-86b9b9a46e55",
   "metadata": {},
   "outputs": [],
   "source": []
  },
  {
   "cell_type": "code",
   "execution_count": null,
   "id": "eb7ec2de-6e87-49c8-b03a-f8cd8ac24638",
   "metadata": {},
   "outputs": [],
   "source": [
    "kmeans_means=pstore['locs'][-antipode_model.level_sizes[-1]:,:]\n",
    "hierarchy=scipy.cluster.hierarchy.ward(kmeans_means)\n",
    "level_assignments=[scipy.cluster.hierarchy.cut_tree(hierarchy,n_clusters=x) for x in antipode_model.level_sizes]\n",
    "adj_means_dict=calculate_layered_tree_means(kmeans_means, level_assignments)\n",
    "new_clusts=[adj_means_dict[k][j] for k in adj_means_dict.keys() for j in adj_means_dict[k].keys()]\n",
    "new_locs=np.array(new_clusts)"
   ]
  },
  {
   "cell_type": "code",
   "execution_count": null,
   "id": "00227ebf-7189-4140-a496-5b1ba7134bda",
   "metadata": {},
   "outputs": [],
   "source": [
    "#A layered tree, each cluster has membership in one cluster at each level. The output mean is the sum of the means at each level\n",
    "#The goal is to find the most efficient allocation of parameters (minimize output_mean_matrix.sum())\n",
    "#number of nodes at each level of the layered tree\n",
    "level_sizes=[1,3,5]\n",
    "latent_dim=11\n",
    "level_assignments=[[0,0,0,0,0],[0,0,1,2,0],[0,1,2,3,4]]\n",
    "#Represents the mean of the leaf node clusters\n",
    "X=np.random.standard_normal([level_sizes[-1],latent_dim])\n",
    "\n",
    "#output should be [sum(layer_sizes),11]\n",
    "#Find the cluster means output_mean_matrix"
   ]
  },
  {
   "cell_type": "code",
   "execution_count": null,
   "id": "dbe8c1bb-4f63-47f8-97d0-e568da898658",
   "metadata": {},
   "outputs": [],
   "source": [
    "def calculate_cluster_means(level_sizes, latent_dim, level_assignments, X):\n",
    "    # Prepare the output matrix, filled initially with zeros\n",
    "    total_nodes = sum(level_sizes)\n",
    "    output_mean_matrix = np.zeros((total_nodes, latent_dim))\n",
    "\n",
    "    # Start filling the output from the bottom layer, which are the leaf nodes\n",
    "    current_start_index = total_nodes - level_sizes[-1]\n",
    "    output_mean_matrix[current_start_index:] = X\n",
    "\n",
    "    # Iterate through each level (except the leaf nodes) to calculate the means\n",
    "    for level_index in range(len(level_sizes) - 2, -1, -1):\n",
    "        level_size = level_sizes[level_index]\n",
    "        child_level_size = level_sizes[level_index + 1]\n",
    "        child_level_start_index = current_start_index\n",
    "        current_start_index -= level_size\n",
    "\n",
    "        for cluster_index in range(level_size):\n",
    "            child_indices = [i for i, x in enumerate(level_assignments[level_index]) if x == cluster_index]\n",
    "            # Calculate the mean for this cluster as the sum of its children's means at the next level\n",
    "            if child_indices:  # Check if the cluster has any children\n",
    "                cluster_mean = np.mean(output_mean_matrix[child_level_start_index + np.array(child_indices)], axis=0)\n",
    "            else:\n",
    "                # If no children, this should not happen based on our setup, but we'll handle it just in case\n",
    "                cluster_mean = np.zeros(latent_dim)\n",
    "            output_mean_matrix[current_start_index + cluster_index] = cluster_mean\n",
    "\n",
    "    return output_mean_matrix"
   ]
  },
  {
   "cell_type": "code",
   "execution_count": null,
   "id": "c3d6eff9-de60-455e-9500-54e0de680218",
   "metadata": {},
   "outputs": [],
   "source": [
    "def calculate_cluster_means_inferred(X,level_assignments):\n",
    "    # Infer latent dimension from X\n",
    "    latent_dim = X.shape[1]\n",
    "    # Infer level sizes from level_assignments and X\n",
    "    level_sizes = [len(np.unique(level)) for level in level_assignments]\n",
    "    level_sizes.append(X.shape[0])  # Add the leaf level size\n",
    "    \n",
    "    # Prepare the output matrix\n",
    "    total_nodes = sum(level_sizes)\n",
    "    output_mean_matrix = np.zeros((total_nodes, latent_dim))\n",
    "    \n",
    "    # Start from the leaf nodes\n",
    "    current_start_index = total_nodes - level_sizes[-1]\n",
    "    output_mean_matrix[current_start_index:] = X\n",
    "\n",
    "    # Iterate through each level (except the leaf nodes)\n",
    "    for level_index in range(len(level_sizes) - 2, -1, -1):\n",
    "        level_size = level_sizes[level_index]\n",
    "        child_level_size = level_sizes[level_index + 1]\n",
    "        child_level_start_index = current_start_index\n",
    "        current_start_index -= level_size\n",
    "\n",
    "        for cluster_index in range(level_size):\n",
    "            child_indices = [i for i, x in enumerate(level_assignments[level_index]) if x == cluster_index]\n",
    "            if child_indices:  # If the cluster has children\n",
    "                cluster_mean = np.mean(output_mean_matrix[child_level_start_index + np.array(child_indices)], axis=0)\n",
    "            else:  # In case of no children (shouldn't happen in this setup)\n",
    "                cluster_mean = np.zeros(latent_dim)\n",
    "            output_mean_matrix[current_start_index + cluster_index] = cluster_mean\n",
    "\n",
    "    return output_mean_matrix\n",
    "\n",
    "# Run the revised function without requiring explicit level_sizes and latent_dim\n",
    "output_mean_matrix_inferred = calculate_cluster_means_inferred(X,level_assignments)\n",
    "seaborn.clustermap(output_mean_matrix_inferred)"
   ]
  },
  {
   "cell_type": "code",
   "execution_count": null,
   "id": "f59d4278-a5e5-4a3a-ad43-fdc88c0af85c",
   "metadata": {},
   "outputs": [],
   "source": [
    "def calculate_layered_tree_means(X, level_assignments):\n",
    "    leaf_means=[X[np.where(level_assignments[-1]==c)[1]].mean() for c in sorted(np.unique(level_assignments[-1]))]\n",
    "    outs=[]\n",
    "    for i,a in enumerate(level_assignments):\n",
    "        for c in sorted(np.unique(a)):\n",
    "            print(c,np.where(level_assignments==c)[1])\n"
   ]
  },
  {
   "cell_type": "code",
   "execution_count": null,
   "id": "101509db-7608-4871-ae3b-ae67babb94a7",
   "metadata": {},
   "outputs": [],
   "source": [
    "hierarchy=scipy.cluster.hierarchy.ward(kmeans_means)\n",
    "level_assignments=[scipy.cluster.hierarchy.cut_tree(hierarchy,n_clusters=x) for x in antipode_model.level_sizes]\n",
    "#seaborn.clustermap(calculate_cluster_means_inferred(kmeans_means, level_assignments),cmap='coolwarm')\n",
    "seaborn.heatmap(calculate_cluster_means(antipode_model.level_sizes, antipode_model.num_latent, level_assignments, kmeans_means),cmap='coolwarm')"
   ]
  },
  {
   "cell_type": "code",
   "execution_count": null,
   "id": "4bb81918-ad44-4e4f-9aea-e68cf67c53f1",
   "metadata": {
    "scrolled": true
   },
   "outputs": [],
   "source": [
    "\n",
    "def calculate_layered_tree_means(X, level_assignments):\n",
    "    means = {}\n",
    "    adjusted_means = {}\n",
    "    cumulative_adjustments = np.zeros_like(X[0])\n",
    "    \n",
    "    for level, assignments in enumerate(level_assignments, start=1):\n",
    "        unique_clusters = np.unique(assignments)\n",
    "        level_mean_adjustments = np.zeros_like(X[0])\n",
    "        \n",
    "        # Calculate the initial means for each cluster at the current level\n",
    "        means[level] = {}\n",
    "        for cluster in sorted(unique_clusters):\n",
    "            cluster_mean = X[assignments.flatten() == cluster].mean(axis=0)\n",
    "            means[level][cluster] = cluster_mean\n",
    "            \n",
    "            # Apply adjustments from previous levels\n",
    "            adjusted_cluster_mean = cluster_mean - cumulative_adjustments\n",
    "            adjusted_means.setdefault(level, {})[cluster] = adjusted_cluster_mean\n",
    "            \n",
    "            # Accumulate adjustments for the current level\n",
    "            level_mean_adjustments += adjusted_cluster_mean\n",
    "        \n",
    "        # Update cumulative adjustments for the next level\n",
    "        num_clusters = len(unique_clusters)\n",
    "        if num_clusters > 0:  # Avoid division by zero\n",
    "            cumulative_adjustments += level_mean_adjustments / num_clusters\n",
    "\n",
    "    return adjusted_means\n",
    "\n",
    "\n",
    "hierarchy=scipy.cluster.hierarchy.ward(kmeans_means)\n",
    "level_assignments=[scipy.cluster.hierarchy.cut_tree(hierarchy,n_clusters=x) for x in antipode_model.level_sizes]\n",
    "adj_means_dict=calculate_layered_tree_means(kmeans_means, level_assignments)\n",
    "new_clusts=[adj_means_dict[k][j] for k in adj_means_dict.keys() for j in adj_means_dict[k].keys()]\n",
    "seaborn.clustermap(np.array(new_clusts),cmap='coolwarm')"
   ]
  },
  {
   "cell_type": "code",
   "execution_count": null,
   "id": "d89ffe1b-e55f-4a4d-b9cb-e06b414b90e4",
   "metadata": {},
   "outputs": [],
   "source": [
    "seaborn.clustermap(kmeans_means-kmeans_means.mean(0,keepdims=True))"
   ]
  },
  {
   "cell_type": "code",
   "execution_count": null,
   "id": "a5bd8e6f-64bf-4e06-9e55-b729254cf6a0",
   "metadata": {},
   "outputs": [],
   "source": [
    "seaborn.histplot(adj_means_dict[1][0]+adj_means_dict[2][0]+adj_means_dict[3][0])"
   ]
  },
  {
   "cell_type": "code",
   "execution_count": null,
   "id": "8b7cd10e-9862-4e9b-b275-19aec0911286",
   "metadata": {},
   "outputs": [],
   "source": [
    "seaborn.histplot(kmeans_means.flatten())"
   ]
  },
  {
   "cell_type": "code",
   "execution_count": null,
   "id": "37871880-0ac0-4310-a112-c83a9a4e4a40",
   "metadata": {},
   "outputs": [],
   "source": []
  }
 ],
 "metadata": {
  "kernelspec": {
   "display_name": "antipode",
   "language": "python",
   "name": "antipode"
  },
  "language_info": {
   "codemirror_mode": {
    "name": "ipython",
    "version": 3
   },
   "file_extension": ".py",
   "mimetype": "text/x-python",
   "name": "python",
   "nbconvert_exporter": "python",
   "pygments_lexer": "ipython3",
   "version": "3.12.8"
  }
 },
 "nbformat": 4,
 "nbformat_minor": 5
}
