{
 "cells": [
  {
   "cell_type": "code",
   "execution_count": 1,
   "id": "3ffe491f-acab-469c-90c9-4fb859e695fd",
   "metadata": {
    "tags": []
   },
   "outputs": [],
   "source": [
    "# various import statements\n",
    "import numpy as np\n",
    "import seaborn\n",
    "import tqdm\n",
    "import math\n",
    "import matplotlib\n",
    "import matplotlib.pyplot as plt\n",
    "from matplotlib.patches import Patch\n",
    "import os\n",
    "import pandas as pd\n",
    "import re\n",
    "import pybedtools\n",
    "pybedtools.set_bedtools_path(path='/allen/programs/celltypes/workgroups/rnaseqanalysis/EvoGen/Team/Matthew/utils/miniforge3/envs/sequences/bin/')\n",
    "from pybedtools import BedTool\n",
    "import cleanome\n",
    "import cleanome.debug_gtf\n",
    "from os.path import join as pjoin"
   ]
  },
  {
   "cell_type": "markdown",
   "id": "5b349472-40ac-4912-8941-e394512bc467",
   "metadata": {
    "tags": []
   },
   "source": [
    "# Synteny enrichment\n",
    "\n",
    "Get synteny blocks across species with `./halSynteny /mnt/sda/primates_eichler-v2.hal /mnt/sda/qRhesustMouse.psl --queryGenome Rhesus --targetGenome Mouse`\n",
    "\n",
    "Make toga annotation genes as single points at start.\n",
    "\n",
    "Use pybedtools intersect start sites in synteny blocks of query species\n",
    "\n",
    "For PSL: 10th,12th, and 13th columns are like BED on the query genome, and 14,16, and 17 are like BED on the target genome"
   ]
  },
  {
   "cell_type": "code",
   "execution_count": null,
   "id": "80b611de-5a3b-456c-bcd4-8f8d8a55cd4c",
   "metadata": {},
   "outputs": [],
   "source": [
    "!/allen/programs/celltypes/workgroups/rnaseqanalysis/EvoGen/Team/Matthew/utils/cactus-bin-v2.8.0/bin/halSynteny /allen/programs/celltypes/workgroups/rnaseqanalysis/EvoGen/Team/Matthew/genome/hal/447-mammalian-2022v1.hal --minBlockSize 50000 --maxAnchorDistance 50000 /allen/programs/celltypes/workgroups/rnaseqanalysis/EvoGen/Team/Matthew/data/taxtest/gene_lists/synteny/qQtM.psl --queryGenome Macaca_mulatta --targetGenome Mus_musculus\n",
    "!/allen/programs/celltypes/workgroups/rnaseqanalysis/EvoGen/Team/Matthew/utils/cactus-bin-v2.8.0/bin/halSynteny /allen/programs/celltypes/workgroups/rnaseqanalysis/EvoGen/Team/Matthew/genome/hal/447-mammalian-2022v1.hal --minBlockSize 50000 --maxAnchorDistance 50000 /allen/programs/celltypes/workgroups/rnaseqanalysis/EvoGen/Team/Matthew/data/taxtest/gene_lists/synteny/qMtQ.psl --queryGenome Mus_musculus --targetGenome Macaca_mulatta\n",
    "!/allen/programs/celltypes/workgroups/rnaseqanalysis/EvoGen/Team/Matthew/utils/cactus-bin-v2.8.0/bin/halSynteny /allen/programs/celltypes/workgroups/rnaseqanalysis/EvoGen/Team/Matthew/genome/hal/447-mammalian-2022v1.hal --minBlockSize 50000 --maxAnchorDistance 50000 /allen/programs/celltypes/workgroups/rnaseqanalysis/EvoGen/Team/Matthew/data/taxtest/gene_lists/synteny/qMtH.psl --queryGenome Mus_musculus --targetGenome Homo_sapiens\n",
    "!/allen/programs/celltypes/workgroups/rnaseqanalysis/EvoGen/Team/Matthew/utils/cactus-bin-v2.8.0/bin/halSynteny /allen/programs/celltypes/workgroups/rnaseqanalysis/EvoGen/Team/Matthew/genome/hal/447-mammalian-2022v1.hal --minBlockSize 50000 --maxAnchorDistance 50000 /allen/programs/celltypes/workgroups/rnaseqanalysis/EvoGen/Team/Matthew/data/taxtest/gene_lists/synteny/qHtM.psl --queryGenome Homo_sapiens --targetGenome Mus_musculus\n",
    "!/allen/programs/celltypes/workgroups/rnaseqanalysis/EvoGen/Team/Matthew/utils/cactus-bin-v2.8.0/bin/halSynteny /allen/programs/celltypes/workgroups/rnaseqanalysis/EvoGen/Team/Matthew/genome/hal/447-mammalian-2022v1.hal --minBlockSize 50000 --maxAnchorDistance 50000 /allen/programs/celltypes/workgroups/rnaseqanalysis/EvoGen/Team/Matthew/data/taxtest/gene_lists/synteny/qQtH.psl --queryGenome Macaca_mulatta --targetGenome Homo_sapiens\n",
    "!/allen/programs/celltypes/workgroups/rnaseqanalysis/EvoGen/Team/Matthew/utils/cactus-bin-v2.8.0/bin/halSynteny /allen/programs/celltypes/workgroups/rnaseqanalysis/EvoGen/Team/Matthew/genome/hal/447-mammalian-2022v1.hal --minBlockSize 50000 --maxAnchorDistance 50000 /allen/programs/celltypes/workgroups/rnaseqanalysis/EvoGen/Team/Matthew/data/taxtest/gene_lists/synteny/qHtQ.psl --queryGenome Homo_sapiens --targetGenome Macaca_mulatta"
   ]
  },
  {
   "cell_type": "code",
   "execution_count": 2,
   "id": "943832df-9a3d-487e-977c-4116a44d3a99",
   "metadata": {},
   "outputs": [],
   "source": [
    "#./halSynteny /mnt/sda/primates_eichler-v2.hal /mnt/sda/qRhesustMouse.psl --queryGenome Rhesus --targetGenome Mouse\n",
    "def GetSyntenicGenes(psl_file,bed_file):\n",
    "    #Psl file should be query target output PSL from halSynteny\n",
    "    #Bed file should be toga annotation file of query species\n",
    "    qhtm=pd.read_csv(psl_file,sep='\\t',header=None)\n",
    "    \n",
    "    query=pybedtools.BedTool.from_dataframe(qhtm.loc[:,[9,11,12]])\n",
    "    #query=pybedtools.BedTool.from_dataframe(qhtm.loc[:,[13,15,16]])\n",
    "    htab=pd.read_csv(bed_file,sep='\\t',header=None)\n",
    "    \n",
    "    minus=htab[5]=='-'\n",
    "    htab.loc[minus,1]=htab.loc[minus,2]\n",
    "    htab.loc[~minus,2]=htab.loc[~minus,1]\n",
    "  \n",
    "    hbed=pybedtools.BedTool.from_dataframe(htab)\n",
    "    intersection=hbed.intersect(query)\n",
    "    l=[]\n",
    "    for i in intersection:\n",
    "        l.append(i.fields)\n",
    "\n",
    "    return(pd.DataFrame(l))"
   ]
  },
  {
   "cell_type": "code",
   "execution_count": 3,
   "id": "a8ac991c-0935-4c03-b273-b28345330932",
   "metadata": {},
   "outputs": [
    {
     "name": "stderr",
     "output_type": "stream",
     "text": [
      "***** WARNING: File /scratch/fast/16905877/pybedtools.b8q_qc0g.tmp has inconsistent naming convention for record:\n",
      "chrM\t7926\t7928\tATP6\t.\t+\n",
      "\n",
      "***** WARNING: File /scratch/fast/16905877/pybedtools.b8q_qc0g.tmp has inconsistent naming convention for record:\n",
      "chrM\t7926\t7928\tATP6\t.\t+\n",
      "\n",
      "***** WARNING: File /scratch/fast/16905877/pybedtools.osxsncd0.tmp has inconsistent naming convention for record:\n",
      "chrM\t7926\t7928\tATP6\t.\t+\n",
      "\n",
      "***** WARNING: File /scratch/fast/16905877/pybedtools.osxsncd0.tmp has inconsistent naming convention for record:\n",
      "chrM\t7926\t7928\tATP6\t.\t+\n",
      "\n"
     ]
    }
   ],
   "source": [
    "#Run with halSynteny default except for min synteny block size=100kb\n",
    "hbed='/allen/programs/celltypes/workgroups/rnaseqanalysis/EvoGen/Team/Matthew/data/taxtest/gene_lists/h_genes.bed'\n",
    "qbed='/allen/programs/celltypes/workgroups/rnaseqanalysis/EvoGen/Team/Matthew/data/taxtest/gene_lists/q_genes.bed'\n",
    "mbed='/allen/programs/celltypes/workgroups/rnaseqanalysis/EvoGen/Team/Matthew/data/taxtest/gene_lists/m_genes.bed'\n",
    "synteny_path='/allen/programs/celltypes/workgroups/rnaseqanalysis/EvoGen/Team/Matthew/data/taxtest/gene_lists/synteny50k/'\n",
    "\n",
    "qHtM_syntenic=GetSyntenicGenes(os.path.join(synteny_path,'qHtM.psl'),hbed)\n",
    "\n",
    "qHtQ_syntenic=GetSyntenicGenes(os.path.join(synteny_path,'qHtQ.psl'),hbed)\n",
    "\n",
    "qMtH_syntenic=GetSyntenicGenes(os.path.join(synteny_path,'qMtH.psl'),mbed)\n",
    "\n",
    "qMtQ_syntenic=GetSyntenicGenes(os.path.join(synteny_path,'qMtQ.psl'),mbed)\n",
    "\n",
    "qQtH_syntenic=GetSyntenicGenes(os.path.join(synteny_path,'qQtH.psl'),qbed)\n",
    "\n",
    "qQtM_syntenic=GetSyntenicGenes(os.path.join(synteny_path,'qQtM.psl'),qbed)"
   ]
  },
  {
   "cell_type": "code",
   "execution_count": 4,
   "id": "dfed6bbb-d5e9-4d04-a547-f5e950c655df",
   "metadata": {},
   "outputs": [],
   "source": [
    "qHtM_syntenic.to_csv(os.path.join(synteny_path,'qHtM_syntenic.tsv'),sep='\\t')\n",
    "\n",
    "qHtQ_syntenic.to_csv(os.path.join(synteny_path,'qHtQ_syntenic.tsv'),sep='\\t')\n",
    "\n",
    "qMtH_syntenic.to_csv(os.path.join(synteny_path,'qMtH_syntenic.tsv'),sep='\\t')\n",
    "\n",
    "qMtQ_syntenic.to_csv(os.path.join(synteny_path,'qMtQ_syntenic.tsv'),sep='\\t')\n",
    "\n",
    "qQtH_syntenic.to_csv(os.path.join(synteny_path,'qQtH_syntenic.tsv'),sep='\\t')\n",
    "\n",
    "qQtM_syntenic.to_csv(os.path.join(synteny_path,'qQtM_syntenic.tsv'),sep='\\t')"
   ]
  },
  {
   "cell_type": "markdown",
   "id": "7b3f8fee-87a5-4edc-a1ed-6909e8802420",
   "metadata": {},
   "source": [
    "# Gene Lengths and Flank Sizes\n",
    "\n",
    "Are *gene deserts* actually **regulatory jungles**?\n",
    "\n",
    "Use transcripts from H,Q,M Toga annotations, find the complement of genes. \n",
    "\n",
    "Merge and sort genes + complement.\n",
    "\n",
    "Go along chromosomes and get the sizes of the intergenic regions to the left and right of each gene, as well as the mean size of transcripts associated with that gene."
   ]
  },
  {
   "cell_type": "code",
   "execution_count": 2,
   "id": "623ef05d-43da-43e0-b968-511b67a63ffa",
   "metadata": {},
   "outputs": [],
   "source": [
    "gl_path='/allen/programs/celltypes/workgroups/rnaseqanalysis/EvoGen/Team/Matthew/data/taxtest/gene_lists'"
   ]
  },
  {
   "cell_type": "code",
   "execution_count": 3,
   "id": "777ec523-3286-4d8f-a94c-77c7906f3d7d",
   "metadata": {},
   "outputs": [
    {
     "name": "stderr",
     "output_type": "stream",
     "text": [
      "INFO:root:Extracted GTF attributes: ['transcript_id', 'gene_id', 'gene_name', 'exon_id']\n",
      "INFO:root:Extracted GTF attributes: ['gene_id', 'gene_type', 'gene_name', 'level', 'hgnc_id', 'havana_gene', 'transcript_id', 'transcript_type', 'transcript_name', 'transcript_support_level', 'tag', 'havana_transcript', 'exon_number', 'exon_id', 'ont', 'protein_id', 'ccdsid']\n",
      "INFO:root:Extracted GTF attributes: ['gene_id', 'gene_version', 'gene_name', 'gene_source', 'gene_biotype', 'havana_gene', 'havana_gene_version', 'transcript_id', 'transcript_version', 'transcript_name', 'transcript_source', 'transcript_biotype', 'havana_transcript', 'havana_transcript_version', 'tag', 'transcript_support_level', 'exon_number', 'exon_id', 'exon_version', 'ccds_id', 'protein_id', 'protein_version']\n"
     ]
    }
   ],
   "source": [
    "genome_path='/allen/programs/celltypes/workgroups/rnaseqanalysis/EvoGen/Team/Matthew/genome/kallisto'\n",
    "qGTF=cleanome.debug_gtf.polars_to_pandas(cleanome.debug_gtf.gtfparse_gtf_file(pjoin(genome_path,'CAT_chang','Rhesus.addgenes.gtf')))\n",
    "hGTF=cleanome.debug_gtf.polars_to_pandas(cleanome.debug_gtf.gtfparse_gtf_file(pjoin(genome_path,'gencodev33','gencode.v33.annotation.gtf')))\n",
    "mGTF=cleanome.debug_gtf.polars_to_pandas(cleanome.debug_gtf.gtfparse_gtf_file(pjoin(genome_path,'mm10','Mus_musculus.GRCm38.100.gtf')))"
   ]
  },
  {
   "cell_type": "code",
   "execution_count": 12,
   "id": "4f486ff8-cdf1-41b5-bcc7-cba74dbe83e2",
   "metadata": {},
   "outputs": [
    {
     "ename": "TypeError",
     "evalue": "unsupported operand type(s) for -: 'str' and 'str'",
     "output_type": "error",
     "traceback": [
      "\u001b[0;31m---------------------------------------------------------------------------\u001b[0m",
      "\u001b[0;31mTypeError\u001b[0m                                 Traceback (most recent call last)",
      "File \u001b[0;32m~/Matthew/utils/miniforge3/envs/sequences/lib/python3.10/site-packages/pandas/core/ops/array_ops.py:218\u001b[0m, in \u001b[0;36m_na_arithmetic_op\u001b[0;34m(left, right, op, is_cmp)\u001b[0m\n\u001b[1;32m    217\u001b[0m \u001b[38;5;28;01mtry\u001b[39;00m:\n\u001b[0;32m--> 218\u001b[0m     result \u001b[38;5;241m=\u001b[39m \u001b[43mfunc\u001b[49m\u001b[43m(\u001b[49m\u001b[43mleft\u001b[49m\u001b[43m,\u001b[49m\u001b[43m \u001b[49m\u001b[43mright\u001b[49m\u001b[43m)\u001b[49m\n\u001b[1;32m    219\u001b[0m \u001b[38;5;28;01mexcept\u001b[39;00m \u001b[38;5;167;01mTypeError\u001b[39;00m:\n",
      "File \u001b[0;32m~/Matthew/utils/miniforge3/envs/sequences/lib/python3.10/site-packages/pandas/core/computation/expressions.py:242\u001b[0m, in \u001b[0;36mevaluate\u001b[0;34m(op, a, b, use_numexpr)\u001b[0m\n\u001b[1;32m    240\u001b[0m     \u001b[38;5;28;01mif\u001b[39;00m use_numexpr:\n\u001b[1;32m    241\u001b[0m         \u001b[38;5;66;03m# error: \"None\" not callable\u001b[39;00m\n\u001b[0;32m--> 242\u001b[0m         \u001b[38;5;28;01mreturn\u001b[39;00m \u001b[43m_evaluate\u001b[49m\u001b[43m(\u001b[49m\u001b[43mop\u001b[49m\u001b[43m,\u001b[49m\u001b[43m \u001b[49m\u001b[43mop_str\u001b[49m\u001b[43m,\u001b[49m\u001b[43m \u001b[49m\u001b[43ma\u001b[49m\u001b[43m,\u001b[49m\u001b[43m \u001b[49m\u001b[43mb\u001b[49m\u001b[43m)\u001b[49m  \u001b[38;5;66;03m# type: ignore[misc]\u001b[39;00m\n\u001b[1;32m    243\u001b[0m \u001b[38;5;28;01mreturn\u001b[39;00m _evaluate_standard(op, op_str, a, b)\n",
      "File \u001b[0;32m~/Matthew/utils/miniforge3/envs/sequences/lib/python3.10/site-packages/pandas/core/computation/expressions.py:73\u001b[0m, in \u001b[0;36m_evaluate_standard\u001b[0;34m(op, op_str, a, b)\u001b[0m\n\u001b[1;32m     72\u001b[0m     _store_test_result(\u001b[38;5;28;01mFalse\u001b[39;00m)\n\u001b[0;32m---> 73\u001b[0m \u001b[38;5;28;01mreturn\u001b[39;00m \u001b[43mop\u001b[49m\u001b[43m(\u001b[49m\u001b[43ma\u001b[49m\u001b[43m,\u001b[49m\u001b[43m \u001b[49m\u001b[43mb\u001b[49m\u001b[43m)\u001b[49m\n",
      "\u001b[0;31mTypeError\u001b[0m: unsupported operand type(s) for -: 'str' and 'str'",
      "\nDuring handling of the above exception, another exception occurred:\n",
      "\u001b[0;31mTypeError\u001b[0m                                 Traceback (most recent call last)",
      "Cell \u001b[0;32mIn[12], line 1\u001b[0m\n\u001b[0;32m----> 1\u001b[0m seaborn\u001b[38;5;241m.\u001b[39mhistplot(np\u001b[38;5;241m.\u001b[39mlog10(\u001b[43mqGTF\u001b[49m\u001b[38;5;241;43m.\u001b[39;49m\u001b[43mloc\u001b[49m\u001b[43m[\u001b[49m\u001b[43mqGTF\u001b[49m\u001b[43m[\u001b[49m\u001b[38;5;124;43m'\u001b[39;49m\u001b[38;5;124;43mfeature\u001b[39;49m\u001b[38;5;124;43m'\u001b[39;49m\u001b[43m]\u001b[49m\u001b[38;5;241;43m==\u001b[39;49m\u001b[38;5;124;43m'\u001b[39;49m\u001b[38;5;124;43mgene\u001b[39;49m\u001b[38;5;124;43m'\u001b[39;49m\u001b[43m,\u001b[49m\u001b[38;5;124;43m'\u001b[39;49m\u001b[38;5;124;43mend\u001b[39;49m\u001b[38;5;124;43m'\u001b[39;49m\u001b[43m]\u001b[49m\u001b[38;5;241;43m-\u001b[39;49m\u001b[43mqGTF\u001b[49m\u001b[38;5;241;43m.\u001b[39;49m\u001b[43mloc\u001b[49m\u001b[43m[\u001b[49m\u001b[43mqGTF\u001b[49m\u001b[43m[\u001b[49m\u001b[38;5;124;43m'\u001b[39;49m\u001b[38;5;124;43mfeature\u001b[39;49m\u001b[38;5;124;43m'\u001b[39;49m\u001b[43m]\u001b[49m\u001b[38;5;241;43m==\u001b[39;49m\u001b[38;5;124;43m'\u001b[39;49m\u001b[38;5;124;43mgene\u001b[39;49m\u001b[38;5;124;43m'\u001b[39;49m\u001b[43m,\u001b[49m\u001b[38;5;124;43m'\u001b[39;49m\u001b[38;5;124;43mstart\u001b[39;49m\u001b[38;5;124;43m'\u001b[39;49m\u001b[43m]\u001b[49m))\n\u001b[1;32m      2\u001b[0m seaborn\u001b[38;5;241m.\u001b[39mhistplot(np\u001b[38;5;241m.\u001b[39mlog10(hGTF\u001b[38;5;241m.\u001b[39mloc[hGTF[\u001b[38;5;124m'\u001b[39m\u001b[38;5;124mfeature\u001b[39m\u001b[38;5;124m'\u001b[39m]\u001b[38;5;241m==\u001b[39m\u001b[38;5;124m'\u001b[39m\u001b[38;5;124mgene\u001b[39m\u001b[38;5;124m'\u001b[39m,\u001b[38;5;124m'\u001b[39m\u001b[38;5;124mend\u001b[39m\u001b[38;5;124m'\u001b[39m]\u001b[38;5;241m-\u001b[39mhGTF\u001b[38;5;241m.\u001b[39mloc[hGTF[\u001b[38;5;124m'\u001b[39m\u001b[38;5;124mfeature\u001b[39m\u001b[38;5;124m'\u001b[39m]\u001b[38;5;241m==\u001b[39m\u001b[38;5;124m'\u001b[39m\u001b[38;5;124mgene\u001b[39m\u001b[38;5;124m'\u001b[39m,\u001b[38;5;124m'\u001b[39m\u001b[38;5;124mstart\u001b[39m\u001b[38;5;124m'\u001b[39m]))\n\u001b[1;32m      3\u001b[0m seaborn\u001b[38;5;241m.\u001b[39mhistplot(np\u001b[38;5;241m.\u001b[39mlog10(mGTF\u001b[38;5;241m.\u001b[39mloc[mGTF[\u001b[38;5;124m'\u001b[39m\u001b[38;5;124mfeature\u001b[39m\u001b[38;5;124m'\u001b[39m]\u001b[38;5;241m==\u001b[39m\u001b[38;5;124m'\u001b[39m\u001b[38;5;124mgene\u001b[39m\u001b[38;5;124m'\u001b[39m,\u001b[38;5;124m'\u001b[39m\u001b[38;5;124mend\u001b[39m\u001b[38;5;124m'\u001b[39m]\u001b[38;5;241m-\u001b[39mmGTF\u001b[38;5;241m.\u001b[39mloc[mGTF[\u001b[38;5;124m'\u001b[39m\u001b[38;5;124mfeature\u001b[39m\u001b[38;5;124m'\u001b[39m]\u001b[38;5;241m==\u001b[39m\u001b[38;5;124m'\u001b[39m\u001b[38;5;124mgene\u001b[39m\u001b[38;5;124m'\u001b[39m,\u001b[38;5;124m'\u001b[39m\u001b[38;5;124mstart\u001b[39m\u001b[38;5;124m'\u001b[39m]))\n",
      "File \u001b[0;32m~/Matthew/utils/miniforge3/envs/sequences/lib/python3.10/site-packages/pandas/core/ops/common.py:76\u001b[0m, in \u001b[0;36m_unpack_zerodim_and_defer.<locals>.new_method\u001b[0;34m(self, other)\u001b[0m\n\u001b[1;32m     72\u001b[0m             \u001b[38;5;28;01mreturn\u001b[39;00m \u001b[38;5;28mNotImplemented\u001b[39m\n\u001b[1;32m     74\u001b[0m other \u001b[38;5;241m=\u001b[39m item_from_zerodim(other)\n\u001b[0;32m---> 76\u001b[0m \u001b[38;5;28;01mreturn\u001b[39;00m \u001b[43mmethod\u001b[49m\u001b[43m(\u001b[49m\u001b[38;5;28;43mself\u001b[39;49m\u001b[43m,\u001b[49m\u001b[43m \u001b[49m\u001b[43mother\u001b[49m\u001b[43m)\u001b[49m\n",
      "File \u001b[0;32m~/Matthew/utils/miniforge3/envs/sequences/lib/python3.10/site-packages/pandas/core/arraylike.py:194\u001b[0m, in \u001b[0;36mOpsMixin.__sub__\u001b[0;34m(self, other)\u001b[0m\n\u001b[1;32m    192\u001b[0m \u001b[38;5;129m@unpack_zerodim_and_defer\u001b[39m(\u001b[38;5;124m\"\u001b[39m\u001b[38;5;124m__sub__\u001b[39m\u001b[38;5;124m\"\u001b[39m)\n\u001b[1;32m    193\u001b[0m \u001b[38;5;28;01mdef\u001b[39;00m \u001b[38;5;21m__sub__\u001b[39m(\u001b[38;5;28mself\u001b[39m, other):\n\u001b[0;32m--> 194\u001b[0m     \u001b[38;5;28;01mreturn\u001b[39;00m \u001b[38;5;28;43mself\u001b[39;49m\u001b[38;5;241;43m.\u001b[39;49m\u001b[43m_arith_method\u001b[49m\u001b[43m(\u001b[49m\u001b[43mother\u001b[49m\u001b[43m,\u001b[49m\u001b[43m \u001b[49m\u001b[43moperator\u001b[49m\u001b[38;5;241;43m.\u001b[39;49m\u001b[43msub\u001b[49m\u001b[43m)\u001b[49m\n",
      "File \u001b[0;32m~/Matthew/utils/miniforge3/envs/sequences/lib/python3.10/site-packages/pandas/core/series.py:6126\u001b[0m, in \u001b[0;36mSeries._arith_method\u001b[0;34m(self, other, op)\u001b[0m\n\u001b[1;32m   6124\u001b[0m \u001b[38;5;28;01mdef\u001b[39;00m \u001b[38;5;21m_arith_method\u001b[39m(\u001b[38;5;28mself\u001b[39m, other, op):\n\u001b[1;32m   6125\u001b[0m     \u001b[38;5;28mself\u001b[39m, other \u001b[38;5;241m=\u001b[39m \u001b[38;5;28mself\u001b[39m\u001b[38;5;241m.\u001b[39m_align_for_op(other)\n\u001b[0;32m-> 6126\u001b[0m     \u001b[38;5;28;01mreturn\u001b[39;00m \u001b[43mbase\u001b[49m\u001b[38;5;241;43m.\u001b[39;49m\u001b[43mIndexOpsMixin\u001b[49m\u001b[38;5;241;43m.\u001b[39;49m\u001b[43m_arith_method\u001b[49m\u001b[43m(\u001b[49m\u001b[38;5;28;43mself\u001b[39;49m\u001b[43m,\u001b[49m\u001b[43m \u001b[49m\u001b[43mother\u001b[49m\u001b[43m,\u001b[49m\u001b[43m \u001b[49m\u001b[43mop\u001b[49m\u001b[43m)\u001b[49m\n",
      "File \u001b[0;32m~/Matthew/utils/miniforge3/envs/sequences/lib/python3.10/site-packages/pandas/core/base.py:1382\u001b[0m, in \u001b[0;36mIndexOpsMixin._arith_method\u001b[0;34m(self, other, op)\u001b[0m\n\u001b[1;32m   1379\u001b[0m     rvalues \u001b[38;5;241m=\u001b[39m np\u001b[38;5;241m.\u001b[39marange(rvalues\u001b[38;5;241m.\u001b[39mstart, rvalues\u001b[38;5;241m.\u001b[39mstop, rvalues\u001b[38;5;241m.\u001b[39mstep)\n\u001b[1;32m   1381\u001b[0m \u001b[38;5;28;01mwith\u001b[39;00m np\u001b[38;5;241m.\u001b[39merrstate(\u001b[38;5;28mall\u001b[39m\u001b[38;5;241m=\u001b[39m\u001b[38;5;124m\"\u001b[39m\u001b[38;5;124mignore\u001b[39m\u001b[38;5;124m\"\u001b[39m):\n\u001b[0;32m-> 1382\u001b[0m     result \u001b[38;5;241m=\u001b[39m \u001b[43mops\u001b[49m\u001b[38;5;241;43m.\u001b[39;49m\u001b[43marithmetic_op\u001b[49m\u001b[43m(\u001b[49m\u001b[43mlvalues\u001b[49m\u001b[43m,\u001b[49m\u001b[43m \u001b[49m\u001b[43mrvalues\u001b[49m\u001b[43m,\u001b[49m\u001b[43m \u001b[49m\u001b[43mop\u001b[49m\u001b[43m)\u001b[49m\n\u001b[1;32m   1384\u001b[0m \u001b[38;5;28;01mreturn\u001b[39;00m \u001b[38;5;28mself\u001b[39m\u001b[38;5;241m.\u001b[39m_construct_result(result, name\u001b[38;5;241m=\u001b[39mres_name)\n",
      "File \u001b[0;32m~/Matthew/utils/miniforge3/envs/sequences/lib/python3.10/site-packages/pandas/core/ops/array_ops.py:283\u001b[0m, in \u001b[0;36marithmetic_op\u001b[0;34m(left, right, op)\u001b[0m\n\u001b[1;32m    279\u001b[0m     _bool_arith_check(op, left, right)  \u001b[38;5;66;03m# type: ignore[arg-type]\u001b[39;00m\n\u001b[1;32m    281\u001b[0m     \u001b[38;5;66;03m# error: Argument 1 to \"_na_arithmetic_op\" has incompatible type\u001b[39;00m\n\u001b[1;32m    282\u001b[0m     \u001b[38;5;66;03m# \"Union[ExtensionArray, ndarray[Any, Any]]\"; expected \"ndarray[Any, Any]\"\u001b[39;00m\n\u001b[0;32m--> 283\u001b[0m     res_values \u001b[38;5;241m=\u001b[39m \u001b[43m_na_arithmetic_op\u001b[49m\u001b[43m(\u001b[49m\u001b[43mleft\u001b[49m\u001b[43m,\u001b[49m\u001b[43m \u001b[49m\u001b[43mright\u001b[49m\u001b[43m,\u001b[49m\u001b[43m \u001b[49m\u001b[43mop\u001b[49m\u001b[43m)\u001b[49m  \u001b[38;5;66;03m# type: ignore[arg-type]\u001b[39;00m\n\u001b[1;32m    285\u001b[0m \u001b[38;5;28;01mreturn\u001b[39;00m res_values\n",
      "File \u001b[0;32m~/Matthew/utils/miniforge3/envs/sequences/lib/python3.10/site-packages/pandas/core/ops/array_ops.py:227\u001b[0m, in \u001b[0;36m_na_arithmetic_op\u001b[0;34m(left, right, op, is_cmp)\u001b[0m\n\u001b[1;32m    219\u001b[0m \u001b[38;5;28;01mexcept\u001b[39;00m \u001b[38;5;167;01mTypeError\u001b[39;00m:\n\u001b[1;32m    220\u001b[0m     \u001b[38;5;28;01mif\u001b[39;00m \u001b[38;5;129;01mnot\u001b[39;00m is_cmp \u001b[38;5;129;01mand\u001b[39;00m (\n\u001b[1;32m    221\u001b[0m         left\u001b[38;5;241m.\u001b[39mdtype \u001b[38;5;241m==\u001b[39m \u001b[38;5;28mobject\u001b[39m \u001b[38;5;129;01mor\u001b[39;00m \u001b[38;5;28mgetattr\u001b[39m(right, \u001b[38;5;124m\"\u001b[39m\u001b[38;5;124mdtype\u001b[39m\u001b[38;5;124m\"\u001b[39m, \u001b[38;5;28;01mNone\u001b[39;00m) \u001b[38;5;241m==\u001b[39m \u001b[38;5;28mobject\u001b[39m\n\u001b[1;32m    222\u001b[0m     ):\n\u001b[0;32m   (...)\u001b[0m\n\u001b[1;32m    225\u001b[0m         \u001b[38;5;66;03m# Don't do this for comparisons, as that will handle complex numbers\u001b[39;00m\n\u001b[1;32m    226\u001b[0m         \u001b[38;5;66;03m#  incorrectly, see GH#32047\u001b[39;00m\n\u001b[0;32m--> 227\u001b[0m         result \u001b[38;5;241m=\u001b[39m \u001b[43m_masked_arith_op\u001b[49m\u001b[43m(\u001b[49m\u001b[43mleft\u001b[49m\u001b[43m,\u001b[49m\u001b[43m \u001b[49m\u001b[43mright\u001b[49m\u001b[43m,\u001b[49m\u001b[43m \u001b[49m\u001b[43mop\u001b[49m\u001b[43m)\u001b[49m\n\u001b[1;32m    228\u001b[0m     \u001b[38;5;28;01melse\u001b[39;00m:\n\u001b[1;32m    229\u001b[0m         \u001b[38;5;28;01mraise\u001b[39;00m\n",
      "File \u001b[0;32m~/Matthew/utils/miniforge3/envs/sequences/lib/python3.10/site-packages/pandas/core/ops/array_ops.py:163\u001b[0m, in \u001b[0;36m_masked_arith_op\u001b[0;34m(x, y, op)\u001b[0m\n\u001b[1;32m    161\u001b[0m     \u001b[38;5;66;03m# See GH#5284, GH#5035, GH#19448 for historical reference\u001b[39;00m\n\u001b[1;32m    162\u001b[0m     \u001b[38;5;28;01mif\u001b[39;00m mask\u001b[38;5;241m.\u001b[39many():\n\u001b[0;32m--> 163\u001b[0m         result[mask] \u001b[38;5;241m=\u001b[39m \u001b[43mop\u001b[49m\u001b[43m(\u001b[49m\u001b[43mxrav\u001b[49m\u001b[43m[\u001b[49m\u001b[43mmask\u001b[49m\u001b[43m]\u001b[49m\u001b[43m,\u001b[49m\u001b[43m \u001b[49m\u001b[43myrav\u001b[49m\u001b[43m[\u001b[49m\u001b[43mmask\u001b[49m\u001b[43m]\u001b[49m\u001b[43m)\u001b[49m\n\u001b[1;32m    165\u001b[0m \u001b[38;5;28;01melse\u001b[39;00m:\n\u001b[1;32m    166\u001b[0m     \u001b[38;5;28;01mif\u001b[39;00m \u001b[38;5;129;01mnot\u001b[39;00m is_scalar(y):\n",
      "\u001b[0;31mTypeError\u001b[0m: unsupported operand type(s) for -: 'str' and 'str'"
     ]
    }
   ],
   "source": [
    "seaborn.histplot(np.log10(qGTF.loc[qGTF['feature']=='gene','end']-qGTF.loc[qGTF['feature']=='gene','start']))\n",
    "seaborn.histplot(np.log10(hGTF.loc[hGTF['feature']=='gene','end']-hGTF.loc[hGTF['feature']=='gene','start']))\n",
    "seaborn.histplot(np.log10(mGTF.loc[mGTF['feature']=='gene','end']-mGTF.loc[mGTF['feature']=='gene','start']))"
   ]
  },
  {
   "cell_type": "code",
   "execution_count": 5,
   "id": "eca930bd-073b-40ba-88a5-ff45001e5dc8",
   "metadata": {},
   "outputs": [
    {
     "name": "stdout",
     "output_type": "stream",
     "text": [
      "fix tx bug\n"
     ]
    },
    {
     "name": "stderr",
     "output_type": "stream",
     "text": [
      "1810699it [00:59, 30350.39it/s]\n",
      "262216it [00:08, 32032.45it/s]\n",
      "/home/matthew.schmitz/utils/cleanome/cleanome/debug_gtf.py:79: FutureWarning: Setting an item of incompatible dtype is deprecated and will raise an error in a future version of pandas. Value '.' has dtype incompatible with int64, please explicitly cast to a compatible dtype first.\n",
      "  new_df.loc[new_df['feature'] == 'exon', 'frame'] = '.'\n"
     ]
    },
    {
     "name": "stdout",
     "output_type": "stream",
     "text": [
      "fix tx bug\n"
     ]
    }
   ],
   "source": [
    "qGTF=cleanome.debug_gtf.gtf_df_sort(qGTF)\n",
    "qGTF=cleanome.debug_gtf.gtf_add_missing_features_optimized(qGTF)\n",
    "qGTF=cleanome.debug_gtf.gtf_df_sort(qGTF)\n",
    "qGTF.loc[qGTF['feature']=='gene',['seqname','start','end','gene_id','score','strand']].to_csv(pjoin(gl_path,'q_genes.bed'),header=False,sep='\\t',index=False)"
   ]
  },
  {
   "cell_type": "code",
   "execution_count": 6,
   "id": "df5473e3-68c4-4cae-945e-dc2bd07627ad",
   "metadata": {},
   "outputs": [
    {
     "name": "stderr",
     "output_type": "stream",
     "text": [
      "1377112it [00:45, 30033.32it/s]\n",
      "227912it [00:07, 32023.84it/s]\n",
      "/home/matthew.schmitz/utils/cleanome/cleanome/debug_gtf.py:79: FutureWarning: Setting an item of incompatible dtype is deprecated and will raise an error in a future version of pandas. Value '.' has dtype incompatible with int64, please explicitly cast to a compatible dtype first.\n",
      "  new_df.loc[new_df['feature'] == 'exon', 'frame'] = '.'\n"
     ]
    },
    {
     "name": "stdout",
     "output_type": "stream",
     "text": [
      "fix tx bug\n"
     ]
    }
   ],
   "source": [
    "hGTF=cleanome.debug_gtf.gtf_add_missing_features_optimized(hGTF)\n",
    "hGTF=cleanome.debug_gtf.gtf_df_sort(hGTF)\n",
    "hGTF.loc[hGTF['feature']=='gene',['seqname','start','end','gene_id','score','strand']].to_csv(pjoin(gl_path,'h_genes.bed'),header=False,sep='\\t',index=False)"
   ]
  },
  {
   "cell_type": "code",
   "execution_count": 7,
   "id": "1e94a586-4a44-45f0-bf4c-8deeb6433ef2",
   "metadata": {},
   "outputs": [
    {
     "name": "stderr",
     "output_type": "stream",
     "text": [
      "843749it [00:28, 29854.90it/s]\n",
      "142736it [00:04, 32104.70it/s]\n"
     ]
    },
    {
     "name": "stdout",
     "output_type": "stream",
     "text": [
      "fix tx bug\n"
     ]
    }
   ],
   "source": [
    "mGTF=cleanome.debug_gtf.gtf_add_missing_features_optimized(mGTF)\n",
    "mGTF=cleanome.debug_gtf.gtf_df_sort(mGTF)\n",
    "mGTF.loc[mGTF['feature']=='gene',['seqname','start','end','gene_id','score','strand']].to_csv(pjoin(gl_path,'m_genes.bed'),header=False,sep='\\t',index=False)"
   ]
  },
  {
   "cell_type": "code",
   "execution_count": 13,
   "id": "7bca226d-8da4-4c35-bbb4-b79c271c25e1",
   "metadata": {},
   "outputs": [],
   "source": [
    "hG2G=dict(zip(hGTF['gene_id'],hGTF['gene_name']))\n",
    "hG2G={x:hG2G[x] if hG2G[x] != '' else x for x in hG2G.keys()}\n",
    "hT2G=dict(zip(hGTF['transcript_id'],hGTF['gene_id']))\n",
    "hT2G={x:hT2G[x] if hT2G[x] != '' else x for x in hT2G.keys()}\n",
    "qT2G=dict(zip(qGTF['transcript_id'],qGTF['gene_id']))\n",
    "qT2G={x:qT2G[x] if qT2G[x] != '' else x for x in qT2G.keys()}\n",
    "#qG2G=dict(zip(qGTF.loc[qGTF['feature']!='gene','gene_id'],qGTF.loc[qGTF['feature']!='gene','gene_name']))\n",
    "#qG2G={x:qG2G[x] if qG2G[x] != '' else x for x in qG2G.keys()}\n",
    "q=qGTF.loc[(qGTF['feature']!='gene')&(qGTF['gene_name']!=''),['gene_id','gene_name']]\n",
    "qG2G=dict(zip(q['gene_id'],q['gene_name']))\n",
    "mT2G=dict(zip(mGTF['transcript_id'],mGTF['gene_id']))\n",
    "mT2G={x:mT2G[x] if mT2G[x] != '' else x for x in mT2G.keys()}\n",
    "mG2G=dict(zip(mGTF['gene_id'],mGTF['gene_name']))\n",
    "mG2G={x:mG2G[x] if mG2G[x] != '' else x for x in mG2G.keys()}"
   ]
  },
  {
   "cell_type": "code",
   "execution_count": 14,
   "id": "65b90e45-810b-4942-84b4-7a27c4ae3293",
   "metadata": {},
   "outputs": [],
   "source": [
    "# df=pd.read_csv('/allen/programs/celltypes/workgroups/rnaseqanalysis/EvoGen/genomes/cleanome_genomes/all_gene_ids.csv',header=0)\n",
    "# mdict=dict(zip(df.loc[df['species']=='Mus_musculus','gene'],df.loc[df['species']=='Mus_musculus','ortholog_symbol']))\n",
    "\n",
    "orthos=pd.read_csv('/home/matthew.schmitz/Matthew/genome/archaic/mm10/HOM_AllOrganism.rpt',sep='\\t') #MGI ortholog table for mouse\n",
    "orthos=orthos.loc[orthos['NCBI Taxon ID'].isin([10090,9606]),:]\n",
    "classcounts=orthos['DB Class Key'].value_counts()\n",
    "one2one=classcounts.index[list(classcounts==2)]\n",
    "orthos=orthos.loc[orthos['DB Class Key'].isin(one2one),:]\n",
    "\n",
    "htab=orthos.loc[orthos['NCBI Taxon ID']==9606,:]\n",
    "mtab=orthos.loc[orthos['NCBI Taxon ID']==10090,:]\n",
    "mdict=dict(zip(mtab['Symbol'],htab['Symbol']))"
   ]
  },
  {
   "cell_type": "code",
   "execution_count": 15,
   "id": "0843c1c7-d37b-4796-aec6-fa98c4e8adbf",
   "metadata": {},
   "outputs": [],
   "source": [
    "synteny_dir='synteny50k'\n",
    "qHtQ_syntenic=pd.read_csv(pjoin(gl_path,synteny_dir,'qHtQ_syntenic.tsv'),sep='\\t')\n",
    "qQtH_syntenic=pd.read_csv(pjoin(gl_path,synteny_dir,'qQtH_syntenic.tsv'),sep='\\t')\n",
    "qHtM_syntenic=pd.read_csv(pjoin(gl_path,synteny_dir,'qHtM_syntenic.tsv'),sep='\\t')\n",
    "qMtH_syntenic=pd.read_csv(pjoin(gl_path,synteny_dir,'qMtH_syntenic.tsv'),sep='\\t')\n",
    "qQtM_syntenic=pd.read_csv(pjoin(gl_path,synteny_dir,'qQtM_syntenic.tsv'),sep='\\t')\n",
    "qMtQ_syntenic=pd.read_csv(pjoin(gl_path,synteny_dir,'qMtQ_syntenic.tsv'),sep='\\t')\n",
    "\n",
    "qHtQ_syntenic['3']=qHtQ_syntenic['3'].map(lambda x: hG2G.get(x,x))\n",
    "qHtM_syntenic['3']=qHtM_syntenic['3'].map(lambda x: hG2G.get(x,x))\n",
    "\n",
    "qMtQ_syntenic['3']=qMtQ_syntenic['3'].map(lambda x: mG2G.get(x,x))\n",
    "qMtH_syntenic['3']=qMtH_syntenic['3'].map(lambda x: mG2G.get(x,x))\n",
    "\n",
    "qQtM_syntenic['3']=qQtM_syntenic['3'].map(lambda x: qG2G.get(x,x))\n",
    "qQtH_syntenic['3']=qQtM_syntenic['3'].map(lambda x: qG2G.get(x,x))"
   ]
  },
  {
   "cell_type": "code",
   "execution_count": 16,
   "id": "2ef33f4c-9e1c-41bd-b0d6-b4dcbf30c1e0",
   "metadata": {},
   "outputs": [],
   "source": [
    "hbed='/allen/programs/celltypes/workgroups/rnaseqanalysis/EvoGen/Team/Matthew/data/taxtest/gene_lists/h_genes.bed'\n",
    "qbed='/allen/programs/celltypes/workgroups/rnaseqanalysis/EvoGen/Team/Matthew/data/taxtest/gene_lists/q_genes.bed'\n",
    "mbed='/allen/programs/celltypes/workgroups/rnaseqanalysis/EvoGen/Team/Matthew/data/taxtest/gene_lists/m_genes.bed'\n",
    "\n",
    "h_bed=pd.read_csv(hbed,sep='\\t',header=None)\n",
    "\n",
    "m_bed=pd.read_csv(mbed,sep='\\t',header=None)\n",
    "\n",
    "q_bed=pd.read_csv(qbed,sep='\\t',header=None)"
   ]
  },
  {
   "cell_type": "code",
   "execution_count": 17,
   "id": "b5dbb2d7-fd94-4c02-95e8-49a4aaba9e63",
   "metadata": {},
   "outputs": [],
   "source": [
    "h_bedtool=pybedtools.BedTool.from_dataframe(h_bed)\n",
    "h_bedtool=h_bedtool.sort()\n",
    "(h_bed.groupby(0)[2].max().sort_index(ascending=True)+1000).to_csv('/allen/programs/celltypes/workgroups/rnaseqanalysis/EvoGen/Team/Matthew/data/taxtest/gene_lists/gene_lengths/Human.from_bed.chromsizes',sep='\\t')\n",
    "h_comp=h_bedtool.complement(g='/allen/programs/celltypes/workgroups/rnaseqanalysis/EvoGen/Team/Matthew/data/taxtest/gene_lists/gene_lengths/Human.from_bed.chromsizes')"
   ]
  },
  {
   "cell_type": "code",
   "execution_count": 18,
   "id": "d1303b3c-b34f-4d90-a6d0-18226f6988ad",
   "metadata": {},
   "outputs": [],
   "source": [
    "m_bedtool=pybedtools.BedTool.from_dataframe(m_bed)\n",
    "m_bedtool=m_bedtool.sort()\n",
    "mbedmax=m_bed.groupby(0)[2].max()\n",
    "mbedmax.index=mbedmax.index.astype(str)\n",
    "(mbedmax.sort_index(ascending=True)+1000).to_csv('/allen/programs/celltypes/workgroups/rnaseqanalysis/EvoGen/Team/Matthew/data/taxtest/gene_lists/gene_lengths/Mouse.from_bed.chromsizes',sep='\\t')\n",
    "m_comp=m_bedtool.complement(g='/allen/programs/celltypes/workgroups/rnaseqanalysis/EvoGen/Team/Matthew/data/taxtest/gene_lists/gene_lengths/Mouse.from_bed.chromsizes')"
   ]
  },
  {
   "cell_type": "code",
   "execution_count": 19,
   "id": "aede21fa-1fa8-4b59-bf60-640f907d1455",
   "metadata": {},
   "outputs": [],
   "source": [
    "q_bedtool=pybedtools.BedTool.from_dataframe(q_bed)\n",
    "q_bedtool=q_bedtool.sort()\n",
    "(q_bed.groupby(0)[2].max().sort_index(ascending=True)+1000).to_csv('/allen/programs/celltypes/workgroups/rnaseqanalysis/EvoGen/Team/Matthew/data/taxtest/gene_lists/gene_lengths/Rhesus.from_bed.chromsizes',sep='\\t')\n",
    "q_comp=q_bedtool.complement(g='/allen/programs/celltypes/workgroups/rnaseqanalysis/EvoGen/Team/Matthew/data/taxtest/gene_lists/gene_lengths/Rhesus.from_bed.chromsizes')"
   ]
  },
  {
   "cell_type": "code",
   "execution_count": 20,
   "id": "7b72ee95-3136-48fe-b39b-26c07e044bfd",
   "metadata": {},
   "outputs": [],
   "source": [
    "def fix_stupid_bt_columns(df):\n",
    "    df.loc[0,:]=df.columns\n",
    "    df.columns=list(range(len(df.columns)))\n",
    "    return(df)\n",
    "\n",
    "def get_lengths_and_intergenic(query_df,comp_df):\n",
    "    query_df.columns=list(range(len(query_df.columns)))\n",
    "    comp_df.columns=list(range(len(comp_df.columns)))\n",
    "    query_df=query_df.drop(query_df.columns[4:],axis=1)\n",
    "    query_df[1]=query_df[1].astype(int)\n",
    "    query_df[2]=query_df[2].astype(int)\n",
    "    comp_df[3]='intergenic'\n",
    "    concatdf=pd.concat([comp_df,query_df],axis=0,ignore_index=True).sort_values(by=[0,1]).reset_index(drop=True)\n",
    "    concatdf[1]=concatdf[1].astype(int)\n",
    "    concatdf[2]=concatdf[2].astype(int)\n",
    "    from collections import defaultdict\n",
    "    stretches=defaultdict(lambda: defaultdict(int))\n",
    "    last_gene=''\n",
    "    for i in tqdm.tqdm(concatdf.index):\n",
    "        gene=concatdf.loc[i,3]\n",
    "        if gene==last_gene:\n",
    "            stretches[gene]['end']=max(concatdf.loc[i,2],stretches[gene]['end'])\n",
    "        elif gene!=last_gene:\n",
    "            if 'start' in stretches[gene].keys():\n",
    "                stretches[gene]['start']=min(concatdf.loc[i,1],stretches[gene]['start'])\n",
    "            else:\n",
    "                stretches[gene]['start']=concatdf.loc[i,1]\n",
    "            stretches[gene]['end']=max(concatdf.loc[i,2],stretches[gene]['end'])\n",
    "        if last_gene=='intergenic':\n",
    "            stretches[gene]['left_flank']=np.abs(concatdf.loc[i-1,1]-concatdf.loc[i-1,2])\n",
    "        if gene=='intergenic' and (i>0):\n",
    "            stretches[concatdf.loc[i-1,3]]['right_flank']=np.abs(concatdf.loc[i,1]-concatdf.loc[i,2])\n",
    "        last_gene=gene\n",
    "    stretch_df=pd.DataFrame(stretches).T\n",
    "    stretch_df['gene']=stretch_df.index.str.replace('^ENST[0-9]+\\.','').str.replace('\\.[0-9]*$','')\n",
    "    stretch_df['gene_size']=np.abs(stretch_df['start']-stretch_df['end'])\n",
    "    stretches_genes_df=pd.DataFrame([\n",
    "        stretch_df.groupby('gene')['gene_size'].max(),\n",
    "        stretch_df.groupby('gene')['left_flank'].min().fillna(0),\n",
    "        stretch_df.groupby('gene')['right_flank'].min().fillna(0)\n",
    "    ])\n",
    "    return(stretches_genes_df.T.drop('intergenic'))"
   ]
  },
  {
   "cell_type": "code",
   "execution_count": 21,
   "id": "4c2bb07e-f3d0-4ab8-b56d-22c9db573758",
   "metadata": {},
   "outputs": [],
   "source": [
    "#Human doesn't include gene name in transcript\n",
    "hdf=h_bedtool.to_dataframe(disable_auto_names=True,header=0)\n",
    "#hdf.iloc[:,3]=[re.sub('\\.','.'+y+'.',x) for x,y in zip(hdf.iloc[:,3],hdf.iloc[:,17])]#???"
   ]
  },
  {
   "cell_type": "code",
   "execution_count": 22,
   "id": "1ac27623-bf12-4caa-b543-36c7a4dbfc4c",
   "metadata": {},
   "outputs": [
    {
     "data": {
      "text/html": [
       "<div>\n",
       "<style scoped>\n",
       "    .dataframe tbody tr th:only-of-type {\n",
       "        vertical-align: middle;\n",
       "    }\n",
       "\n",
       "    .dataframe tbody tr th {\n",
       "        vertical-align: top;\n",
       "    }\n",
       "\n",
       "    .dataframe thead th {\n",
       "        text-align: right;\n",
       "    }\n",
       "</style>\n",
       "<table border=\"1\" class=\"dataframe\">\n",
       "  <thead>\n",
       "    <tr style=\"text-align: right;\">\n",
       "      <th></th>\n",
       "      <th>chr1</th>\n",
       "      <th>11869</th>\n",
       "      <th>14409</th>\n",
       "      <th>ENSG00000223972.5</th>\n",
       "      <th>.</th>\n",
       "      <th>+</th>\n",
       "    </tr>\n",
       "  </thead>\n",
       "  <tbody>\n",
       "    <tr>\n",
       "      <th>0</th>\n",
       "      <td>chr1</td>\n",
       "      <td>14404</td>\n",
       "      <td>29570</td>\n",
       "      <td>ENSG00000227232.5</td>\n",
       "      <td>.</td>\n",
       "      <td>-</td>\n",
       "    </tr>\n",
       "    <tr>\n",
       "      <th>1</th>\n",
       "      <td>chr1</td>\n",
       "      <td>17369</td>\n",
       "      <td>17436</td>\n",
       "      <td>ENSG00000278267.1</td>\n",
       "      <td>.</td>\n",
       "      <td>-</td>\n",
       "    </tr>\n",
       "    <tr>\n",
       "      <th>2</th>\n",
       "      <td>chr1</td>\n",
       "      <td>29554</td>\n",
       "      <td>31109</td>\n",
       "      <td>ENSG00000243485.5</td>\n",
       "      <td>.</td>\n",
       "      <td>+</td>\n",
       "    </tr>\n",
       "    <tr>\n",
       "      <th>3</th>\n",
       "      <td>chr1</td>\n",
       "      <td>30366</td>\n",
       "      <td>30503</td>\n",
       "      <td>ENSG00000284332.1</td>\n",
       "      <td>.</td>\n",
       "      <td>+</td>\n",
       "    </tr>\n",
       "    <tr>\n",
       "      <th>4</th>\n",
       "      <td>chr1</td>\n",
       "      <td>34554</td>\n",
       "      <td>36081</td>\n",
       "      <td>ENSG00000237613.2</td>\n",
       "      <td>.</td>\n",
       "      <td>-</td>\n",
       "    </tr>\n",
       "    <tr>\n",
       "      <th>...</th>\n",
       "      <td>...</td>\n",
       "      <td>...</td>\n",
       "      <td>...</td>\n",
       "      <td>...</td>\n",
       "      <td>...</td>\n",
       "      <td>...</td>\n",
       "    </tr>\n",
       "    <tr>\n",
       "      <th>60656</th>\n",
       "      <td>chrY</td>\n",
       "      <td>57184101</td>\n",
       "      <td>57197337</td>\n",
       "      <td>ENSG00000124334.17_PAR_Y</td>\n",
       "      <td>.</td>\n",
       "      <td>+</td>\n",
       "    </tr>\n",
       "    <tr>\n",
       "      <th>60657</th>\n",
       "      <td>chrY</td>\n",
       "      <td>57190738</td>\n",
       "      <td>57208756</td>\n",
       "      <td>ENSG00000270726.6_PAR_Y</td>\n",
       "      <td>.</td>\n",
       "      <td>+</td>\n",
       "    </tr>\n",
       "    <tr>\n",
       "      <th>60658</th>\n",
       "      <td>chrY</td>\n",
       "      <td>57201143</td>\n",
       "      <td>57203357</td>\n",
       "      <td>ENSG00000185203.12_PAR_Y</td>\n",
       "      <td>.</td>\n",
       "      <td>-</td>\n",
       "    </tr>\n",
       "    <tr>\n",
       "      <th>60659</th>\n",
       "      <td>chrY</td>\n",
       "      <td>57207346</td>\n",
       "      <td>57212230</td>\n",
       "      <td>ENSG00000182484.15_PAR_Y</td>\n",
       "      <td>.</td>\n",
       "      <td>+</td>\n",
       "    </tr>\n",
       "    <tr>\n",
       "      <th>60660</th>\n",
       "      <td>chrY</td>\n",
       "      <td>57212184</td>\n",
       "      <td>57214397</td>\n",
       "      <td>ENSG00000227159.8_PAR_Y</td>\n",
       "      <td>.</td>\n",
       "      <td>-</td>\n",
       "    </tr>\n",
       "  </tbody>\n",
       "</table>\n",
       "<p>60661 rows × 6 columns</p>\n",
       "</div>"
      ],
      "text/plain": [
       "       chr1     11869     14409         ENSG00000223972.5  .  +\n",
       "0      chr1     14404     29570         ENSG00000227232.5  .  -\n",
       "1      chr1     17369     17436         ENSG00000278267.1  .  -\n",
       "2      chr1     29554     31109         ENSG00000243485.5  .  +\n",
       "3      chr1     30366     30503         ENSG00000284332.1  .  +\n",
       "4      chr1     34554     36081         ENSG00000237613.2  .  -\n",
       "...     ...       ...       ...                       ... .. ..\n",
       "60656  chrY  57184101  57197337  ENSG00000124334.17_PAR_Y  .  +\n",
       "60657  chrY  57190738  57208756   ENSG00000270726.6_PAR_Y  .  +\n",
       "60658  chrY  57201143  57203357  ENSG00000185203.12_PAR_Y  .  -\n",
       "60659  chrY  57207346  57212230  ENSG00000182484.15_PAR_Y  .  +\n",
       "60660  chrY  57212184  57214397   ENSG00000227159.8_PAR_Y  .  -\n",
       "\n",
       "[60661 rows x 6 columns]"
      ]
     },
     "execution_count": 22,
     "metadata": {},
     "output_type": "execute_result"
    }
   ],
   "source": [
    "hdf"
   ]
  },
  {
   "cell_type": "code",
   "execution_count": 23,
   "id": "38766c3e-466e-4ab9-939c-1149d9335aaa",
   "metadata": {},
   "outputs": [
    {
     "name": "stderr",
     "output_type": "stream",
     "text": [
      "100%|██████████| 97093/97093 [00:02<00:00, 37401.24it/s]\n",
      "100%|██████████| 93592/93592 [00:02<00:00, 35884.03it/s]\n",
      "100%|██████████| 93882/93882 [00:02<00:00, 33881.78it/s]\n"
     ]
    }
   ],
   "source": [
    "q_length_intergenic=get_lengths_and_intergenic(q_bedtool.to_dataframe(disable_auto_names=True,header=None),\n",
    "                                               q_comp.to_dataframe(disable_auto_names=True,header=None))\n",
    "h_length_intergenic=get_lengths_and_intergenic(h_bedtool.to_dataframe(disable_auto_names=True),\n",
    "                                               h_comp.to_dataframe(disable_auto_names=True))\n",
    "m_length_intergenic=get_lengths_and_intergenic(m_bedtool.to_dataframe(disable_auto_names=True),\n",
    "                                               m_comp.to_dataframe(disable_auto_names=True))"
   ]
  },
  {
   "cell_type": "code",
   "execution_count": 24,
   "id": "12c957ca-87c4-4996-8f10-d75a106454e5",
   "metadata": {},
   "outputs": [],
   "source": [
    "q_length_intergenic.to_csv('/allen/programs/celltypes/workgroups/rnaseqanalysis/EvoGen/Team/Matthew/data/taxtest/gene_lists/gene_lengths/GeneSizeAndIntergenic_Q.tsv',sep='\\t')\n",
    "h_length_intergenic.to_csv('/allen/programs/celltypes/workgroups/rnaseqanalysis/EvoGen/Team/Matthew/data/taxtest/gene_lists/gene_lengths/GeneSizeAndIntergenic_H.tsv',sep='\\t')\n",
    "m_length_intergenic.to_csv('/allen/programs/celltypes/workgroups/rnaseqanalysis/EvoGen/Team/Matthew/data/taxtest/gene_lists/gene_lengths/GeneSizeAndIntergenic_M.tsv',sep='\\t')"
   ]
  },
  {
   "cell_type": "code",
   "execution_count": 25,
   "id": "11b8050c-82ca-4582-8797-64cdf69bc8ca",
   "metadata": {},
   "outputs": [],
   "source": [
    "len_dir='gene_lengths'\n",
    "hLen=pd.read_csv(pjoin(gl_path,len_dir,'GeneSizeAndIntergenic_H.tsv'),sep='\\t')\n",
    "qLen=pd.read_csv(pjoin(gl_path,len_dir,'GeneSizeAndIntergenic_Q.tsv'),sep='\\t')\n",
    "mLen=pd.read_csv(pjoin(gl_path,len_dir,'GeneSizeAndIntergenic_M.tsv'),sep='\\t')"
   ]
  },
  {
   "cell_type": "code",
   "execution_count": 26,
   "id": "dab4b7a6-6749-4655-a2e9-2aa876745cc4",
   "metadata": {},
   "outputs": [],
   "source": [
    "hLen['gene']=hLen['gene'].map(lambda x: hT2G.get(x,x)).map(lambda x: hG2G.get(x,x))\n",
    "qLen['gene']=qLen['gene'].map(lambda x: qT2G.get(x,x)).map(lambda x: qG2G.get(x,x))\n",
    "mLen['gene']=mLen['gene'].map(lambda x: mT2G.get(x,x)).map(lambda x: mdict.get(x,x)).map(lambda x: mG2G.get(x,x))"
   ]
  },
  {
   "cell_type": "code",
   "execution_count": 27,
   "id": "5529c15e-c027-44b3-94cd-9b9e9030d984",
   "metadata": {},
   "outputs": [],
   "source": [
    "synteny_lists={'h':qHtM_syntenic['3'].unique(),\n",
    "               'q':qQtM_syntenic['3'].unique(),\n",
    "               'm':qMtH_syntenic['3'].unique(),\n",
    "}"
   ]
  },
  {
   "cell_type": "code",
   "execution_count": 29,
   "id": "427322d4-d8c9-4a47-993c-e45c607a5c2f",
   "metadata": {},
   "outputs": [],
   "source": [
    "hLen['syntenic']=hLen['gene'].isin(synteny_lists['h'])\n",
    "qLen['syntenic']=qLen['gene'].isin(synteny_lists['q'])\n",
    "mLen['syntenic']=mLen['gene'].isin(synteny_lists['m'])"
   ]
  },
  {
   "cell_type": "code",
   "execution_count": 31,
   "id": "1952fc86-6965-404a-aeda-6492633f4e40",
   "metadata": {},
   "outputs": [
    {
     "data": {
      "text/plain": [
       "<Axes: xlabel='gene_size', ylabel='Count'>"
      ]
     },
     "execution_count": 31,
     "metadata": {},
     "output_type": "execute_result"
    },
    {
     "data": {
      "image/png": "[encoded data removed]",
      "text/plain": [
       "<Figure size 640x480 with 1 Axes>"
      ]
     },
     "metadata": {},
     "output_type": "display_data"
    }
   ],
   "source": [
    "seaborn.histplot(np.log10(hLen['gene_size']))\n",
    "seaborn.histplot(np.log10(qLen['gene_size']))\n",
    "seaborn.histplot(np.log10(mLen['gene_size']))\n"
   ]
  },
  {
   "cell_type": "code",
   "execution_count": 32,
   "id": "da13d73d-13b9-4897-8afb-801bcace5bf6",
   "metadata": {},
   "outputs": [],
   "source": [
    "hLen.to_csv(pjoin(gl_path,'human_lengths_synteny.txt'),sep='\\t')\n",
    "qLen.to_csv(pjoin(gl_path,'macaque_lengths_synteny.txt'),sep='\\t')\n",
    "mLen.to_csv(pjoin(gl_path,'mouse_lengths_synteny.txt'),sep='\\t')\n"
   ]
  },
  {
   "cell_type": "markdown",
   "id": "961bf78d-7e69-4bb0-9873-f865ae1985da",
   "metadata": {},
   "source": [
    "# Flanking Enhancers\n",
    "\n",
    "Are *gene deserts* actually **regulatory jungles**? (Part 2)\n",
    "\n",
    "Count the number of predicted enhancers flanking genes\n",
    "\n",
    "Given a window of 100K from the start site, how many enhancers are contained?"
   ]
  },
  {
   "cell_type": "code",
   "execution_count": null,
   "id": "6bcbaba0-1ecd-4cf7-b509-b3e72b7bf08f",
   "metadata": {},
   "outputs": [],
   "source": []
  },
  {
   "cell_type": "markdown",
   "id": "90ce99f4-1238-4315-958a-a32a50950613",
   "metadata": {},
   "source": [
    "# Transcription Factors\n",
    "\n",
    "Are transcription factors regulated differently from other genes?"
   ]
  },
  {
   "cell_type": "code",
   "execution_count": 27,
   "id": "2d33a6cf-1f89-4d6e-bf78-34fff6300a2a",
   "metadata": {},
   "outputs": [
    {
     "data": {
      "text/plain": [
       "0       TFAP2A\n",
       "1       TFAP2B\n",
       "2       TFAP2C\n",
       "3       TFAP2D\n",
       "4       TFAP2E\n",
       "         ...  \n",
       "2760    ZNF738\n",
       "2761    ZNF862\n",
       "2762     ZNFX1\n",
       "2763    ZRANB2\n",
       "2764    ZFAND5\n",
       "Name: HGNC symbol, Length: 2765, dtype: object"
      ]
     },
     "execution_count": 27,
     "metadata": {},
     "output_type": "execute_result"
    }
   ],
   "source": [
    "tf_list=pd.read_csv('/allen/programs/celltypes/workgroups/rnaseqanalysis/EvoGen/Team/Matthew/data/taxtest/gene_lists/TFs_lambert_pmid29425488_1.01.txt',sep='\\t')"
   ]
  },
  {
   "cell_type": "code",
   "execution_count": 212,
   "id": "1e6e6e4e-6750-4e07-a228-06e2fcfe6edf",
   "metadata": {},
   "outputs": [
    {
     "ename": "ModuleNotFoundError",
     "evalue": "No module named 'gseapy'",
     "output_type": "error",
     "traceback": [
      "\u001b[0;31m---------------------------------------------------------------------------\u001b[0m",
      "\u001b[0;31mModuleNotFoundError\u001b[0m                       Traceback (most recent call last)",
      "Cell \u001b[0;32mIn [212], line 1\u001b[0m\n\u001b[0;32m----> 1\u001b[0m \u001b[38;5;28;01mimport\u001b[39;00m \u001b[38;5;21;01mgseapy\u001b[39;00m \u001b[38;5;28;01mas\u001b[39;00m \u001b[38;5;21;01mgp\u001b[39;00m\n\u001b[1;32m      2\u001b[0m gp\u001b[38;5;241m.\u001b[39mget_library_name()\n\u001b[1;32m      3\u001b[0m \u001b[38;5;28mprint\u001b[39m([x \u001b[38;5;28;01mfor\u001b[39;00m x \u001b[38;5;129;01min\u001b[39;00m  gp\u001b[38;5;241m.\u001b[39mget_library(\u001b[38;5;124m'\u001b[39m\u001b[38;5;124mGO_Molecular_Function_2023\u001b[39m\u001b[38;5;124m'\u001b[39m)\u001b[38;5;241m.\u001b[39mkeys() \u001b[38;5;28;01mif\u001b[39;00m \u001b[38;5;124m'\u001b[39m\u001b[38;5;124mription\u001b[39m\u001b[38;5;124m'\u001b[39m \u001b[38;5;129;01min\u001b[39;00m x])\n",
      "\u001b[0;31mModuleNotFoundError\u001b[0m: No module named 'gseapy'"
     ]
    }
   ],
   "source": [
    "import gseapy as gp\n",
    "gp.get_library_name()\n",
    "print([x for x in  gp.get_library('GO_Molecular_Function_2023').keys() if 'ription' in x])\n",
    "gp.get_library('GO_Molecular_Function_2023')['DNA-binding Transcription Factor Binding (GO:0140297)']\n",
    "gp.get_library('GO_Molecular_Function_2023')['DNA-binding Transcription Activator Activity, RNA Polymerase II-specific (GO:0001228)']\n",
    "gp.get_library('GO_Molecular_Function_2023')['DNA-binding Transcription Repressor Activity, RNA Polymerase II-specific (GO:0001227)']"
   ]
  }
 ],
 "metadata": {
  "kernelspec": {
   "display_name": "sequences",
   "language": "python",
   "name": "sequences"
  },
  "language_info": {
   "codemirror_mode": {
    "name": "ipython",
    "version": 3
   },
   "file_extension": ".py",
   "mimetype": "text/x-python",
   "name": "python",
   "nbconvert_exporter": "python",
   "pygments_lexer": "ipython3",
   "version": "3.10.14"
  }
 },
 "nbformat": 4,
 "nbformat_minor": 5
}
